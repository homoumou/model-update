{
 "cells": [
  {
   "cell_type": "code",
   "execution_count": 2,
   "id": "faba3f1d",
   "metadata": {
    "executionInfo": {
     "elapsed": 4157,
     "status": "ok",
     "timestamp": 1632095910802,
     "user": {
      "displayName": "何某某",
      "photoUrl": "https://lh3.googleusercontent.com/a/default-user=s64",
      "userId": "11716924609171587007"
     },
     "user_tz": -600
    },
    "id": "02a84ca6"
   },
   "outputs": [],
   "source": [
    "import pandas as pd\n",
    "import numpy as np \n",
    "import torch\n",
    "from torch import nn\n",
    "from torch.utils import data\n",
    "from torch.nn import functional as F\n",
    "from torchsummary import summary\n",
    "from torch.autograd import Variable"
   ]
  },
  {
   "cell_type": "code",
   "execution_count": 3,
   "id": "69d9e896",
   "metadata": {
    "colab": {
     "base_uri": "https://localhost:8080/"
    },
    "executionInfo": {
     "elapsed": 7,
     "status": "ok",
     "timestamp": 1632095910804,
     "user": {
      "displayName": "何某某",
      "photoUrl": "https://lh3.googleusercontent.com/a/default-user=s64",
      "userId": "11716924609171587007"
     },
     "user_tz": -600
    },
    "id": "dwTdhY-6dDfZ",
    "outputId": "ce686ada-f273-430f-ce07-305a1b096d3f"
   },
   "outputs": [
    {
     "name": "stdout",
     "output_type": "stream",
     "text": [
      "GPU: False\n"
     ]
    }
   ],
   "source": [
    "print('GPU:', torch.cuda.is_available())"
   ]
  },
  {
   "cell_type": "code",
   "execution_count": 4,
   "id": "7c0fc9c2",
   "metadata": {
    "colab": {
     "base_uri": "https://localhost:8080/"
    },
    "executionInfo": {
     "elapsed": 656,
     "status": "ok",
     "timestamp": 1632095911456,
     "user": {
      "displayName": "何某某",
      "photoUrl": "https://lh3.googleusercontent.com/a/default-user=s64",
      "userId": "11716924609171587007"
     },
     "user_tz": -600
    },
    "id": "fkuIt19Kfqqi",
    "outputId": "36f3906f-add0-40fe-adce-31bc2a5f5d5d"
   },
   "outputs": [
    {
     "name": "stdout",
     "output_type": "stream",
     "text": [
      "/bin/bash: google-drive-ocamlfuse: command not found\n"
     ]
    }
   ],
   "source": [
    "!mkdir -p drive\n",
    "!google-drive-ocamlfuse drive  -o nonempty"
   ]
  },
  {
   "cell_type": "markdown",
   "id": "33f6656f",
   "metadata": {
    "id": "8f4c2232"
   },
   "source": [
    "# Load Data"
   ]
  },
  {
   "cell_type": "code",
   "execution_count": 5,
   "id": "d83193da",
   "metadata": {
    "colab": {
     "base_uri": "https://localhost:8080/"
    },
    "executionInfo": {
     "elapsed": 9,
     "status": "ok",
     "timestamp": 1632095911457,
     "user": {
      "displayName": "何某某",
      "photoUrl": "https://lh3.googleusercontent.com/a/default-user=s64",
      "userId": "11716924609171587007"
     },
     "user_tz": -600
    },
    "id": "8D1-2CHZgMw5",
    "outputId": "68441c07-d418-4999-c9cb-4dba4a26a257"
   },
   "outputs": [
    {
     "name": "stdout",
     "output_type": "stream",
     "text": [
      "Drive already mounted at /content/drive; to attempt to forcibly remount, call drive.mount(\"/content/drive\", force_remount=True).\n"
     ]
    }
   ],
   "source": [
    "# from google.colab import drive\n",
    "# drive.mount('/content/drive')"
   ]
  },
  {
   "cell_type": "code",
   "execution_count": 6,
   "id": "60c8e809",
   "metadata": {
    "colab": {
     "base_uri": "https://localhost:8080/"
    },
    "executionInfo": {
     "elapsed": 2677,
     "status": "ok",
     "timestamp": 1632095914128,
     "user": {
      "displayName": "何某某",
      "photoUrl": "https://lh3.googleusercontent.com/a/default-user=s64",
      "userId": "11716924609171587007"
     },
     "user_tz": -600
    },
    "id": "d0d416f0",
    "outputId": "5ee9b8ca-c2d5-4a74-e2fb-4cd22ae525eb"
   },
   "outputs": [
    {
     "name": "stdout",
     "output_type": "stream",
     "text": [
      "['/content/drive/MyDrive/Colab Notebooks/Dataset/data1.csv', '/content/drive/MyDrive/Colab Notebooks/Dataset/data2.csv', '/content/drive/MyDrive/Colab Notebooks/Dataset/data3.csv', '/content/drive/MyDrive/Colab Notebooks/Dataset/data4.csv', '/content/drive/MyDrive/Colab Notebooks/Dataset/data5.csv', '/content/drive/MyDrive/Colab Notebooks/Dataset/data6.csv', '/content/drive/MyDrive/Colab Notebooks/Dataset/data8.csv', '/content/drive/MyDrive/Colab Notebooks/Dataset/data9.csv', '/content/drive/MyDrive/Colab Notebooks/Dataset/data10.csv', '/content/drive/MyDrive/Colab Notebooks/Dataset/data11.csv', '/content/drive/MyDrive/Colab Notebooks/Dataset/data12.csv', '/content/drive/MyDrive/Colab Notebooks/Dataset/data13.csv', '/content/drive/MyDrive/Colab Notebooks/Dataset/data14.csv', '/content/drive/MyDrive/Colab Notebooks/Dataset/data15.csv', '/content/drive/MyDrive/Colab Notebooks/Dataset/data7.csv']\n"
     ]
    }
   ],
   "source": [
    "# Read the data\n",
    "import glob,os\n",
    "# path=r'../Dataset/'\n",
    "path=r'../Dataset/'\n",
    "file=glob.glob(os.path.join(path, \"data*.csv\"))\n",
    "print(file)\n",
    "dl= []\n",
    "for f in file:\n",
    " dl.append(pd.read_csv(f,header=[0],index_col=None))\n",
    "df=pd.concat(dl)"
   ]
  },
  {
   "cell_type": "code",
   "execution_count": 7,
   "id": "9c890aa4",
   "metadata": {
    "colab": {
     "base_uri": "https://localhost:8080/"
    },
    "executionInfo": {
     "elapsed": 22,
     "status": "ok",
     "timestamp": 1632095914135,
     "user": {
      "displayName": "何某某",
      "photoUrl": "https://lh3.googleusercontent.com/a/default-user=s64",
      "userId": "11716924609171587007"
     },
     "user_tz": -600
    },
    "id": "26fe99b1",
    "outputId": "6cf7120d-9c86-4c29-a383-2132d5f91135"
   },
   "outputs": [
    {
     "data": {
      "text/plain": [
       "(78377, 129)"
      ]
     },
     "execution_count": 7,
     "metadata": {},
     "output_type": "execute_result"
    }
   ],
   "source": [
    "df.shape"
   ]
  },
  {
   "cell_type": "code",
   "execution_count": 8,
   "id": "c6fa23d9",
   "metadata": {
    "colab": {
     "base_uri": "https://localhost:8080/",
     "height": 272
    },
    "executionInfo": {
     "elapsed": 18,
     "status": "ok",
     "timestamp": 1632095914136,
     "user": {
      "displayName": "何某某",
      "photoUrl": "https://lh3.googleusercontent.com/a/default-user=s64",
      "userId": "11716924609171587007"
     },
     "user_tz": -600
    },
    "id": "a7ce2ad4",
    "outputId": "9a7f4b65-a8d4-4652-bc6d-b5b33ae0694b"
   },
   "outputs": [
    {
     "data": {
      "text/html": [
       "<div>\n",
       "<style scoped>\n",
       "    .dataframe tbody tr th:only-of-type {\n",
       "        vertical-align: middle;\n",
       "    }\n",
       "\n",
       "    .dataframe tbody tr th {\n",
       "        vertical-align: top;\n",
       "    }\n",
       "\n",
       "    .dataframe thead th {\n",
       "        text-align: right;\n",
       "    }\n",
       "</style>\n",
       "<table border=\"1\" class=\"dataframe\">\n",
       "  <thead>\n",
       "    <tr style=\"text-align: right;\">\n",
       "      <th></th>\n",
       "      <th>R1-PA1:VH</th>\n",
       "      <th>R1-PM1:V</th>\n",
       "      <th>R1-PA2:VH</th>\n",
       "      <th>R1-PM2:V</th>\n",
       "      <th>R1-PA3:VH</th>\n",
       "      <th>R1-PM3:V</th>\n",
       "      <th>R1-PA4:IH</th>\n",
       "      <th>R1-PM4:I</th>\n",
       "      <th>R1-PA5:IH</th>\n",
       "      <th>R1-PM5:I</th>\n",
       "      <th>R1-PA6:IH</th>\n",
       "      <th>R1-PM6:I</th>\n",
       "      <th>R1-PA7:VH</th>\n",
       "      <th>R1-PM7:V</th>\n",
       "      <th>R1-PA8:VH</th>\n",
       "      <th>R1-PM8:V</th>\n",
       "      <th>R1-PA9:VH</th>\n",
       "      <th>R1-PM9:V</th>\n",
       "      <th>R1-PA10:IH</th>\n",
       "      <th>R1-PM10:I</th>\n",
       "      <th>R1-PA11:IH</th>\n",
       "      <th>R1-PM11:I</th>\n",
       "      <th>R1-PA12:IH</th>\n",
       "      <th>R1-PM12:I</th>\n",
       "      <th>R1:F</th>\n",
       "      <th>R1:DF</th>\n",
       "      <th>R1-PA:Z</th>\n",
       "      <th>R1-PA:ZH</th>\n",
       "      <th>R1:S</th>\n",
       "      <th>R2-PA1:VH</th>\n",
       "      <th>R2-PM1:V</th>\n",
       "      <th>R2-PA2:VH</th>\n",
       "      <th>R2-PM2:V</th>\n",
       "      <th>R2-PA3:VH</th>\n",
       "      <th>R2-PM3:V</th>\n",
       "      <th>R2-PA4:IH</th>\n",
       "      <th>R2-PM4:I</th>\n",
       "      <th>R2-PA5:IH</th>\n",
       "      <th>R2-PM5:I</th>\n",
       "      <th>R2-PA6:IH</th>\n",
       "      <th>...</th>\n",
       "      <th>R4-PA2:VH</th>\n",
       "      <th>R4-PM2:V</th>\n",
       "      <th>R4-PA3:VH</th>\n",
       "      <th>R4-PM3:V</th>\n",
       "      <th>R4-PA4:IH</th>\n",
       "      <th>R4-PM4:I</th>\n",
       "      <th>R4-PA5:IH</th>\n",
       "      <th>R4-PM5:I</th>\n",
       "      <th>R4-PA6:IH</th>\n",
       "      <th>R4-PM6:I</th>\n",
       "      <th>R4-PA7:VH</th>\n",
       "      <th>R4-PM7:V</th>\n",
       "      <th>R4-PA8:VH</th>\n",
       "      <th>R4-PM8:V</th>\n",
       "      <th>R4-PA9:VH</th>\n",
       "      <th>R4-PM9:V</th>\n",
       "      <th>R4-PA10:IH</th>\n",
       "      <th>R4-PM10:I</th>\n",
       "      <th>R4-PA11:IH</th>\n",
       "      <th>R4-PM11:I</th>\n",
       "      <th>R4-PA12:IH</th>\n",
       "      <th>R4-PM12:I</th>\n",
       "      <th>R4:F</th>\n",
       "      <th>R4:DF</th>\n",
       "      <th>R4-PA:Z</th>\n",
       "      <th>R4-PA:ZH</th>\n",
       "      <th>R4:S</th>\n",
       "      <th>control_panel_log1</th>\n",
       "      <th>control_panel_log2</th>\n",
       "      <th>control_panel_log3</th>\n",
       "      <th>control_panel_log4</th>\n",
       "      <th>relay1_log</th>\n",
       "      <th>relay2_log</th>\n",
       "      <th>relay3_log</th>\n",
       "      <th>relay4_log</th>\n",
       "      <th>snort_log1</th>\n",
       "      <th>snort_log2</th>\n",
       "      <th>snort_log3</th>\n",
       "      <th>snort_log4</th>\n",
       "      <th>marker</th>\n",
       "    </tr>\n",
       "  </thead>\n",
       "  <tbody>\n",
       "    <tr>\n",
       "      <th>0</th>\n",
       "      <td>70.399324</td>\n",
       "      <td>127673.0908</td>\n",
       "      <td>-49.572308</td>\n",
       "      <td>127648.0176</td>\n",
       "      <td>-169.578319</td>\n",
       "      <td>127723.2374</td>\n",
       "      <td>65.689611</td>\n",
       "      <td>605.91099</td>\n",
       "      <td>-57.003571</td>\n",
       "      <td>626.78553</td>\n",
       "      <td>-173.589023</td>\n",
       "      <td>602.43190</td>\n",
       "      <td>70.422243</td>\n",
       "      <td>127673.0908</td>\n",
       "      <td>0.0</td>\n",
       "      <td>0.0</td>\n",
       "      <td>0.0</td>\n",
       "      <td>0.0</td>\n",
       "      <td>65.007791</td>\n",
       "      <td>611.58740</td>\n",
       "      <td>118.567886</td>\n",
       "      <td>13.18392</td>\n",
       "      <td>-100.869220</td>\n",
       "      <td>13.91636</td>\n",
       "      <td>59.999</td>\n",
       "      <td>0.01</td>\n",
       "      <td>6.391383</td>\n",
       "      <td>0.076290</td>\n",
       "      <td>0</td>\n",
       "      <td>60.658268</td>\n",
       "      <td>124631.8125</td>\n",
       "      <td>-59.295959</td>\n",
       "      <td>124484.3594</td>\n",
       "      <td>-179.338078</td>\n",
       "      <td>124715.0703</td>\n",
       "      <td>-119.550481</td>\n",
       "      <td>612.796753</td>\n",
       "      <td>117.726752</td>\n",
       "      <td>632.532104</td>\n",
       "      <td>0.859680</td>\n",
       "      <td>...</td>\n",
       "      <td>-49.537931</td>\n",
       "      <td>127096.4056</td>\n",
       "      <td>-169.532482</td>\n",
       "      <td>127773.3839</td>\n",
       "      <td>65.643775</td>\n",
       "      <td>604.44611</td>\n",
       "      <td>-56.871791</td>\n",
       "      <td>621.84156</td>\n",
       "      <td>-173.869773</td>\n",
       "      <td>599.86836</td>\n",
       "      <td>70.462350</td>\n",
       "      <td>127522.6512</td>\n",
       "      <td>0.0</td>\n",
       "      <td>0.0</td>\n",
       "      <td>0.0</td>\n",
       "      <td>0.0</td>\n",
       "      <td>64.950496</td>\n",
       "      <td>608.47453</td>\n",
       "      <td>119.301272</td>\n",
       "      <td>12.26837</td>\n",
       "      <td>-102.060972</td>\n",
       "      <td>11.71904</td>\n",
       "      <td>59.999</td>\n",
       "      <td>0.01</td>\n",
       "      <td>6.341832</td>\n",
       "      <td>0.077897</td>\n",
       "      <td>0.0</td>\n",
       "      <td>0</td>\n",
       "      <td>0</td>\n",
       "      <td>0</td>\n",
       "      <td>0</td>\n",
       "      <td>0</td>\n",
       "      <td>0</td>\n",
       "      <td>0</td>\n",
       "      <td>0</td>\n",
       "      <td>0</td>\n",
       "      <td>0</td>\n",
       "      <td>0</td>\n",
       "      <td>0</td>\n",
       "      <td>Natural</td>\n",
       "    </tr>\n",
       "    <tr>\n",
       "      <th>1</th>\n",
       "      <td>73.688102</td>\n",
       "      <td>130280.7109</td>\n",
       "      <td>-46.300719</td>\n",
       "      <td>130255.6377</td>\n",
       "      <td>-166.278082</td>\n",
       "      <td>130355.9307</td>\n",
       "      <td>71.831719</td>\n",
       "      <td>483.59351</td>\n",
       "      <td>-50.947407</td>\n",
       "      <td>500.98896</td>\n",
       "      <td>-167.487023</td>\n",
       "      <td>481.39619</td>\n",
       "      <td>73.705291</td>\n",
       "      <td>130305.7842</td>\n",
       "      <td>0.0</td>\n",
       "      <td>0.0</td>\n",
       "      <td>0.0</td>\n",
       "      <td>0.0</td>\n",
       "      <td>71.109792</td>\n",
       "      <td>488.35437</td>\n",
       "      <td>125.792884</td>\n",
       "      <td>10.62038</td>\n",
       "      <td>-95.884487</td>\n",
       "      <td>11.35282</td>\n",
       "      <td>60.005</td>\n",
       "      <td>0.00</td>\n",
       "      <td>8.185463</td>\n",
       "      <td>0.024924</td>\n",
       "      <td>0</td>\n",
       "      <td>66.069035</td>\n",
       "      <td>128277.4297</td>\n",
       "      <td>-53.885193</td>\n",
       "      <td>128126.3047</td>\n",
       "      <td>-173.932803</td>\n",
       "      <td>128354.7578</td>\n",
       "      <td>-114.925241</td>\n",
       "      <td>489.349365</td>\n",
       "      <td>122.148740</td>\n",
       "      <td>505.754456</td>\n",
       "      <td>5.468445</td>\n",
       "      <td>...</td>\n",
       "      <td>-46.249153</td>\n",
       "      <td>129704.0257</td>\n",
       "      <td>-166.232245</td>\n",
       "      <td>130381.0040</td>\n",
       "      <td>71.837448</td>\n",
       "      <td>481.76241</td>\n",
       "      <td>-50.792709</td>\n",
       "      <td>496.04499</td>\n",
       "      <td>-167.618803</td>\n",
       "      <td>477.73399</td>\n",
       "      <td>73.756857</td>\n",
       "      <td>130130.2713</td>\n",
       "      <td>0.0</td>\n",
       "      <td>0.0</td>\n",
       "      <td>0.0</td>\n",
       "      <td>0.0</td>\n",
       "      <td>71.121251</td>\n",
       "      <td>485.05839</td>\n",
       "      <td>124.274546</td>\n",
       "      <td>10.25416</td>\n",
       "      <td>-95.454769</td>\n",
       "      <td>9.70483</td>\n",
       "      <td>60.005</td>\n",
       "      <td>0.00</td>\n",
       "      <td>8.141328</td>\n",
       "      <td>0.027210</td>\n",
       "      <td>0.0</td>\n",
       "      <td>0</td>\n",
       "      <td>0</td>\n",
       "      <td>0</td>\n",
       "      <td>0</td>\n",
       "      <td>0</td>\n",
       "      <td>0</td>\n",
       "      <td>0</td>\n",
       "      <td>0</td>\n",
       "      <td>0</td>\n",
       "      <td>0</td>\n",
       "      <td>0</td>\n",
       "      <td>0</td>\n",
       "      <td>Natural</td>\n",
       "    </tr>\n",
       "    <tr>\n",
       "      <th>2</th>\n",
       "      <td>73.733939</td>\n",
       "      <td>130305.7842</td>\n",
       "      <td>-46.254883</td>\n",
       "      <td>130280.7109</td>\n",
       "      <td>-166.232245</td>\n",
       "      <td>130381.0040</td>\n",
       "      <td>71.808800</td>\n",
       "      <td>483.59351</td>\n",
       "      <td>-50.913030</td>\n",
       "      <td>500.98896</td>\n",
       "      <td>-167.441186</td>\n",
       "      <td>481.02997</td>\n",
       "      <td>73.751127</td>\n",
       "      <td>130330.8575</td>\n",
       "      <td>0.0</td>\n",
       "      <td>0.0</td>\n",
       "      <td>0.0</td>\n",
       "      <td>0.0</td>\n",
       "      <td>71.132710</td>\n",
       "      <td>488.35437</td>\n",
       "      <td>125.007932</td>\n",
       "      <td>10.62038</td>\n",
       "      <td>-94.520847</td>\n",
       "      <td>11.35282</td>\n",
       "      <td>60.005</td>\n",
       "      <td>0.00</td>\n",
       "      <td>8.190006</td>\n",
       "      <td>0.027904</td>\n",
       "      <td>0</td>\n",
       "      <td>66.112980</td>\n",
       "      <td>128283.9453</td>\n",
       "      <td>-53.852234</td>\n",
       "      <td>128144.4688</td>\n",
       "      <td>-173.883366</td>\n",
       "      <td>128382.9609</td>\n",
       "      <td>-114.919736</td>\n",
       "      <td>488.885864</td>\n",
       "      <td>122.214665</td>\n",
       "      <td>505.531311</td>\n",
       "      <td>5.462952</td>\n",
       "      <td>...</td>\n",
       "      <td>-46.197587</td>\n",
       "      <td>129729.0990</td>\n",
       "      <td>-166.192138</td>\n",
       "      <td>130381.0040</td>\n",
       "      <td>71.866096</td>\n",
       "      <td>481.39619</td>\n",
       "      <td>-50.781249</td>\n",
       "      <td>496.41121</td>\n",
       "      <td>-167.590155</td>\n",
       "      <td>478.10021</td>\n",
       "      <td>73.796964</td>\n",
       "      <td>130155.3446</td>\n",
       "      <td>0.0</td>\n",
       "      <td>0.0</td>\n",
       "      <td>0.0</td>\n",
       "      <td>0.0</td>\n",
       "      <td>71.144169</td>\n",
       "      <td>485.24150</td>\n",
       "      <td>125.277222</td>\n",
       "      <td>10.25416</td>\n",
       "      <td>-95.970431</td>\n",
       "      <td>10.07105</td>\n",
       "      <td>60.005</td>\n",
       "      <td>0.00</td>\n",
       "      <td>8.162755</td>\n",
       "      <td>0.026663</td>\n",
       "      <td>0.0</td>\n",
       "      <td>0</td>\n",
       "      <td>0</td>\n",
       "      <td>0</td>\n",
       "      <td>0</td>\n",
       "      <td>0</td>\n",
       "      <td>0</td>\n",
       "      <td>0</td>\n",
       "      <td>0</td>\n",
       "      <td>0</td>\n",
       "      <td>0</td>\n",
       "      <td>0</td>\n",
       "      <td>0</td>\n",
       "      <td>Natural</td>\n",
       "    </tr>\n",
       "    <tr>\n",
       "      <th>3</th>\n",
       "      <td>74.083443</td>\n",
       "      <td>130581.5902</td>\n",
       "      <td>-45.899649</td>\n",
       "      <td>130556.5169</td>\n",
       "      <td>-165.882741</td>\n",
       "      <td>130656.8100</td>\n",
       "      <td>72.152575</td>\n",
       "      <td>482.86107</td>\n",
       "      <td>-50.437475</td>\n",
       "      <td>499.15786</td>\n",
       "      <td>-167.286487</td>\n",
       "      <td>481.39619</td>\n",
       "      <td>74.106361</td>\n",
       "      <td>130581.5902</td>\n",
       "      <td>0.0</td>\n",
       "      <td>0.0</td>\n",
       "      <td>0.0</td>\n",
       "      <td>0.0</td>\n",
       "      <td>71.459296</td>\n",
       "      <td>487.62193</td>\n",
       "      <td>127.597701</td>\n",
       "      <td>9.70483</td>\n",
       "      <td>-96.657980</td>\n",
       "      <td>10.43727</td>\n",
       "      <td>60.003</td>\n",
       "      <td>0.00</td>\n",
       "      <td>8.171532</td>\n",
       "      <td>0.025617</td>\n",
       "      <td>0</td>\n",
       "      <td>66.508489</td>\n",
       "      <td>128585.4063</td>\n",
       "      <td>-53.445742</td>\n",
       "      <td>128442.6094</td>\n",
       "      <td>-173.487857</td>\n",
       "      <td>128673.4141</td>\n",
       "      <td>-114.815371</td>\n",
       "      <td>489.864349</td>\n",
       "      <td>122.648628</td>\n",
       "      <td>504.226685</td>\n",
       "      <td>5.693665</td>\n",
       "      <td>...</td>\n",
       "      <td>-45.848083</td>\n",
       "      <td>129979.8317</td>\n",
       "      <td>-165.836904</td>\n",
       "      <td>130681.8832</td>\n",
       "      <td>72.181223</td>\n",
       "      <td>481.21308</td>\n",
       "      <td>-50.311424</td>\n",
       "      <td>494.76322</td>\n",
       "      <td>-167.395349</td>\n",
       "      <td>478.28332</td>\n",
       "      <td>74.152198</td>\n",
       "      <td>130431.1505</td>\n",
       "      <td>0.0</td>\n",
       "      <td>0.0</td>\n",
       "      <td>0.0</td>\n",
       "      <td>0.0</td>\n",
       "      <td>71.482215</td>\n",
       "      <td>484.69217</td>\n",
       "      <td>126.474704</td>\n",
       "      <td>9.33861</td>\n",
       "      <td>-97.253856</td>\n",
       "      <td>9.15550</td>\n",
       "      <td>60.003</td>\n",
       "      <td>0.00</td>\n",
       "      <td>8.135292</td>\n",
       "      <td>0.026595</td>\n",
       "      <td>0.0</td>\n",
       "      <td>0</td>\n",
       "      <td>0</td>\n",
       "      <td>0</td>\n",
       "      <td>0</td>\n",
       "      <td>0</td>\n",
       "      <td>0</td>\n",
       "      <td>0</td>\n",
       "      <td>0</td>\n",
       "      <td>0</td>\n",
       "      <td>0</td>\n",
       "      <td>0</td>\n",
       "      <td>0</td>\n",
       "      <td>Natural</td>\n",
       "    </tr>\n",
       "    <tr>\n",
       "      <th>4</th>\n",
       "      <td>74.553268</td>\n",
       "      <td>131083.0556</td>\n",
       "      <td>-45.424094</td>\n",
       "      <td>131057.9823</td>\n",
       "      <td>-165.424375</td>\n",
       "      <td>131158.2754</td>\n",
       "      <td>72.118198</td>\n",
       "      <td>484.50906</td>\n",
       "      <td>-50.013486</td>\n",
       "      <td>497.69298</td>\n",
       "      <td>-167.464104</td>\n",
       "      <td>484.69217</td>\n",
       "      <td>74.570457</td>\n",
       "      <td>131108.1288</td>\n",
       "      <td>0.0</td>\n",
       "      <td>0.0</td>\n",
       "      <td>0.0</td>\n",
       "      <td>0.0</td>\n",
       "      <td>71.539510</td>\n",
       "      <td>488.90370</td>\n",
       "      <td>127.666456</td>\n",
       "      <td>7.50751</td>\n",
       "      <td>-99.923839</td>\n",
       "      <td>8.60617</td>\n",
       "      <td>60.001</td>\n",
       "      <td>0.00</td>\n",
       "      <td>8.079496</td>\n",
       "      <td>0.032941</td>\n",
       "      <td>0</td>\n",
       "      <td>67.035827</td>\n",
       "      <td>129106.9063</td>\n",
       "      <td>-52.912905</td>\n",
       "      <td>128974.5859</td>\n",
       "      <td>-172.949529</td>\n",
       "      <td>129196.8125</td>\n",
       "      <td>-114.919736</td>\n",
       "      <td>491.294861</td>\n",
       "      <td>123.071594</td>\n",
       "      <td>502.498627</td>\n",
       "      <td>5.413513</td>\n",
       "      <td>...</td>\n",
       "      <td>-45.372528</td>\n",
       "      <td>130506.3704</td>\n",
       "      <td>-165.372808</td>\n",
       "      <td>131183.3486</td>\n",
       "      <td>72.164034</td>\n",
       "      <td>482.86107</td>\n",
       "      <td>-49.881706</td>\n",
       "      <td>493.11523</td>\n",
       "      <td>-167.601614</td>\n",
       "      <td>481.21308</td>\n",
       "      <td>74.627753</td>\n",
       "      <td>130932.6159</td>\n",
       "      <td>0.0</td>\n",
       "      <td>0.0</td>\n",
       "      <td>0.0</td>\n",
       "      <td>0.0</td>\n",
       "      <td>71.556699</td>\n",
       "      <td>485.60772</td>\n",
       "      <td>126.595025</td>\n",
       "      <td>7.32440</td>\n",
       "      <td>-101.711468</td>\n",
       "      <td>7.14129</td>\n",
       "      <td>60.001</td>\n",
       "      <td>0.00</td>\n",
       "      <td>8.036023</td>\n",
       "      <td>0.033641</td>\n",
       "      <td>0.0</td>\n",
       "      <td>0</td>\n",
       "      <td>0</td>\n",
       "      <td>0</td>\n",
       "      <td>0</td>\n",
       "      <td>0</td>\n",
       "      <td>0</td>\n",
       "      <td>0</td>\n",
       "      <td>0</td>\n",
       "      <td>0</td>\n",
       "      <td>0</td>\n",
       "      <td>0</td>\n",
       "      <td>0</td>\n",
       "      <td>Natural</td>\n",
       "    </tr>\n",
       "  </tbody>\n",
       "</table>\n",
       "<p>5 rows × 129 columns</p>\n",
       "</div>"
      ],
      "text/plain": [
       "   R1-PA1:VH     R1-PM1:V  R1-PA2:VH  ...  snort_log3  snort_log4   marker\n",
       "0  70.399324  127673.0908 -49.572308  ...           0           0  Natural\n",
       "1  73.688102  130280.7109 -46.300719  ...           0           0  Natural\n",
       "2  73.733939  130305.7842 -46.254883  ...           0           0  Natural\n",
       "3  74.083443  130581.5902 -45.899649  ...           0           0  Natural\n",
       "4  74.553268  131083.0556 -45.424094  ...           0           0  Natural\n",
       "\n",
       "[5 rows x 129 columns]"
      ]
     },
     "execution_count": 8,
     "metadata": {},
     "output_type": "execute_result"
    }
   ],
   "source": [
    "df.head()"
   ]
  },
  {
   "cell_type": "code",
   "execution_count": 9,
   "id": "09de09a1",
   "metadata": {
    "colab": {
     "base_uri": "https://localhost:8080/"
    },
    "executionInfo": {
     "elapsed": 17,
     "status": "ok",
     "timestamp": 1632095914137,
     "user": {
      "displayName": "何某某",
      "photoUrl": "https://lh3.googleusercontent.com/a/default-user=s64",
      "userId": "11716924609171587007"
     },
     "user_tz": -600
    },
    "id": "8be58bd9",
    "outputId": "de763c42-e804-414b-8b62-9c5f7f9cf1eb"
   },
   "outputs": [
    {
     "data": {
      "text/plain": [
       "Attack     55663\n",
       "Natural    22714\n",
       "Name: marker, dtype: int64"
      ]
     },
     "execution_count": 9,
     "metadata": {},
     "output_type": "execute_result"
    }
   ],
   "source": [
    "df['marker'].value_counts()"
   ]
  },
  {
   "cell_type": "code",
   "execution_count": 10,
   "id": "d56dddee",
   "metadata": {
    "colab": {
     "base_uri": "https://localhost:8080/"
    },
    "executionInfo": {
     "elapsed": 16,
     "status": "ok",
     "timestamp": 1632095914138,
     "user": {
      "displayName": "何某某",
      "photoUrl": "https://lh3.googleusercontent.com/a/default-user=s64",
      "userId": "11716924609171587007"
     },
     "user_tz": -600
    },
    "id": "ffad9668",
    "outputId": "036919c2-d251-40b3-fbc9-b4a291ae0910"
   },
   "outputs": [
    {
     "name": "stdout",
     "output_type": "stream",
     "text": [
      "<class 'pandas.core.frame.DataFrame'>\n",
      "Int64Index: 78377 entries, 0 to 5235\n",
      "Columns: 129 entries, R1-PA1:VH to marker\n",
      "dtypes: float64(113), int64(15), object(1)\n",
      "memory usage: 77.7+ MB\n"
     ]
    }
   ],
   "source": [
    "df.info()"
   ]
  },
  {
   "cell_type": "code",
   "execution_count": 11,
   "id": "bb223502",
   "metadata": {
    "colab": {
     "base_uri": "https://localhost:8080/"
    },
    "executionInfo": {
     "elapsed": 13,
     "status": "ok",
     "timestamp": 1632095914138,
     "user": {
      "displayName": "何某某",
      "photoUrl": "https://lh3.googleusercontent.com/a/default-user=s64",
      "userId": "11716924609171587007"
     },
     "user_tz": -600
    },
    "id": "c9bbe472",
    "outputId": "af01b0fc-5177-4f8e-ae1c-f6028f0891d6"
   },
   "outputs": [
    {
     "data": {
      "text/plain": [
       "Index(['R1-PA1:VH', 'R1-PM1:V', 'R1-PA2:VH', 'R1-PM2:V', 'R1-PA3:VH',\n",
       "       'R1-PM3:V', 'R1-PA4:IH', 'R1-PM4:I', 'R1-PA5:IH', 'R1-PM5:I',\n",
       "       ...\n",
       "       'control_panel_log4', 'relay1_log', 'relay2_log', 'relay3_log',\n",
       "       'relay4_log', 'snort_log1', 'snort_log2', 'snort_log3', 'snort_log4',\n",
       "       'marker'],\n",
       "      dtype='object', length=129)"
      ]
     },
     "execution_count": 11,
     "metadata": {},
     "output_type": "execute_result"
    }
   ],
   "source": [
    "df.columns"
   ]
  },
  {
   "cell_type": "code",
   "execution_count": 12,
   "id": "98e03536",
   "metadata": {
    "colab": {
     "base_uri": "https://localhost:8080/",
     "height": 348
    },
    "executionInfo": {
     "elapsed": 666,
     "status": "ok",
     "timestamp": 1632095914793,
     "user": {
      "displayName": "何某某",
      "photoUrl": "https://lh3.googleusercontent.com/a/default-user=s64",
      "userId": "11716924609171587007"
     },
     "user_tz": -600
    },
    "id": "cfb06320",
    "outputId": "fc7113af-e2fd-44b7-8508-a8e71c704aed"
   },
   "outputs": [
    {
     "data": {
      "text/html": [
       "<div>\n",
       "<style scoped>\n",
       "    .dataframe tbody tr th:only-of-type {\n",
       "        vertical-align: middle;\n",
       "    }\n",
       "\n",
       "    .dataframe tbody tr th {\n",
       "        vertical-align: top;\n",
       "    }\n",
       "\n",
       "    .dataframe thead th {\n",
       "        text-align: right;\n",
       "    }\n",
       "</style>\n",
       "<table border=\"1\" class=\"dataframe\">\n",
       "  <thead>\n",
       "    <tr style=\"text-align: right;\">\n",
       "      <th></th>\n",
       "      <th>R1-PA1:VH</th>\n",
       "      <th>R1-PM1:V</th>\n",
       "      <th>R1-PA2:VH</th>\n",
       "      <th>R1-PM2:V</th>\n",
       "      <th>R1-PA3:VH</th>\n",
       "      <th>R1-PM3:V</th>\n",
       "      <th>R1-PA4:IH</th>\n",
       "      <th>R1-PM4:I</th>\n",
       "      <th>R1-PA5:IH</th>\n",
       "      <th>R1-PM5:I</th>\n",
       "      <th>R1-PA6:IH</th>\n",
       "      <th>R1-PM6:I</th>\n",
       "      <th>R1-PA7:VH</th>\n",
       "      <th>R1-PM7:V</th>\n",
       "      <th>R1-PA8:VH</th>\n",
       "      <th>R1-PM8:V</th>\n",
       "      <th>R1-PA9:VH</th>\n",
       "      <th>R1-PM9:V</th>\n",
       "      <th>R1-PA10:IH</th>\n",
       "      <th>R1-PM10:I</th>\n",
       "      <th>R1-PA11:IH</th>\n",
       "      <th>R1-PM11:I</th>\n",
       "      <th>R1-PA12:IH</th>\n",
       "      <th>R1-PM12:I</th>\n",
       "      <th>R1:F</th>\n",
       "      <th>R1:DF</th>\n",
       "      <th>R1-PA:Z</th>\n",
       "      <th>R1-PA:ZH</th>\n",
       "      <th>R1:S</th>\n",
       "      <th>R2-PA1:VH</th>\n",
       "      <th>R2-PM1:V</th>\n",
       "      <th>R2-PA2:VH</th>\n",
       "      <th>R2-PM2:V</th>\n",
       "      <th>R2-PA3:VH</th>\n",
       "      <th>R2-PM3:V</th>\n",
       "      <th>R2-PA4:IH</th>\n",
       "      <th>R2-PM4:I</th>\n",
       "      <th>R2-PA5:IH</th>\n",
       "      <th>R2-PM5:I</th>\n",
       "      <th>R2-PA6:IH</th>\n",
       "      <th>...</th>\n",
       "      <th>R4-PM1:V</th>\n",
       "      <th>R4-PA2:VH</th>\n",
       "      <th>R4-PM2:V</th>\n",
       "      <th>R4-PA3:VH</th>\n",
       "      <th>R4-PM3:V</th>\n",
       "      <th>R4-PA4:IH</th>\n",
       "      <th>R4-PM4:I</th>\n",
       "      <th>R4-PA5:IH</th>\n",
       "      <th>R4-PM5:I</th>\n",
       "      <th>R4-PA6:IH</th>\n",
       "      <th>R4-PM6:I</th>\n",
       "      <th>R4-PA7:VH</th>\n",
       "      <th>R4-PM7:V</th>\n",
       "      <th>R4-PA8:VH</th>\n",
       "      <th>R4-PM8:V</th>\n",
       "      <th>R4-PA9:VH</th>\n",
       "      <th>R4-PM9:V</th>\n",
       "      <th>R4-PA10:IH</th>\n",
       "      <th>R4-PM10:I</th>\n",
       "      <th>R4-PA11:IH</th>\n",
       "      <th>R4-PM11:I</th>\n",
       "      <th>R4-PA12:IH</th>\n",
       "      <th>R4-PM12:I</th>\n",
       "      <th>R4:F</th>\n",
       "      <th>R4:DF</th>\n",
       "      <th>R4-PA:Z</th>\n",
       "      <th>R4-PA:ZH</th>\n",
       "      <th>R4:S</th>\n",
       "      <th>control_panel_log1</th>\n",
       "      <th>control_panel_log2</th>\n",
       "      <th>control_panel_log3</th>\n",
       "      <th>control_panel_log4</th>\n",
       "      <th>relay1_log</th>\n",
       "      <th>relay2_log</th>\n",
       "      <th>relay3_log</th>\n",
       "      <th>relay4_log</th>\n",
       "      <th>snort_log1</th>\n",
       "      <th>snort_log2</th>\n",
       "      <th>snort_log3</th>\n",
       "      <th>snort_log4</th>\n",
       "    </tr>\n",
       "  </thead>\n",
       "  <tbody>\n",
       "    <tr>\n",
       "      <th>count</th>\n",
       "      <td>78377.000000</td>\n",
       "      <td>78377.000000</td>\n",
       "      <td>78377.000000</td>\n",
       "      <td>78377.000000</td>\n",
       "      <td>78377.000000</td>\n",
       "      <td>78377.000000</td>\n",
       "      <td>78377.000000</td>\n",
       "      <td>78377.000000</td>\n",
       "      <td>78377.000000</td>\n",
       "      <td>78377.000000</td>\n",
       "      <td>78377.000000</td>\n",
       "      <td>78377.000000</td>\n",
       "      <td>78377.000000</td>\n",
       "      <td>78377.000000</td>\n",
       "      <td>78377.000000</td>\n",
       "      <td>78377.000000</td>\n",
       "      <td>78377.000000</td>\n",
       "      <td>78377.000000</td>\n",
       "      <td>78377.000000</td>\n",
       "      <td>78377.000000</td>\n",
       "      <td>78377.000000</td>\n",
       "      <td>78377.000000</td>\n",
       "      <td>78377.000000</td>\n",
       "      <td>78377.000000</td>\n",
       "      <td>78377.000000</td>\n",
       "      <td>78377.000000</td>\n",
       "      <td>7.837700e+04</td>\n",
       "      <td>78377.000000</td>\n",
       "      <td>78377.000000</td>\n",
       "      <td>78377.000000</td>\n",
       "      <td>78377.000000</td>\n",
       "      <td>78377.000000</td>\n",
       "      <td>78377.000000</td>\n",
       "      <td>78377.000000</td>\n",
       "      <td>78377.000000</td>\n",
       "      <td>78377.000000</td>\n",
       "      <td>78377.000000</td>\n",
       "      <td>78377.000000</td>\n",
       "      <td>78377.000000</td>\n",
       "      <td>78377.000000</td>\n",
       "      <td>...</td>\n",
       "      <td>78377.000000</td>\n",
       "      <td>78377.000000</td>\n",
       "      <td>78377.000000</td>\n",
       "      <td>78377.000000</td>\n",
       "      <td>78377.000000</td>\n",
       "      <td>78377.000000</td>\n",
       "      <td>78377.000000</td>\n",
       "      <td>78377.000000</td>\n",
       "      <td>78377.000000</td>\n",
       "      <td>78377.000000</td>\n",
       "      <td>78377.000000</td>\n",
       "      <td>78377.000000</td>\n",
       "      <td>78377.000000</td>\n",
       "      <td>78377.000000</td>\n",
       "      <td>78377.000000</td>\n",
       "      <td>78377.000000</td>\n",
       "      <td>78377.000000</td>\n",
       "      <td>78377.000000</td>\n",
       "      <td>78377.000000</td>\n",
       "      <td>78377.000000</td>\n",
       "      <td>78377.000000</td>\n",
       "      <td>78377.000000</td>\n",
       "      <td>78377.000000</td>\n",
       "      <td>78377.000000</td>\n",
       "      <td>78377.000000</td>\n",
       "      <td>7.837700e+04</td>\n",
       "      <td>78377.000000</td>\n",
       "      <td>78377.000000</td>\n",
       "      <td>78377.000000</td>\n",
       "      <td>78377.000000</td>\n",
       "      <td>78377.000000</td>\n",
       "      <td>78377.000000</td>\n",
       "      <td>78377.000000</td>\n",
       "      <td>78377.000000</td>\n",
       "      <td>78377.000000</td>\n",
       "      <td>78377.000000</td>\n",
       "      <td>78377.000000</td>\n",
       "      <td>78377.000000</td>\n",
       "      <td>78377.000000</td>\n",
       "      <td>78377.000000</td>\n",
       "    </tr>\n",
       "    <tr>\n",
       "      <th>mean</th>\n",
       "      <td>-15.802424</td>\n",
       "      <td>130764.039577</td>\n",
       "      <td>2.175196</td>\n",
       "      <td>131035.528095</td>\n",
       "      <td>6.834315</td>\n",
       "      <td>131395.717581</td>\n",
       "      <td>-14.334996</td>\n",
       "      <td>393.949321</td>\n",
       "      <td>3.538540</td>\n",
       "      <td>387.438133</td>\n",
       "      <td>6.129781</td>\n",
       "      <td>381.912845</td>\n",
       "      <td>-15.798835</td>\n",
       "      <td>131056.980030</td>\n",
       "      <td>0.207857</td>\n",
       "      <td>297.083556</td>\n",
       "      <td>0.227606</td>\n",
       "      <td>87.397031</td>\n",
       "      <td>-14.504282</td>\n",
       "      <td>386.557188</td>\n",
       "      <td>-1.734936</td>\n",
       "      <td>9.979982</td>\n",
       "      <td>6.123374</td>\n",
       "      <td>9.494176</td>\n",
       "      <td>59.992801</td>\n",
       "      <td>0.000529</td>\n",
       "      <td>inf</td>\n",
       "      <td>0.018428</td>\n",
       "      <td>788.868750</td>\n",
       "      <td>-15.216491</td>\n",
       "      <td>127033.389923</td>\n",
       "      <td>4.751134</td>\n",
       "      <td>128015.428015</td>\n",
       "      <td>5.510410</td>\n",
       "      <td>128362.246185</td>\n",
       "      <td>15.836436</td>\n",
       "      <td>395.109497</td>\n",
       "      <td>-6.961603</td>\n",
       "      <td>392.508845</td>\n",
       "      <td>-6.437082</td>\n",
       "      <td>...</td>\n",
       "      <td>131117.453645</td>\n",
       "      <td>2.278991</td>\n",
       "      <td>131355.212680</td>\n",
       "      <td>7.065760</td>\n",
       "      <td>131745.074472</td>\n",
       "      <td>-13.931742</td>\n",
       "      <td>391.330912</td>\n",
       "      <td>3.446031</td>\n",
       "      <td>384.399819</td>\n",
       "      <td>6.096400</td>\n",
       "      <td>379.952713</td>\n",
       "      <td>-15.563852</td>\n",
       "      <td>131397.999652</td>\n",
       "      <td>0.257084</td>\n",
       "      <td>292.112647</td>\n",
       "      <td>0.207103</td>\n",
       "      <td>82.439295</td>\n",
       "      <td>-14.144585</td>\n",
       "      <td>384.036050</td>\n",
       "      <td>-1.859917</td>\n",
       "      <td>9.834635</td>\n",
       "      <td>5.989009</td>\n",
       "      <td>9.073233</td>\n",
       "      <td>59.992750</td>\n",
       "      <td>0.000602</td>\n",
       "      <td>inf</td>\n",
       "      <td>0.016616</td>\n",
       "      <td>749.014459</td>\n",
       "      <td>0.000038</td>\n",
       "      <td>0.000038</td>\n",
       "      <td>0.000026</td>\n",
       "      <td>0.000026</td>\n",
       "      <td>0.035916</td>\n",
       "      <td>0.026436</td>\n",
       "      <td>0.026500</td>\n",
       "      <td>0.035597</td>\n",
       "      <td>0.000051</td>\n",
       "      <td>0.000051</td>\n",
       "      <td>0.000089</td>\n",
       "      <td>0.000077</td>\n",
       "    </tr>\n",
       "    <tr>\n",
       "      <th>std</th>\n",
       "      <td>100.876750</td>\n",
       "      <td>8546.118477</td>\n",
       "      <td>111.743169</td>\n",
       "      <td>5393.135370</td>\n",
       "      <td>97.065063</td>\n",
       "      <td>5443.752388</td>\n",
       "      <td>99.601107</td>\n",
       "      <td>190.966011</td>\n",
       "      <td>109.504977</td>\n",
       "      <td>151.277183</td>\n",
       "      <td>95.294904</td>\n",
       "      <td>153.326452</td>\n",
       "      <td>100.877118</td>\n",
       "      <td>6152.379663</td>\n",
       "      <td>13.075863</td>\n",
       "      <td>2687.617199</td>\n",
       "      <td>12.488596</td>\n",
       "      <td>897.541412</td>\n",
       "      <td>99.605025</td>\n",
       "      <td>154.484403</td>\n",
       "      <td>68.383257</td>\n",
       "      <td>47.241783</td>\n",
       "      <td>73.059209</td>\n",
       "      <td>47.875569</td>\n",
       "      <td>0.610045</td>\n",
       "      <td>0.087799</td>\n",
       "      <td>NaN</td>\n",
       "      <td>0.242813</td>\n",
       "      <td>14048.448459</td>\n",
       "      <td>101.837622</td>\n",
       "      <td>16155.767175</td>\n",
       "      <td>111.043204</td>\n",
       "      <td>12106.876201</td>\n",
       "      <td>96.270117</td>\n",
       "      <td>11990.863815</td>\n",
       "      <td>99.876094</td>\n",
       "      <td>171.765698</td>\n",
       "      <td>94.996062</td>\n",
       "      <td>152.357765</td>\n",
       "      <td>108.896267</td>\n",
       "      <td>...</td>\n",
       "      <td>7984.885533</td>\n",
       "      <td>111.828597</td>\n",
       "      <td>4733.901358</td>\n",
       "      <td>97.085981</td>\n",
       "      <td>4777.648212</td>\n",
       "      <td>99.653296</td>\n",
       "      <td>187.094100</td>\n",
       "      <td>109.561785</td>\n",
       "      <td>148.882516</td>\n",
       "      <td>95.495537</td>\n",
       "      <td>150.929876</td>\n",
       "      <td>100.882320</td>\n",
       "      <td>5536.542517</td>\n",
       "      <td>13.150046</td>\n",
       "      <td>2621.155809</td>\n",
       "      <td>12.523032</td>\n",
       "      <td>850.696972</td>\n",
       "      <td>99.627784</td>\n",
       "      <td>151.746973</td>\n",
       "      <td>67.783975</td>\n",
       "      <td>47.562328</td>\n",
       "      <td>72.087423</td>\n",
       "      <td>45.998572</td>\n",
       "      <td>0.609958</td>\n",
       "      <td>0.087273</td>\n",
       "      <td>NaN</td>\n",
       "      <td>0.248023</td>\n",
       "      <td>14041.170907</td>\n",
       "      <td>0.006187</td>\n",
       "      <td>0.006187</td>\n",
       "      <td>0.005051</td>\n",
       "      <td>0.005051</td>\n",
       "      <td>0.186082</td>\n",
       "      <td>0.160430</td>\n",
       "      <td>0.160618</td>\n",
       "      <td>0.185285</td>\n",
       "      <td>0.007144</td>\n",
       "      <td>0.007144</td>\n",
       "      <td>0.009450</td>\n",
       "      <td>0.008749</td>\n",
       "    </tr>\n",
       "    <tr>\n",
       "      <th>min</th>\n",
       "      <td>-179.988962</td>\n",
       "      <td>0.000000</td>\n",
       "      <td>-179.994691</td>\n",
       "      <td>0.000000</td>\n",
       "      <td>-179.994691</td>\n",
       "      <td>0.000000</td>\n",
       "      <td>-179.994691</td>\n",
       "      <td>0.000000</td>\n",
       "      <td>-179.994691</td>\n",
       "      <td>0.000000</td>\n",
       "      <td>-179.994691</td>\n",
       "      <td>0.000000</td>\n",
       "      <td>-179.994691</td>\n",
       "      <td>0.000000</td>\n",
       "      <td>-179.501948</td>\n",
       "      <td>0.000000</td>\n",
       "      <td>-179.903018</td>\n",
       "      <td>0.000000</td>\n",
       "      <td>-179.994691</td>\n",
       "      <td>0.000000</td>\n",
       "      <td>-179.994691</td>\n",
       "      <td>0.000000</td>\n",
       "      <td>-179.988962</td>\n",
       "      <td>0.000000</td>\n",
       "      <td>0.000000</td>\n",
       "      <td>-4.010000</td>\n",
       "      <td>1.852102e-01</td>\n",
       "      <td>-3.140569</td>\n",
       "      <td>0.000000</td>\n",
       "      <td>-179.994691</td>\n",
       "      <td>0.000000</td>\n",
       "      <td>-179.997259</td>\n",
       "      <td>0.000000</td>\n",
       "      <td>-179.994691</td>\n",
       "      <td>0.000000</td>\n",
       "      <td>-179.997259</td>\n",
       "      <td>0.000000</td>\n",
       "      <td>-179.994691</td>\n",
       "      <td>0.000000</td>\n",
       "      <td>-179.994691</td>\n",
       "      <td>...</td>\n",
       "      <td>-174.341917</td>\n",
       "      <td>-179.997259</td>\n",
       "      <td>-169.984571</td>\n",
       "      <td>-179.994691</td>\n",
       "      <td>-178.875387</td>\n",
       "      <td>-179.997259</td>\n",
       "      <td>-142.790610</td>\n",
       "      <td>-179.997259</td>\n",
       "      <td>-165.686647</td>\n",
       "      <td>-179.988962</td>\n",
       "      <td>-155.458725</td>\n",
       "      <td>-179.997259</td>\n",
       "      <td>-145.203989</td>\n",
       "      <td>-179.719672</td>\n",
       "      <td>0.000000</td>\n",
       "      <td>-179.612733</td>\n",
       "      <td>0.000000</td>\n",
       "      <td>-179.997259</td>\n",
       "      <td>0.000000</td>\n",
       "      <td>-179.997259</td>\n",
       "      <td>0.000000</td>\n",
       "      <td>-179.997259</td>\n",
       "      <td>0.000000</td>\n",
       "      <td>0.000000</td>\n",
       "      <td>-3.460000</td>\n",
       "      <td>6.781427e-03</td>\n",
       "      <td>-3.093717</td>\n",
       "      <td>-45.998332</td>\n",
       "      <td>0.000000</td>\n",
       "      <td>0.000000</td>\n",
       "      <td>0.000000</td>\n",
       "      <td>0.000000</td>\n",
       "      <td>0.000000</td>\n",
       "      <td>0.000000</td>\n",
       "      <td>0.000000</td>\n",
       "      <td>0.000000</td>\n",
       "      <td>0.000000</td>\n",
       "      <td>0.000000</td>\n",
       "      <td>0.000000</td>\n",
       "      <td>0.000000</td>\n",
       "    </tr>\n",
       "    <tr>\n",
       "      <th>25%</th>\n",
       "      <td>-100.416583</td>\n",
       "      <td>131057.982300</td>\n",
       "      <td>-102.129727</td>\n",
       "      <td>130732.029800</td>\n",
       "      <td>-69.459673</td>\n",
       "      <td>131133.202100</td>\n",
       "      <td>-98.159129</td>\n",
       "      <td>305.793700</td>\n",
       "      <td>-94.790138</td>\n",
       "      <td>311.836330</td>\n",
       "      <td>-66.279758</td>\n",
       "      <td>303.962600</td>\n",
       "      <td>-100.399394</td>\n",
       "      <td>130982.762500</td>\n",
       "      <td>0.000000</td>\n",
       "      <td>0.000000</td>\n",
       "      <td>0.000000</td>\n",
       "      <td>0.000000</td>\n",
       "      <td>-98.227884</td>\n",
       "      <td>307.807910</td>\n",
       "      <td>0.000000</td>\n",
       "      <td>0.000000</td>\n",
       "      <td>0.000000</td>\n",
       "      <td>0.000000</td>\n",
       "      <td>59.999000</td>\n",
       "      <td>0.000000</td>\n",
       "      <td>8.291006e+00</td>\n",
       "      <td>-0.028589</td>\n",
       "      <td>0.000000</td>\n",
       "      <td>-101.562499</td>\n",
       "      <td>128826.461300</td>\n",
       "      <td>-96.490178</td>\n",
       "      <td>128769.000000</td>\n",
       "      <td>-69.052873</td>\n",
       "      <td>128901.681100</td>\n",
       "      <td>-65.091252</td>\n",
       "      <td>310.554560</td>\n",
       "      <td>-83.182013</td>\n",
       "      <td>316.446289</td>\n",
       "      <td>-105.295719</td>\n",
       "      <td>...</td>\n",
       "      <td>131359.531300</td>\n",
       "      <td>-101.992217</td>\n",
       "      <td>131018.156300</td>\n",
       "      <td>-69.430847</td>\n",
       "      <td>131435.093800</td>\n",
       "      <td>-97.643467</td>\n",
       "      <td>304.511930</td>\n",
       "      <td>-94.919132</td>\n",
       "      <td>309.494019</td>\n",
       "      <td>-67.173162</td>\n",
       "      <td>302.598938</td>\n",
       "      <td>-100.009783</td>\n",
       "      <td>131272.515600</td>\n",
       "      <td>0.000000</td>\n",
       "      <td>0.000000</td>\n",
       "      <td>0.000000</td>\n",
       "      <td>0.000000</td>\n",
       "      <td>-97.723682</td>\n",
       "      <td>306.249634</td>\n",
       "      <td>0.000000</td>\n",
       "      <td>0.000000</td>\n",
       "      <td>0.000000</td>\n",
       "      <td>0.000000</td>\n",
       "      <td>59.999001</td>\n",
       "      <td>0.000000</td>\n",
       "      <td>8.347653e+00</td>\n",
       "      <td>-0.028625</td>\n",
       "      <td>0.000000</td>\n",
       "      <td>0.000000</td>\n",
       "      <td>0.000000</td>\n",
       "      <td>0.000000</td>\n",
       "      <td>0.000000</td>\n",
       "      <td>0.000000</td>\n",
       "      <td>0.000000</td>\n",
       "      <td>0.000000</td>\n",
       "      <td>0.000000</td>\n",
       "      <td>0.000000</td>\n",
       "      <td>0.000000</td>\n",
       "      <td>0.000000</td>\n",
       "      <td>0.000000</td>\n",
       "    </tr>\n",
       "    <tr>\n",
       "      <th>50%</th>\n",
       "      <td>-28.865614</td>\n",
       "      <td>131684.814000</td>\n",
       "      <td>8.118812</td>\n",
       "      <td>131358.861500</td>\n",
       "      <td>13.401483</td>\n",
       "      <td>131760.033900</td>\n",
       "      <td>-23.514188</td>\n",
       "      <td>378.671480</td>\n",
       "      <td>1.885031</td>\n",
       "      <td>383.249230</td>\n",
       "      <td>6.881223</td>\n",
       "      <td>376.474160</td>\n",
       "      <td>-28.842695</td>\n",
       "      <td>131609.594200</td>\n",
       "      <td>0.000000</td>\n",
       "      <td>0.000000</td>\n",
       "      <td>0.000000</td>\n",
       "      <td>0.000000</td>\n",
       "      <td>-23.749101</td>\n",
       "      <td>380.319470</td>\n",
       "      <td>0.000000</td>\n",
       "      <td>0.000000</td>\n",
       "      <td>0.000000</td>\n",
       "      <td>0.000000</td>\n",
       "      <td>60.000000</td>\n",
       "      <td>0.000000</td>\n",
       "      <td>1.011317e+01</td>\n",
       "      <td>0.016968</td>\n",
       "      <td>0.000000</td>\n",
       "      <td>-29.665834</td>\n",
       "      <td>130020.265600</td>\n",
       "      <td>12.330052</td>\n",
       "      <td>129954.758400</td>\n",
       "      <td>10.077210</td>\n",
       "      <td>130080.124800</td>\n",
       "      <td>24.534053</td>\n",
       "      <td>383.615450</td>\n",
       "      <td>-5.729578</td>\n",
       "      <td>388.010090</td>\n",
       "      <td>-6.222322</td>\n",
       "      <td>...</td>\n",
       "      <td>131985.693300</td>\n",
       "      <td>7.969843</td>\n",
       "      <td>131634.667500</td>\n",
       "      <td>13.883972</td>\n",
       "      <td>132060.913100</td>\n",
       "      <td>-23.124577</td>\n",
       "      <td>376.997009</td>\n",
       "      <td>1.512609</td>\n",
       "      <td>380.868800</td>\n",
       "      <td>7.116394</td>\n",
       "      <td>375.009280</td>\n",
       "      <td>-28.742983</td>\n",
       "      <td>131885.400200</td>\n",
       "      <td>0.000000</td>\n",
       "      <td>0.000000</td>\n",
       "      <td>0.000000</td>\n",
       "      <td>0.000000</td>\n",
       "      <td>-23.359489</td>\n",
       "      <td>378.353119</td>\n",
       "      <td>0.000000</td>\n",
       "      <td>0.000000</td>\n",
       "      <td>0.000000</td>\n",
       "      <td>0.000000</td>\n",
       "      <td>60.000000</td>\n",
       "      <td>0.000000</td>\n",
       "      <td>1.017212e+01</td>\n",
       "      <td>0.015089</td>\n",
       "      <td>0.000000</td>\n",
       "      <td>0.000000</td>\n",
       "      <td>0.000000</td>\n",
       "      <td>0.000000</td>\n",
       "      <td>0.000000</td>\n",
       "      <td>0.000000</td>\n",
       "      <td>0.000000</td>\n",
       "      <td>0.000000</td>\n",
       "      <td>0.000000</td>\n",
       "      <td>0.000000</td>\n",
       "      <td>0.000000</td>\n",
       "      <td>0.000000</td>\n",
       "      <td>0.000000</td>\n",
       "    </tr>\n",
       "    <tr>\n",
       "      <th>75%</th>\n",
       "      <td>68.096034</td>\n",
       "      <td>132186.279400</td>\n",
       "      <td>104.897113</td>\n",
       "      <td>131885.400200</td>\n",
       "      <td>85.324875</td>\n",
       "      <td>132261.499300</td>\n",
       "      <td>66.274028</td>\n",
       "      <td>456.676340</td>\n",
       "      <td>102.674037</td>\n",
       "      <td>460.338540</td>\n",
       "      <td>82.053286</td>\n",
       "      <td>454.295910</td>\n",
       "      <td>68.096034</td>\n",
       "      <td>132085.986400</td>\n",
       "      <td>0.000000</td>\n",
       "      <td>0.000000</td>\n",
       "      <td>0.000000</td>\n",
       "      <td>0.000000</td>\n",
       "      <td>66.027656</td>\n",
       "      <td>457.775000</td>\n",
       "      <td>0.000000</td>\n",
       "      <td>7.141290</td>\n",
       "      <td>14.667720</td>\n",
       "      <td>7.141290</td>\n",
       "      <td>60.000000</td>\n",
       "      <td>0.000000</td>\n",
       "      <td>1.269372e+01</td>\n",
       "      <td>0.059942</td>\n",
       "      <td>0.000000</td>\n",
       "      <td>69.035338</td>\n",
       "      <td>130932.615900</td>\n",
       "      <td>104.674992</td>\n",
       "      <td>130857.396100</td>\n",
       "      <td>81.577731</td>\n",
       "      <td>130982.762500</td>\n",
       "      <td>102.450263</td>\n",
       "      <td>461.986530</td>\n",
       "      <td>65.091252</td>\n",
       "      <td>465.751648</td>\n",
       "      <td>93.506712</td>\n",
       "      <td>...</td>\n",
       "      <td>132504.281300</td>\n",
       "      <td>105.040353</td>\n",
       "      <td>132325.828100</td>\n",
       "      <td>85.565517</td>\n",
       "      <td>132584.640600</td>\n",
       "      <td>66.849063</td>\n",
       "      <td>454.050049</td>\n",
       "      <td>102.620546</td>\n",
       "      <td>457.489014</td>\n",
       "      <td>82.167877</td>\n",
       "      <td>452.281700</td>\n",
       "      <td>68.321228</td>\n",
       "      <td>132467.359400</td>\n",
       "      <td>0.000000</td>\n",
       "      <td>0.000000</td>\n",
       "      <td>0.000000</td>\n",
       "      <td>0.000000</td>\n",
       "      <td>66.531859</td>\n",
       "      <td>455.348968</td>\n",
       "      <td>0.000000</td>\n",
       "      <td>6.780624</td>\n",
       "      <td>7.992761</td>\n",
       "      <td>6.775070</td>\n",
       "      <td>60.000000</td>\n",
       "      <td>0.000000</td>\n",
       "      <td>1.277497e+01</td>\n",
       "      <td>0.057622</td>\n",
       "      <td>0.000000</td>\n",
       "      <td>0.000000</td>\n",
       "      <td>0.000000</td>\n",
       "      <td>0.000000</td>\n",
       "      <td>0.000000</td>\n",
       "      <td>0.000000</td>\n",
       "      <td>0.000000</td>\n",
       "      <td>0.000000</td>\n",
       "      <td>0.000000</td>\n",
       "      <td>0.000000</td>\n",
       "      <td>0.000000</td>\n",
       "      <td>0.000000</td>\n",
       "      <td>0.000000</td>\n",
       "    </tr>\n",
       "    <tr>\n",
       "      <th>max</th>\n",
       "      <td>179.994691</td>\n",
       "      <td>151592.990400</td>\n",
       "      <td>179.994691</td>\n",
       "      <td>151567.917200</td>\n",
       "      <td>179.988962</td>\n",
       "      <td>151693.283500</td>\n",
       "      <td>179.994691</td>\n",
       "      <td>1779.462980</td>\n",
       "      <td>179.994691</td>\n",
       "      <td>1265.656320</td>\n",
       "      <td>179.994691</td>\n",
       "      <td>1263.459000</td>\n",
       "      <td>179.988962</td>\n",
       "      <td>151618.063700</td>\n",
       "      <td>179.977503</td>\n",
       "      <td>46987.307980</td>\n",
       "      <td>179.467570</td>\n",
       "      <td>17501.142460</td>\n",
       "      <td>179.988962</td>\n",
       "      <td>1263.459000</td>\n",
       "      <td>179.988962</td>\n",
       "      <td>611.404290</td>\n",
       "      <td>179.988962</td>\n",
       "      <td>723.467610</td>\n",
       "      <td>66.035000</td>\n",
       "      <td>3.720000</td>\n",
       "      <td>inf</td>\n",
       "      <td>3.125937</td>\n",
       "      <td>272394.000000</td>\n",
       "      <td>179.997259</td>\n",
       "      <td>145336.656300</td>\n",
       "      <td>179.994691</td>\n",
       "      <td>145167.796900</td>\n",
       "      <td>179.997259</td>\n",
       "      <td>155526.781300</td>\n",
       "      <td>179.997259</td>\n",
       "      <td>1416.722070</td>\n",
       "      <td>179.997259</td>\n",
       "      <td>1275.910480</td>\n",
       "      <td>179.986276</td>\n",
       "      <td>...</td>\n",
       "      <td>151899.921900</td>\n",
       "      <td>179.997259</td>\n",
       "      <td>151749.687500</td>\n",
       "      <td>179.994691</td>\n",
       "      <td>151924.062500</td>\n",
       "      <td>179.988962</td>\n",
       "      <td>1781.324341</td>\n",
       "      <td>179.991768</td>\n",
       "      <td>1266.205650</td>\n",
       "      <td>179.988962</td>\n",
       "      <td>1262.726560</td>\n",
       "      <td>179.997259</td>\n",
       "      <td>151859.328100</td>\n",
       "      <td>179.964297</td>\n",
       "      <td>45946.320310</td>\n",
       "      <td>179.914860</td>\n",
       "      <td>17351.042970</td>\n",
       "      <td>179.997259</td>\n",
       "      <td>1264.740770</td>\n",
       "      <td>179.977503</td>\n",
       "      <td>610.038757</td>\n",
       "      <td>179.977503</td>\n",
       "      <td>715.827942</td>\n",
       "      <td>62.226000</td>\n",
       "      <td>3.150000</td>\n",
       "      <td>inf</td>\n",
       "      <td>3.106656</td>\n",
       "      <td>270336.000000</td>\n",
       "      <td>1.000000</td>\n",
       "      <td>1.000000</td>\n",
       "      <td>1.000000</td>\n",
       "      <td>1.000000</td>\n",
       "      <td>1.000000</td>\n",
       "      <td>1.000000</td>\n",
       "      <td>1.000000</td>\n",
       "      <td>1.000000</td>\n",
       "      <td>1.000000</td>\n",
       "      <td>1.000000</td>\n",
       "      <td>1.000000</td>\n",
       "      <td>1.000000</td>\n",
       "    </tr>\n",
       "  </tbody>\n",
       "</table>\n",
       "<p>8 rows × 128 columns</p>\n",
       "</div>"
      ],
      "text/plain": [
       "          R1-PA1:VH       R1-PM1:V  ...    snort_log3    snort_log4\n",
       "count  78377.000000   78377.000000  ...  78377.000000  78377.000000\n",
       "mean     -15.802424  130764.039577  ...      0.000089      0.000077\n",
       "std      100.876750    8546.118477  ...      0.009450      0.008749\n",
       "min     -179.988962       0.000000  ...      0.000000      0.000000\n",
       "25%     -100.416583  131057.982300  ...      0.000000      0.000000\n",
       "50%      -28.865614  131684.814000  ...      0.000000      0.000000\n",
       "75%       68.096034  132186.279400  ...      0.000000      0.000000\n",
       "max      179.994691  151592.990400  ...      1.000000      1.000000\n",
       "\n",
       "[8 rows x 128 columns]"
      ]
     },
     "execution_count": 12,
     "metadata": {},
     "output_type": "execute_result"
    }
   ],
   "source": [
    "df.describe()"
   ]
  },
  {
   "cell_type": "code",
   "execution_count": 13,
   "id": "f4d48e67",
   "metadata": {
    "executionInfo": {
     "elapsed": 7,
     "status": "ok",
     "timestamp": 1632095914794,
     "user": {
      "displayName": "何某某",
      "photoUrl": "https://lh3.googleusercontent.com/a/default-user=s64",
      "userId": "11716924609171587007"
     },
     "user_tz": -600
    },
    "id": "ae685be6"
   },
   "outputs": [],
   "source": [
    "# np.any(np.isnan(df))"
   ]
  },
  {
   "cell_type": "code",
   "execution_count": 14,
   "id": "6a26a9c6",
   "metadata": {
    "executionInfo": {
     "elapsed": 8,
     "status": "ok",
     "timestamp": 1632095914795,
     "user": {
      "displayName": "何某某",
      "photoUrl": "https://lh3.googleusercontent.com/a/default-user=s64",
      "userId": "11716924609171587007"
     },
     "user_tz": -600
    },
    "id": "b4ebe2fb"
   },
   "outputs": [],
   "source": [
    "# torch.cuda.is_available()"
   ]
  },
  {
   "cell_type": "markdown",
   "id": "b048f722",
   "metadata": {
    "id": "e2425087"
   },
   "source": [
    "Data preprocessing"
   ]
  },
  {
   "cell_type": "code",
   "execution_count": 15,
   "id": "8fa999dc",
   "metadata": {
    "colab": {
     "base_uri": "https://localhost:8080/"
    },
    "executionInfo": {
     "elapsed": 8,
     "status": "ok",
     "timestamp": 1632095914795,
     "user": {
      "displayName": "何某某",
      "photoUrl": "https://lh3.googleusercontent.com/a/default-user=s64",
      "userId": "11716924609171587007"
     },
     "user_tz": -600
    },
    "id": "5af4f033",
    "outputId": "aaefbecd-f741-4e89-cf03-32e8ab43de92"
   },
   "outputs": [
    {
     "data": {
      "text/plain": [
       "1    55663\n",
       "0    22714\n",
       "Name: marker, dtype: int64"
      ]
     },
     "execution_count": 15,
     "metadata": {},
     "output_type": "execute_result"
    }
   ],
   "source": [
    "# label Encoding\n",
    "df['marker'] = df['marker'].replace(['Natural'],0)\n",
    "df['marker'] = df['marker'].replace(['Attack'],1)\n",
    "df['marker'].value_counts()"
   ]
  },
  {
   "cell_type": "code",
   "execution_count": 16,
   "id": "10d66de6",
   "metadata": {
    "colab": {
     "base_uri": "https://localhost:8080/"
    },
    "executionInfo": {
     "elapsed": 399,
     "status": "ok",
     "timestamp": 1632095915189,
     "user": {
      "displayName": "何某某",
      "photoUrl": "https://lh3.googleusercontent.com/a/default-user=s64",
      "userId": "11716924609171587007"
     },
     "user_tz": -600
    },
    "id": "db2fd4d6",
    "outputId": "f360e4ae-7200-4b27-f02c-04a1bfdf8e2e"
   },
   "outputs": [
    {
     "name": "stdout",
     "output_type": "stream",
     "text": [
      "Series([], dtype: int64)\n"
     ]
    }
   ],
   "source": [
    "dataset = df.iloc[:]\n",
    "missing_val_count_by_column = (dataset.isnull().sum())\n",
    "print(missing_val_count_by_column[missing_val_count_by_column > 0])"
   ]
  },
  {
   "cell_type": "code",
   "execution_count": 17,
   "id": "d354aa40",
   "metadata": {
    "executionInfo": {
     "elapsed": 4,
     "status": "ok",
     "timestamp": 1632095915190,
     "user": {
      "displayName": "何某某",
      "photoUrl": "https://lh3.googleusercontent.com/a/default-user=s64",
      "userId": "11716924609171587007"
     },
     "user_tz": -600
    },
    "id": "46d3c732"
   },
   "outputs": [],
   "source": [
    "# #normalization\n",
    "# from sklearn.preprocessing import MinMaxScaler\n",
    "# scaler = MinMaxScaler(feature_range=(-1,1))\n",
    "# df_normalized=scaler.fit_transform(dataset.values.reshape(-1,1))"
   ]
  },
  {
   "cell_type": "code",
   "execution_count": 18,
   "id": "d5a0b8b1",
   "metadata": {
    "executionInfo": {
     "elapsed": 3,
     "status": "ok",
     "timestamp": 1632095915190,
     "user": {
      "displayName": "何某某",
      "photoUrl": "https://lh3.googleusercontent.com/a/default-user=s64",
      "userId": "11716924609171587007"
     },
     "user_tz": -600
    },
    "id": "0b1cffd4"
   },
   "outputs": [],
   "source": [
    "# Separate target from predictors\n",
    "y = df.marker\n",
    "x = df.drop(['marker'], axis=1)"
   ]
  },
  {
   "cell_type": "code",
   "execution_count": 19,
   "id": "2faa45a3",
   "metadata": {
    "executionInfo": {
     "elapsed": 4,
     "status": "ok",
     "timestamp": 1632095915191,
     "user": {
      "displayName": "何某某",
      "photoUrl": "https://lh3.googleusercontent.com/a/default-user=s64",
      "userId": "11716924609171587007"
     },
     "user_tz": -600
    },
    "id": "ce9cb50d"
   },
   "outputs": [],
   "source": [
    "# print(y.shape)\n",
    "# print(x.shape)"
   ]
  },
  {
   "cell_type": "code",
   "execution_count": 20,
   "id": "3be5ee4c",
   "metadata": {
    "executionInfo": {
     "elapsed": 4,
     "status": "ok",
     "timestamp": 1632095915191,
     "user": {
      "displayName": "何某某",
      "photoUrl": "https://lh3.googleusercontent.com/a/default-user=s64",
      "userId": "11716924609171587007"
     },
     "user_tz": -600
    },
    "id": "abd7479d"
   },
   "outputs": [],
   "source": [
    "values = x\n",
    "# np.all(np.isfinite(values))\n",
    "values.replace([np.inf, -np.inf], np.nan, inplace=True)\n"
   ]
  },
  {
   "cell_type": "code",
   "execution_count": 21,
   "id": "13926abf",
   "metadata": {
    "colab": {
     "base_uri": "https://localhost:8080/"
    },
    "executionInfo": {
     "elapsed": 822,
     "status": "ok",
     "timestamp": 1632095916009,
     "user": {
      "displayName": "何某某",
      "photoUrl": "https://lh3.googleusercontent.com/a/default-user=s64",
      "userId": "11716924609171587007"
     },
     "user_tz": -600
    },
    "id": "97efa2d0",
    "outputId": "85a61b9f-c4b7-46b3-e528-873ccad50a98"
   },
   "outputs": [
    {
     "data": {
      "text/plain": [
       "array([[ 8.54530879e-01, -3.61680979e-01, -4.63096184e-01, ...,\n",
       "        -7.14408742e-03, -9.45092021e-03, -8.74979607e-03],\n",
       "       [ 8.87133027e-01, -5.65557055e-02, -4.33818243e-01, ...,\n",
       "        -7.14408742e-03, -9.45092021e-03, -8.74979607e-03],\n",
       "       [ 8.87587412e-01, -5.36218052e-02, -4.33408045e-01, ...,\n",
       "        -7.14408742e-03, -9.45092021e-03, -8.74979607e-03],\n",
       "       ...,\n",
       "       [ 1.42241229e-03,  3.43950999e-02, -1.23329575e+00, ...,\n",
       "        -7.14408742e-03, -9.45092021e-03, -8.74979607e-03],\n",
       "       [ 6.84036156e-04,  3.43950999e-02, -1.23396232e+00, ...,\n",
       "        -7.14408742e-03, -9.45092021e-03, -8.74979607e-03],\n",
       "       [ 5.92562950e-05,  3.43950999e-02, -1.23452634e+00, ...,\n",
       "        -7.14408742e-03, -9.45092021e-03, -8.74979607e-03]])"
      ]
     },
     "execution_count": 21,
     "metadata": {},
     "output_type": "execute_result"
    }
   ],
   "source": [
    "#normalization\n",
    "# from sklearn.preprocessing import MinMaxScaler\n",
    "from sklearn.preprocessing import StandardScaler\n",
    "# scaler = MinMaxScaler()\n",
    "scaler = StandardScaler()\n",
    "X_normalized=scaler.fit_transform(values)\n",
    "X_normalized"
   ]
  },
  {
   "cell_type": "code",
   "execution_count": 22,
   "id": "d48d5451",
   "metadata": {
    "executionInfo": {
     "elapsed": 6,
     "status": "ok",
     "timestamp": 1632095916009,
     "user": {
      "displayName": "何某某",
      "photoUrl": "https://lh3.googleusercontent.com/a/default-user=s64",
      "userId": "11716924609171587007"
     },
     "user_tz": -600
    },
    "id": "85229c17"
   },
   "outputs": [],
   "source": [
    "from sklearn.model_selection import train_test_split"
   ]
  },
  {
   "cell_type": "code",
   "execution_count": 23,
   "id": "9526b755",
   "metadata": {
    "executionInfo": {
     "elapsed": 7,
     "status": "ok",
     "timestamp": 1632095916010,
     "user": {
      "displayName": "何某某",
      "photoUrl": "https://lh3.googleusercontent.com/a/default-user=s64",
      "userId": "11716924609171587007"
     },
     "user_tz": -600
    },
    "id": "32f29097"
   },
   "outputs": [],
   "source": [
    "# Divide data into training and validation subsets\n",
    "X_train_full, X_valid_full, y_train, y_valid = train_test_split(X_normalized, y, train_size=0.9, test_size=0.1, random_state=0)"
   ]
  },
  {
   "cell_type": "code",
   "execution_count": 24,
   "id": "7f3f3fe3",
   "metadata": {
    "colab": {
     "base_uri": "https://localhost:8080/"
    },
    "executionInfo": {
     "elapsed": 7,
     "status": "ok",
     "timestamp": 1632095916010,
     "user": {
      "displayName": "何某某",
      "photoUrl": "https://lh3.googleusercontent.com/a/default-user=s64",
      "userId": "11716924609171587007"
     },
     "user_tz": -600
    },
    "id": "25557f17",
    "outputId": "3619d117-16b2-47f9-d074-37f1da501a4b"
   },
   "outputs": [
    {
     "data": {
      "text/plain": [
       "(70539, 128)"
      ]
     },
     "execution_count": 24,
     "metadata": {},
     "output_type": "execute_result"
    }
   ],
   "source": [
    "X_train_full.shape"
   ]
  },
  {
   "cell_type": "code",
   "execution_count": 25,
   "id": "dd006d11",
   "metadata": {
    "executionInfo": {
     "elapsed": 5,
     "status": "ok",
     "timestamp": 1632095916011,
     "user": {
      "displayName": "何某某",
      "photoUrl": "https://lh3.googleusercontent.com/a/default-user=s64",
      "userId": "11716924609171587007"
     },
     "user_tz": -600
    },
    "id": "2323214d"
   },
   "outputs": [],
   "source": [
    "# from keras.preprocessing.sequence import TimeseriesGenerator"
   ]
  },
  {
   "cell_type": "code",
   "execution_count": 26,
   "id": "83b1ea59",
   "metadata": {
    "executionInfo": {
     "elapsed": 5,
     "status": "ok",
     "timestamp": 1632095916011,
     "user": {
      "displayName": "何某某",
      "photoUrl": "https://lh3.googleusercontent.com/a/default-user=s64",
      "userId": "11716924609171587007"
     },
     "user_tz": -600
    },
    "id": "TxsEawNUIKQy"
   },
   "outputs": [],
   "source": [
    "#function to convert to time domain dataset\n",
    "def create_dataset(X, time_steps):\n",
    "    Xs = []\n",
    "    for i in range(len(X) - time_steps):\n",
    "        v = X.iloc[i:(i + time_steps)].values\n",
    "        Xs.append(v)\n",
    "    return np.array(Xs)"
   ]
  },
  {
   "cell_type": "code",
   "execution_count": 27,
   "id": "f223f48c",
   "metadata": {
    "colab": {
     "base_uri": "https://localhost:8080/"
    },
    "executionInfo": {
     "elapsed": 5441,
     "status": "ok",
     "timestamp": 1632095921447,
     "user": {
      "displayName": "何某某",
      "photoUrl": "https://lh3.googleusercontent.com/a/default-user=s64",
      "userId": "11716924609171587007"
     },
     "user_tz": -600
    },
    "id": "sDa75ZDvIO2F",
    "outputId": "7f51353d-abd8-44f7-87e8-05013af5bae4"
   },
   "outputs": [
    {
     "name": "stdout",
     "output_type": "stream",
     "text": [
      "(7837, 1, 128)\n",
      "(7837, 1, 1)\n"
     ]
    }
   ],
   "source": [
    "# reshape to [samples, time_steps, n_features]\n",
    "\n",
    "TIME_STEPS = 1\n",
    "X_train = pd.DataFrame(X_train_full)\n",
    "X_train = create_dataset(X_train, TIME_STEPS)\n",
    "y_train = pd.DataFrame(y_train)\n",
    "y_train = create_dataset(y_train, TIME_STEPS)\n",
    "X_valid = pd.DataFrame(X_valid_full)\n",
    "X_valid = create_dataset(X_valid, TIME_STEPS)\n",
    "y_valid = pd.DataFrame(y_valid)\n",
    "y_valid = create_dataset(y_valid, TIME_STEPS)\n",
    "print(X_valid.shape)\n",
    "print(y_valid.shape)"
   ]
  },
  {
   "cell_type": "code",
   "execution_count": 28,
   "id": "7ed1a790",
   "metadata": {
    "executionInfo": {
     "elapsed": 22,
     "status": "ok",
     "timestamp": 1632095921448,
     "user": {
      "displayName": "何某某",
      "photoUrl": "https://lh3.googleusercontent.com/a/default-user=s64",
      "userId": "11716924609171587007"
     },
     "user_tz": -600
    },
    "id": "6ecf3509"
   },
   "outputs": [],
   "source": [
    "# reshape input to be 3D [samples, timesteps, features]\n",
    "# X_train_full = X_train_full.reshape((X_train_full.shape[0], 1, X_train_full.shape[1]))\n",
    "# X_valid_full = X_valid_full.reshape((X_valid_full.shape[0], 1, X_valid_full.shape[1]))\n",
    "# print(X_train_full.shape, y_train.shape, X_valid_full.shape, y_valid.shape) "
   ]
  },
  {
   "cell_type": "markdown",
   "id": "4dd6601f",
   "metadata": {
    "id": "7e37824a"
   },
   "source": [
    "# Construct Model"
   ]
  },
  {
   "cell_type": "code",
   "execution_count": 29,
   "id": "08622de1",
   "metadata": {
    "executionInfo": {
     "elapsed": 21,
     "status": "ok",
     "timestamp": 1632095921448,
     "user": {
      "displayName": "何某某",
      "photoUrl": "https://lh3.googleusercontent.com/a/default-user=s64",
      "userId": "11716924609171587007"
     },
     "user_tz": -600
    },
    "id": "6e5ec74d"
   },
   "outputs": [],
   "source": [
    "class LSTM(nn.Module):\n",
    "    def __init__(self,input_size, output_size, hidden_size, num_layers):\n",
    "        super(LSTM,self).__init__()\n",
    "        self.input_size = input_size\n",
    "        self.output_size = output_size\n",
    "        self.num_layers = num_layers\n",
    "        self.hidden_size = hidden_size\n",
    "              \n",
    "        self.lstm1 = nn.LSTM(input_size=input_size, \n",
    "                            hidden_size=hidden_size,\n",
    "                            num_layers=num_layers, \n",
    "                            batch_first=False,dropout = 0)\n",
    "        self.lstm2 = nn.LSTM(input_size=hidden_size, \n",
    "                            hidden_size=32,\n",
    "                            num_layers=num_layers, \n",
    "                            batch_first=False,dropout = 0)\n",
    "        self.dropout1 = nn.Dropout(p=0.3)\n",
    "        self.dropout2 = nn.Dropout(p=0.3)\n",
    "        self.fc = nn.Linear(32,output_size)\n",
    "      \n",
    "        self.sigmoid = nn.Sigmoid()\n",
    "     \n",
    "    def forward(self, x):     \n",
    "        per_out=[]\n",
    "        lstm_out, self.hidden_cell = self.lstm1(x)\n",
    "        per_out.append(lstm_out)\n",
    "        lstm_out = self.dropout1(lstm_out)\n",
    "        lstm_out, self.hidden_cell = self.lstm2(lstm_out)\n",
    "        per_out.append(lstm_out)\n",
    "        lstm_out = self.dropout2(lstm_out)\n",
    "        out = self.fc(lstm_out)\n",
    "        per_out.append(out)\n",
    "        score = self.sigmoid(out)\n",
    "        return score, per_out"
   ]
  },
  {
   "cell_type": "code",
   "execution_count": 39,
   "id": "1c88b979",
   "metadata": {
    "executionInfo": {
     "elapsed": 288,
     "status": "ok",
     "timestamp": 1632096117082,
     "user": {
      "displayName": "何某某",
      "photoUrl": "https://lh3.googleusercontent.com/a/default-user=s64",
      "userId": "11716924609171587007"
     },
     "user_tz": -600
    },
    "id": "04BammCCf-A-"
   },
   "outputs": [],
   "source": [
    "class LSTM(nn.Module):\n",
    "    def __init__(self,input_size, output_size, hidden_size, num_layers):\n",
    "        super(LSTM,self).__init__()\n",
    "        self.input_size = input_size\n",
    "        self.output_size = output_size\n",
    "        self.num_layers = num_layers\n",
    "        self.hidden_size = hidden_size\n",
    "              \n",
    "        self.lstm = nn.LSTM(input_size=input_size, \n",
    "                            hidden_size=hidden_size,\n",
    "                            num_layers=num_layers, \n",
    "                            batch_first=False,dropout = 0)\n",
    "\n",
    "        self.dropout = nn.Dropout(p=0.3)\n",
    "        self.fc = nn.Linear(64,output_size)\n",
    "      \n",
    "        self.sigmoid = nn.Sigmoid()\n",
    "     \n",
    "    def forward(self, x):     \n",
    "        per_out=[]\n",
    "        lstm_out, self.hidden_cell = self.lstm(x)\n",
    "        per_out.append(lstm_out)\n",
    "        lstm_out = self.dropout(lstm_out)    \n",
    "        out = self.fc(lstm_out)\n",
    "        per_out.append(out)\n",
    "        score = self.sigmoid(out)\n",
    "        return score, per_out"
   ]
  },
  {
   "cell_type": "code",
   "execution_count": 30,
   "id": "17d307eb",
   "metadata": {
    "executionInfo": {
     "elapsed": 21,
     "status": "ok",
     "timestamp": 1632095921448,
     "user": {
      "displayName": "何某某",
      "photoUrl": "https://lh3.googleusercontent.com/a/default-user=s64",
      "userId": "11716924609171587007"
     },
     "user_tz": -600
    },
    "id": "2f6140d5"
   },
   "outputs": [],
   "source": [
    "def evaluate_accuracy(x,y,model):\n",
    "    output,pre_out = model(x)\n",
    "    output = torch.reshape(output,[-1,1])\n",
    "    correct = (output.ge(0.5) == y).sum().item()\n",
    "    n = y.shape[0]\n",
    "    return correct/n"
   ]
  },
  {
   "cell_type": "code",
   "execution_count": 40,
   "id": "800d8d06",
   "metadata": {
    "executionInfo": {
     "elapsed": 276,
     "status": "ok",
     "timestamp": 1632096122052,
     "user": {
      "displayName": "何某某",
      "photoUrl": "https://lh3.googleusercontent.com/a/default-user=s64",
      "userId": "11716924609171587007"
     },
     "user_tz": -600
    },
    "id": "f46e40c1"
   },
   "outputs": [],
   "source": [
    "input_size = 128\n",
    "output_size = 1\n",
    "hidden_size = 64\n",
    "num_layers = 2\n",
    "device = torch.device('cuda')\n",
    "model = LSTM(input_size,output_size, hidden_size, num_layers)\n",
    "loss_function = nn.BCELoss()\n",
    "# model = LSTM(input_size,output_size, hidden_size, num_layers)\n",
    "# loss_function = nn.BCELoss()\n",
    "# optimizer = torch.optim.Adam(model.parameters(),lr=0.001)\n",
    "optimizer = torch.optim.SGD(model.parameters(),lr=0.01)"
   ]
  },
  {
   "cell_type": "code",
   "execution_count": 41,
   "id": "d03c7cbe",
   "metadata": {
    "colab": {
     "base_uri": "https://localhost:8080/"
    },
    "executionInfo": {
     "elapsed": 295,
     "status": "ok",
     "timestamp": 1632096124012,
     "user": {
      "displayName": "何某某",
      "photoUrl": "https://lh3.googleusercontent.com/a/default-user=s64",
      "userId": "11716924609171587007"
     },
     "user_tz": -600
    },
    "id": "1b40d38d",
    "outputId": "6bc9211d-9e18-4c39-bd4f-e0063c5e0313"
   },
   "outputs": [
    {
     "name": "stdout",
     "output_type": "stream",
     "text": [
      "LSTM(\n",
      "  (lstm): LSTM(128, 64, num_layers=2)\n",
      "  (dropout): Dropout(p=0.3, inplace=False)\n",
      "  (fc): Linear(in_features=64, out_features=1, bias=True)\n",
      "  (sigmoid): Sigmoid()\n",
      ")\n"
     ]
    }
   ],
   "source": [
    "print(model)"
   ]
  },
  {
   "cell_type": "code",
   "execution_count": 33,
   "id": "d85a9299",
   "metadata": {
    "colab": {
     "base_uri": "https://localhost:8080/"
    },
    "executionInfo": {
     "elapsed": 18,
     "status": "ok",
     "timestamp": 1632095921449,
     "user": {
      "displayName": "何某某",
      "photoUrl": "https://lh3.googleusercontent.com/a/default-user=s64",
      "userId": "11716924609171587007"
     },
     "user_tz": -600
    },
    "id": "66805a8e",
    "outputId": "2c779e99-5c58-4e19-d30e-09a651be22c6"
   },
   "outputs": [
    {
     "data": {
      "text/plain": [
       "70538"
      ]
     },
     "execution_count": 33,
     "metadata": {},
     "output_type": "execute_result"
    }
   ],
   "source": [
    "len(X_train)"
   ]
  },
  {
   "cell_type": "code",
   "execution_count": 34,
   "id": "2058f9ba",
   "metadata": {
    "executionInfo": {
     "elapsed": 16,
     "status": "ok",
     "timestamp": 1632095921450,
     "user": {
      "displayName": "何某某",
      "photoUrl": "https://lh3.googleusercontent.com/a/default-user=s64",
      "userId": "11716924609171587007"
     },
     "user_tz": -600
    },
    "id": "fc93b707"
   },
   "outputs": [],
   "source": [
    "# x = X_train_full[:2,:,:]\n",
    "# x.shape"
   ]
  },
  {
   "cell_type": "code",
   "execution_count": 35,
   "id": "6f0e4992",
   "metadata": {
    "executionInfo": {
     "elapsed": 18,
     "status": "ok",
     "timestamp": 1632095921452,
     "user": {
      "displayName": "何某某",
      "photoUrl": "https://lh3.googleusercontent.com/a/default-user=s64",
      "userId": "11716924609171587007"
     },
     "user_tz": -600
    },
    "id": "a9d74dc9"
   },
   "outputs": [],
   "source": [
    "# loss"
   ]
  },
  {
   "cell_type": "code",
   "execution_count": 36,
   "id": "933b3111",
   "metadata": {
    "colab": {
     "base_uri": "https://localhost:8080/"
    },
    "executionInfo": {
     "elapsed": 18,
     "status": "ok",
     "timestamp": 1632095921453,
     "user": {
      "displayName": "何某某",
      "photoUrl": "https://lh3.googleusercontent.com/a/default-user=s64",
      "userId": "11716924609171587007"
     },
     "user_tz": -600
    },
    "id": "dad27793",
    "outputId": "bbb462d2-1cc7-42ee-e307-1f3496e6f4b8"
   },
   "outputs": [
    {
     "data": {
      "text/plain": [
       "1176"
      ]
     },
     "execution_count": 36,
     "metadata": {},
     "output_type": "execute_result"
    }
   ],
   "source": [
    "import math\n",
    "math.ceil(len(X_train)/60)"
   ]
  },
  {
   "cell_type": "code",
   "execution_count": 37,
   "id": "7701d2ab",
   "metadata": {
    "colab": {
     "base_uri": "https://localhost:8080/"
    },
    "executionInfo": {
     "elapsed": 652,
     "status": "ok",
     "timestamp": 1632095922094,
     "user": {
      "displayName": "何某某",
      "photoUrl": "https://lh3.googleusercontent.com/a/default-user=s64",
      "userId": "11716924609171587007"
     },
     "user_tz": -600
    },
    "id": "NSi6TwgKmU2N",
    "outputId": "e1695b30-7a9a-467c-a26c-55061239fd22"
   },
   "outputs": [
    {
     "name": "stdout",
     "output_type": "stream",
     "text": [
      "torch.Size([70538, 1, 128])\n",
      "torch.Size([70538, 1, 1])\n"
     ]
    }
   ],
   "source": [
    "import torch.utils.data as Data\n",
    "# 将输入和输出封装进Data.TensorDataset()类对象\n",
    "x = torch.tensor(X_train[:,:,:]).float()\n",
    "x = torch.where(torch.isnan(x), torch.full_like(x, 0), x)\n",
    "    \n",
    "y = y_train[:]\n",
    "y = np.array(y)\n",
    "# y = torch.tensor(np.reshape(y,[-1,1]))\n",
    "y = torch.tensor(y)\n",
    "y = y.float()\n",
    "print(x.shape)\n",
    "print(y.shape)\n",
    "\n",
    "torch_dataset = Data.TensorDataset(x,y)"
   ]
  },
  {
   "cell_type": "code",
   "execution_count": 38,
   "id": "6f0e13f7",
   "metadata": {
    "executionInfo": {
     "elapsed": 5,
     "status": "ok",
     "timestamp": 1632095922095,
     "user": {
      "displayName": "何某某",
      "photoUrl": "https://lh3.googleusercontent.com/a/default-user=s64",
      "userId": "11716924609171587007"
     },
     "user_tz": -600
    },
    "id": "1376643d"
   },
   "outputs": [],
   "source": [
    "BATCH_SIZE = 60\n",
    "train_dataloader = torch.utils.data.DataLoader(torch_dataset, batch_size=BATCH_SIZE, shuffle=False, num_workers=2)"
   ]
  },
  {
   "cell_type": "markdown",
   "id": "2f9702ae",
   "metadata": {
    "id": "44263c90"
   },
   "source": [
    "# Training and Evaluation"
   ]
  },
  {
   "cell_type": "code",
   "execution_count": null,
   "id": "9140e8fd",
   "metadata": {
    "id": "ezFCDoGqoJ2o"
   },
   "outputs": [],
   "source": [
    "epochs = 100\n",
    "for epoch in range(epochs):\n",
    "  for step, (batch_x, batch_y) in enumerate(train_dataloader):\n",
    "    batch_x = batch_x.cuda()\n",
    "   \n",
    "    output,pre_out = model(batch_x)\n",
    "    output = torch.reshape(output,[-1,1])\n",
    "\n",
    "    batch_y = np.array(batch_y)\n",
    "    batch_y = torch.tensor(np.reshape(batch_y,[-1,1]))\n",
    "    batch_y = batch_y.float()\n",
    "    batch_y = batch_y.cuda()\n",
    "\n",
    "    loss = loss_function(output,batch_y)\n",
    "    acc = evaluate_accuracy(batch_x,batch_y,model)\n",
    "    optimizer.zero_grad()\n",
    "    loss.backward()\n",
    "    optimizer.step()\n",
    "    \n",
    "    if epoch % 5 == 0:\n",
    "      print(\"epoch:{} Step:{} loss:{} acc:{}\".format(epoch,step,loss.item(),acc))"
   ]
  },
  {
   "cell_type": "code",
   "execution_count": 50,
   "id": "7709d2ff",
   "metadata": {
    "colab": {
     "base_uri": "https://localhost:8080/",
     "height": 416
    },
    "executionInfo": {
     "elapsed": 130991,
     "status": "error",
     "timestamp": 1632097158192,
     "user": {
      "displayName": "何某某",
      "photoUrl": "https://lh3.googleusercontent.com/a/default-user=s64",
      "userId": "11716924609171587007"
     },
     "user_tz": -600
    },
    "id": "NEC6BkYGTXQY",
    "outputId": "ae45502a-6c52-43de-d430-d221565ab4f5"
   },
   "outputs": [
    {
     "name": "stdout",
     "output_type": "stream",
     "text": [
      "epoch:0 loss:0.700545072555542\n"
     ]
    },
    {
     "ename": "KeyboardInterrupt",
     "evalue": "ignored",
     "output_type": "error",
     "traceback": [
      "\u001b[0;31m---------------------------------------------------------------------------\u001b[0m",
      "\u001b[0;31mKeyboardInterrupt\u001b[0m                         Traceback (most recent call last)",
      "\u001b[0;32m<ipython-input-50-67c30b103d47>\u001b[0m in \u001b[0;36m<module>\u001b[0;34m()\u001b[0m\n\u001b[1;32m     17\u001b[0m     \u001b[0mloss\u001b[0m \u001b[0;34m=\u001b[0m \u001b[0mloss_function\u001b[0m\u001b[0;34m(\u001b[0m\u001b[0moutput\u001b[0m\u001b[0;34m,\u001b[0m\u001b[0my\u001b[0m\u001b[0;34m)\u001b[0m\u001b[0;34m\u001b[0m\u001b[0;34m\u001b[0m\u001b[0m\n\u001b[1;32m     18\u001b[0m     \u001b[0moptimizer\u001b[0m\u001b[0;34m.\u001b[0m\u001b[0mzero_grad\u001b[0m\u001b[0;34m(\u001b[0m\u001b[0;34m)\u001b[0m\u001b[0;34m\u001b[0m\u001b[0;34m\u001b[0m\u001b[0m\n\u001b[0;32m---> 19\u001b[0;31m     \u001b[0mloss\u001b[0m\u001b[0;34m.\u001b[0m\u001b[0mbackward\u001b[0m\u001b[0;34m(\u001b[0m\u001b[0;34m)\u001b[0m\u001b[0;34m\u001b[0m\u001b[0;34m\u001b[0m\u001b[0m\n\u001b[0m\u001b[1;32m     20\u001b[0m     \u001b[0moptimizer\u001b[0m\u001b[0;34m.\u001b[0m\u001b[0mstep\u001b[0m\u001b[0;34m(\u001b[0m\u001b[0;34m)\u001b[0m\u001b[0;34m\u001b[0m\u001b[0;34m\u001b[0m\u001b[0m\n\u001b[1;32m     21\u001b[0m \u001b[0;34m\u001b[0m\u001b[0m\n",
      "\u001b[0;32m/usr/local/lib/python3.7/dist-packages/torch/_tensor.py\u001b[0m in \u001b[0;36mbackward\u001b[0;34m(self, gradient, retain_graph, create_graph, inputs)\u001b[0m\n\u001b[1;32m    253\u001b[0m                 \u001b[0mcreate_graph\u001b[0m\u001b[0;34m=\u001b[0m\u001b[0mcreate_graph\u001b[0m\u001b[0;34m,\u001b[0m\u001b[0;34m\u001b[0m\u001b[0;34m\u001b[0m\u001b[0m\n\u001b[1;32m    254\u001b[0m                 inputs=inputs)\n\u001b[0;32m--> 255\u001b[0;31m         \u001b[0mtorch\u001b[0m\u001b[0;34m.\u001b[0m\u001b[0mautograd\u001b[0m\u001b[0;34m.\u001b[0m\u001b[0mbackward\u001b[0m\u001b[0;34m(\u001b[0m\u001b[0mself\u001b[0m\u001b[0;34m,\u001b[0m \u001b[0mgradient\u001b[0m\u001b[0;34m,\u001b[0m \u001b[0mretain_graph\u001b[0m\u001b[0;34m,\u001b[0m \u001b[0mcreate_graph\u001b[0m\u001b[0;34m,\u001b[0m \u001b[0minputs\u001b[0m\u001b[0;34m=\u001b[0m\u001b[0minputs\u001b[0m\u001b[0;34m)\u001b[0m\u001b[0;34m\u001b[0m\u001b[0;34m\u001b[0m\u001b[0m\n\u001b[0m\u001b[1;32m    256\u001b[0m \u001b[0;34m\u001b[0m\u001b[0m\n\u001b[1;32m    257\u001b[0m     \u001b[0;32mdef\u001b[0m \u001b[0mregister_hook\u001b[0m\u001b[0;34m(\u001b[0m\u001b[0mself\u001b[0m\u001b[0;34m,\u001b[0m \u001b[0mhook\u001b[0m\u001b[0;34m)\u001b[0m\u001b[0;34m:\u001b[0m\u001b[0;34m\u001b[0m\u001b[0;34m\u001b[0m\u001b[0m\n",
      "\u001b[0;32m/usr/local/lib/python3.7/dist-packages/torch/autograd/__init__.py\u001b[0m in \u001b[0;36mbackward\u001b[0;34m(tensors, grad_tensors, retain_graph, create_graph, grad_variables, inputs)\u001b[0m\n\u001b[1;32m    147\u001b[0m     Variable._execution_engine.run_backward(\n\u001b[1;32m    148\u001b[0m         \u001b[0mtensors\u001b[0m\u001b[0;34m,\u001b[0m \u001b[0mgrad_tensors_\u001b[0m\u001b[0;34m,\u001b[0m \u001b[0mretain_graph\u001b[0m\u001b[0;34m,\u001b[0m \u001b[0mcreate_graph\u001b[0m\u001b[0;34m,\u001b[0m \u001b[0minputs\u001b[0m\u001b[0;34m,\u001b[0m\u001b[0;34m\u001b[0m\u001b[0;34m\u001b[0m\u001b[0m\n\u001b[0;32m--> 149\u001b[0;31m         allow_unreachable=True, accumulate_grad=True)  # allow_unreachable flag\n\u001b[0m\u001b[1;32m    150\u001b[0m \u001b[0;34m\u001b[0m\u001b[0m\n\u001b[1;32m    151\u001b[0m \u001b[0;34m\u001b[0m\u001b[0m\n",
      "\u001b[0;31mKeyboardInterrupt\u001b[0m: "
     ]
    }
   ],
   "source": [
    "epochs = 10\n",
    "for epoch in range(epochs):\n",
    "    model.train()\n",
    "    x = torch.tensor( X_train[:,:,:]).float()\n",
    "    x = torch.where(torch.isnan(x), torch.full_like(x, 0), x)\n",
    "    \n",
    "    y = y_train[:]\n",
    "    y = np.array(y)\n",
    "    y = torch.tensor(np.reshape(y,[-1,1]))\n",
    "    y = y.float()\n",
    "    \n",
    "    x = x\n",
    "    y = y\n",
    "    \n",
    "    output,pre_out = model(x)\n",
    "    output = torch.reshape(output,[-1,1])\n",
    "    loss = loss_function(output,y)\n",
    "    optimizer.zero_grad()\n",
    "    loss.backward()\n",
    "    optimizer.step()\n",
    "    \n",
    "    if epoch % 1 == 0:\n",
    "        print(\"epoch:{} loss:{}\".format(epoch,loss.item()))"
   ]
  },
  {
   "cell_type": "code",
   "execution_count": 49,
   "id": "7a68c2c9",
   "metadata": {
    "colab": {
     "base_uri": "https://localhost:8080/"
    },
    "executionInfo": {
     "elapsed": 10580,
     "status": "ok",
     "timestamp": 1632096998849,
     "user": {
      "displayName": "何某某",
      "photoUrl": "https://lh3.googleusercontent.com/a/default-user=s64",
      "userId": "11716924609171587007"
     },
     "user_tz": -600
    },
    "id": "c4b6f8cd",
    "outputId": "71d746ae-cfab-4db6-b610-07e1d8861c9c"
   },
   "outputs": [
    {
     "name": "stdout",
     "output_type": "stream",
     "text": [
      "(7837, 1, 128)\n",
      "(7837, 1, 1)\n",
      "epoch:4 loss:0.7012091279029846\n",
      "train acc 0.3381723326433979\n",
      "valid acc: 0.33469439836672193\n"
     ]
    }
   ],
   "source": [
    "print(X_valid.shape)\n",
    "print(y_valid.shape)\n",
    "x = torch.tensor( X_train[:,:,:]).float()\n",
    "x = torch.where(torch.isnan(x), torch.full_like(x, 0), x)\n",
    "    \n",
    "y = y_train[:]\n",
    "y = np.array(y)\n",
    "y = torch.tensor(np.reshape(y,[-1,1]))\n",
    "y = y.float()\n",
    "# x = torch.tensor(X_train)\n",
    "# y = torch.tensor(y_train)\n",
    "\n",
    "x_valid = torch.tensor(X_valid[:,:,:]).float()\n",
    "x_valid = torch.where(torch.isnan(x_valid), torch.full_like(x_valid, 0), x_valid)\n",
    "    \n",
    "y_val = y_valid[:]\n",
    "y_val = np.array(y_val)\n",
    "y_val = torch.tensor(np.reshape(y_val,[-1,1]))\n",
    "y_val = y_val.float()\n",
    "\n",
    "x_valid = x_valid\n",
    "y_val = y_val\n",
    "\n",
    "train_acc = evaluate_accuracy(x_valid,y_val,model)\n",
    "print(\"epoch:{} loss:{}\".format(epoch,loss.item()))\n",
    "print(\"train acc\", evaluate_accuracy(x,y,model))\n",
    "print(\"valid acc:\",train_acc)"
   ]
  },
  {
   "cell_type": "code",
   "execution_count": null,
   "id": "fd45c7ce",
   "metadata": {
    "id": "f6e71c4a"
   },
   "outputs": [],
   "source": []
  }
 ],
 "metadata": {
  "accelerator": "GPU",
  "colab": {
   "name": "LSTM.ipynb",
   "provenance": []
  },
  "kernelspec": {
   "display_name": "Python 3",
   "language": "python",
   "name": "python3"
  },
  "language_info": {
   "codemirror_mode": {
    "name": "ipython",
    "version": 3
   },
   "file_extension": ".py",
   "mimetype": "text/x-python",
   "name": "python",
   "nbconvert_exporter": "python",
   "pygments_lexer": "ipython3",
   "version": "3.8.3"
  }
 },
 "nbformat": 4,
 "nbformat_minor": 5
}
