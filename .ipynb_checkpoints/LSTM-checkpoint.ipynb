{
 "cells": [
  {
   "cell_type": "code",
   "execution_count": 66,
   "id": "26f9b932",
   "metadata": {},
   "outputs": [],
   "source": [
    "import pandas as pd\n",
    "import numpy as np \n",
    "import torch\n",
    "from torch import nn\n",
    "from torch.utils import data\n",
    "from torch.nn import functional as F\n",
    "from torchsummary import summary\n",
    "from torch.autograd import Variable"
   ]
  },
  {
   "cell_type": "code",
   "execution_count": 67,
   "id": "104c516a",
   "metadata": {},
   "outputs": [
    {
     "name": "stdout",
     "output_type": "stream",
     "text": [
      "GPU: True\n"
     ]
    }
   ],
   "source": [
    "print('GPU:', torch.cuda.is_available())"
   ]
  },
  {
   "cell_type": "markdown",
   "id": "7b8efd07",
   "metadata": {},
   "source": [
    "# Load Data"
   ]
  },
  {
   "cell_type": "code",
   "execution_count": 68,
   "id": "bc6aad8a",
   "metadata": {
    "scrolled": true
   },
   "outputs": [
    {
     "name": "stdout",
     "output_type": "stream",
     "text": [
      "['../Dataset/hai-master/hai-21.03\\\\test1.csv', '../Dataset/hai-master/hai-21.03\\\\test2.csv', '../Dataset/hai-master/hai-21.03\\\\test3.csv', '../Dataset/hai-master/hai-21.03\\\\test4.csv', '../Dataset/hai-master/hai-21.03\\\\test5.csv']\n"
     ]
    }
   ],
   "source": [
    "# Read the data\n",
    "import glob,os\n",
    "path=r'../Dataset/hai-master/hai-21.03'\n",
    "file=glob.glob(os.path.join(path, \"test*.csv\"))\n",
    "print(file)\n",
    "dl= []\n",
    "for f in file:\n",
    " dl.append(pd.read_csv(f,header=[0],index_col=None))\n",
    "test_df=pd.concat(dl)"
   ]
  },
  {
   "cell_type": "code",
   "execution_count": 69,
   "id": "b80e37b8",
   "metadata": {},
   "outputs": [
    {
     "name": "stdout",
     "output_type": "stream",
     "text": [
      "['../Dataset/hai-master/hai-21.03\\\\train1.csv', '../Dataset/hai-master/hai-21.03\\\\train2.csv', '../Dataset/hai-master/hai-21.03\\\\train3.csv']\n"
     ]
    }
   ],
   "source": [
    "# Read the data\n",
    "import glob,os\n",
    "path=r'../Dataset/hai-master/hai-21.03'\n",
    "file=glob.glob(os.path.join(path, \"train*.csv\"))\n",
    "print(file)\n",
    "dl= []\n",
    "for f in file:\n",
    " dl.append(pd.read_csv(f,header=[0],index_col=None))\n",
    "train_df=pd.concat(dl)"
   ]
  },
  {
   "cell_type": "code",
   "execution_count": 70,
   "id": "70b6527c",
   "metadata": {},
   "outputs": [],
   "source": [
    "# dl= []"
   ]
  },
  {
   "cell_type": "code",
   "execution_count": 71,
   "id": "f272e798",
   "metadata": {},
   "outputs": [],
   "source": [
    "# dl.append(pd.read_csv('../Dataset\\\\data1.csv',header=[0],index_col=None))\n",
    "# dl.append(pd.read_csv('../Dataset\\\\data2.csv',header=[0],index_col=None))\n",
    "# df=pd.concat(dl)"
   ]
  },
  {
   "cell_type": "code",
   "execution_count": 72,
   "id": "7b8eb5bf",
   "metadata": {},
   "outputs": [
    {
     "data": {
      "text/plain": [
       "(402005, 84)"
      ]
     },
     "execution_count": 72,
     "metadata": {},
     "output_type": "execute_result"
    }
   ],
   "source": [
    "test_df.shape"
   ]
  },
  {
   "cell_type": "code",
   "execution_count": 73,
   "id": "44f55224",
   "metadata": {
    "scrolled": true
   },
   "outputs": [
    {
     "data": {
      "text/html": [
       "<div>\n",
       "<style scoped>\n",
       "    .dataframe tbody tr th:only-of-type {\n",
       "        vertical-align: middle;\n",
       "    }\n",
       "\n",
       "    .dataframe tbody tr th {\n",
       "        vertical-align: top;\n",
       "    }\n",
       "\n",
       "    .dataframe thead th {\n",
       "        text-align: right;\n",
       "    }\n",
       "</style>\n",
       "<table border=\"1\" class=\"dataframe\">\n",
       "  <thead>\n",
       "    <tr style=\"text-align: right;\">\n",
       "      <th></th>\n",
       "      <th>time</th>\n",
       "      <th>P1_B2004</th>\n",
       "      <th>P1_B2016</th>\n",
       "      <th>P1_B3004</th>\n",
       "      <th>P1_B3005</th>\n",
       "      <th>P1_B4002</th>\n",
       "      <th>P1_B4005</th>\n",
       "      <th>P1_B400B</th>\n",
       "      <th>P1_B4022</th>\n",
       "      <th>P1_FCV01D</th>\n",
       "      <th>...</th>\n",
       "      <th>P4_ST_GOV</th>\n",
       "      <th>P4_ST_LD</th>\n",
       "      <th>P4_ST_PO</th>\n",
       "      <th>P4_ST_PS</th>\n",
       "      <th>P4_ST_PT01</th>\n",
       "      <th>P4_ST_TT01</th>\n",
       "      <th>attack</th>\n",
       "      <th>attack_P1</th>\n",
       "      <th>attack_P2</th>\n",
       "      <th>attack_P3</th>\n",
       "    </tr>\n",
       "  </thead>\n",
       "  <tbody>\n",
       "    <tr>\n",
       "      <th>0</th>\n",
       "      <td>2020-07-07 15:00:00</td>\n",
       "      <td>0.10178</td>\n",
       "      <td>1.58771</td>\n",
       "      <td>403.78854</td>\n",
       "      <td>985.37353</td>\n",
       "      <td>32.59527</td>\n",
       "      <td>100.0</td>\n",
       "      <td>2839.58520</td>\n",
       "      <td>36.81010</td>\n",
       "      <td>100.0</td>\n",
       "      <td>...</td>\n",
       "      <td>20469.0</td>\n",
       "      <td>386.26666</td>\n",
       "      <td>380.31683</td>\n",
       "      <td>0</td>\n",
       "      <td>10044.0</td>\n",
       "      <td>27567.0</td>\n",
       "      <td>0</td>\n",
       "      <td>0</td>\n",
       "      <td>0</td>\n",
       "      <td>0</td>\n",
       "    </tr>\n",
       "    <tr>\n",
       "      <th>1</th>\n",
       "      <td>2020-07-07 15:00:01</td>\n",
       "      <td>0.10178</td>\n",
       "      <td>1.58725</td>\n",
       "      <td>403.78854</td>\n",
       "      <td>985.37353</td>\n",
       "      <td>32.59527</td>\n",
       "      <td>100.0</td>\n",
       "      <td>2843.37549</td>\n",
       "      <td>36.80895</td>\n",
       "      <td>100.0</td>\n",
       "      <td>...</td>\n",
       "      <td>20489.0</td>\n",
       "      <td>386.30286</td>\n",
       "      <td>380.02747</td>\n",
       "      <td>0</td>\n",
       "      <td>10040.0</td>\n",
       "      <td>27564.0</td>\n",
       "      <td>0</td>\n",
       "      <td>0</td>\n",
       "      <td>0</td>\n",
       "      <td>0</td>\n",
       "    </tr>\n",
       "    <tr>\n",
       "      <th>2</th>\n",
       "      <td>2020-07-07 15:00:02</td>\n",
       "      <td>0.10178</td>\n",
       "      <td>1.59519</td>\n",
       "      <td>403.78854</td>\n",
       "      <td>985.37353</td>\n",
       "      <td>32.59527</td>\n",
       "      <td>100.0</td>\n",
       "      <td>2845.06006</td>\n",
       "      <td>36.82879</td>\n",
       "      <td>100.0</td>\n",
       "      <td>...</td>\n",
       "      <td>20604.0</td>\n",
       "      <td>389.73883</td>\n",
       "      <td>381.52850</td>\n",
       "      <td>0</td>\n",
       "      <td>10037.0</td>\n",
       "      <td>27565.0</td>\n",
       "      <td>0</td>\n",
       "      <td>0</td>\n",
       "      <td>0</td>\n",
       "      <td>0</td>\n",
       "    </tr>\n",
       "    <tr>\n",
       "      <th>3</th>\n",
       "      <td>2020-07-07 15:00:03</td>\n",
       "      <td>0.10178</td>\n",
       "      <td>1.59747</td>\n",
       "      <td>403.78854</td>\n",
       "      <td>985.37353</td>\n",
       "      <td>32.59527</td>\n",
       "      <td>100.0</td>\n",
       "      <td>2837.33911</td>\n",
       "      <td>36.83451</td>\n",
       "      <td>100.0</td>\n",
       "      <td>...</td>\n",
       "      <td>20633.0</td>\n",
       "      <td>388.94311</td>\n",
       "      <td>382.08911</td>\n",
       "      <td>0</td>\n",
       "      <td>10040.0</td>\n",
       "      <td>27560.0</td>\n",
       "      <td>0</td>\n",
       "      <td>0</td>\n",
       "      <td>0</td>\n",
       "      <td>0</td>\n",
       "    </tr>\n",
       "    <tr>\n",
       "      <th>4</th>\n",
       "      <td>2020-07-07 15:00:04</td>\n",
       "      <td>0.10178</td>\n",
       "      <td>1.59869</td>\n",
       "      <td>403.78854</td>\n",
       "      <td>985.37353</td>\n",
       "      <td>32.59527</td>\n",
       "      <td>100.0</td>\n",
       "      <td>2843.37549</td>\n",
       "      <td>36.83756</td>\n",
       "      <td>100.0</td>\n",
       "      <td>...</td>\n",
       "      <td>20738.0</td>\n",
       "      <td>389.72082</td>\n",
       "      <td>383.44543</td>\n",
       "      <td>0</td>\n",
       "      <td>10042.0</td>\n",
       "      <td>27564.0</td>\n",
       "      <td>0</td>\n",
       "      <td>0</td>\n",
       "      <td>0</td>\n",
       "      <td>0</td>\n",
       "    </tr>\n",
       "  </tbody>\n",
       "</table>\n",
       "<p>5 rows × 84 columns</p>\n",
       "</div>"
      ],
      "text/plain": [
       "                  time  P1_B2004  P1_B2016   P1_B3004   P1_B3005  P1_B4002  \\\n",
       "0  2020-07-07 15:00:00   0.10178   1.58771  403.78854  985.37353  32.59527   \n",
       "1  2020-07-07 15:00:01   0.10178   1.58725  403.78854  985.37353  32.59527   \n",
       "2  2020-07-07 15:00:02   0.10178   1.59519  403.78854  985.37353  32.59527   \n",
       "3  2020-07-07 15:00:03   0.10178   1.59747  403.78854  985.37353  32.59527   \n",
       "4  2020-07-07 15:00:04   0.10178   1.59869  403.78854  985.37353  32.59527   \n",
       "\n",
       "   P1_B4005    P1_B400B  P1_B4022  P1_FCV01D  ...  P4_ST_GOV   P4_ST_LD  \\\n",
       "0     100.0  2839.58520  36.81010      100.0  ...    20469.0  386.26666   \n",
       "1     100.0  2843.37549  36.80895      100.0  ...    20489.0  386.30286   \n",
       "2     100.0  2845.06006  36.82879      100.0  ...    20604.0  389.73883   \n",
       "3     100.0  2837.33911  36.83451      100.0  ...    20633.0  388.94311   \n",
       "4     100.0  2843.37549  36.83756      100.0  ...    20738.0  389.72082   \n",
       "\n",
       "    P4_ST_PO  P4_ST_PS  P4_ST_PT01  P4_ST_TT01  attack  attack_P1  attack_P2  \\\n",
       "0  380.31683         0     10044.0     27567.0       0          0          0   \n",
       "1  380.02747         0     10040.0     27564.0       0          0          0   \n",
       "2  381.52850         0     10037.0     27565.0       0          0          0   \n",
       "3  382.08911         0     10040.0     27560.0       0          0          0   \n",
       "4  383.44543         0     10042.0     27564.0       0          0          0   \n",
       "\n",
       "   attack_P3  \n",
       "0          0  \n",
       "1          0  \n",
       "2          0  \n",
       "3          0  \n",
       "4          0  \n",
       "\n",
       "[5 rows x 84 columns]"
      ]
     },
     "execution_count": 73,
     "metadata": {},
     "output_type": "execute_result"
    }
   ],
   "source": [
    "test_df.head()"
   ]
  },
  {
   "cell_type": "code",
   "execution_count": 74,
   "id": "0dae7911",
   "metadata": {},
   "outputs": [
    {
     "data": {
      "text/plain": [
       "(921603, 84)"
      ]
     },
     "execution_count": 74,
     "metadata": {},
     "output_type": "execute_result"
    }
   ],
   "source": [
    "train_df.shape"
   ]
  },
  {
   "cell_type": "code",
   "execution_count": 75,
   "id": "2b8adb0f",
   "metadata": {},
   "outputs": [
    {
     "data": {
      "text/html": [
       "<div>\n",
       "<style scoped>\n",
       "    .dataframe tbody tr th:only-of-type {\n",
       "        vertical-align: middle;\n",
       "    }\n",
       "\n",
       "    .dataframe tbody tr th {\n",
       "        vertical-align: top;\n",
       "    }\n",
       "\n",
       "    .dataframe thead th {\n",
       "        text-align: right;\n",
       "    }\n",
       "</style>\n",
       "<table border=\"1\" class=\"dataframe\">\n",
       "  <thead>\n",
       "    <tr style=\"text-align: right;\">\n",
       "      <th></th>\n",
       "      <th>time</th>\n",
       "      <th>P1_B2004</th>\n",
       "      <th>P1_B2016</th>\n",
       "      <th>P1_B3004</th>\n",
       "      <th>P1_B3005</th>\n",
       "      <th>P1_B4002</th>\n",
       "      <th>P1_B4005</th>\n",
       "      <th>P1_B400B</th>\n",
       "      <th>P1_B4022</th>\n",
       "      <th>P1_FCV01D</th>\n",
       "      <th>...</th>\n",
       "      <th>P4_ST_GOV</th>\n",
       "      <th>P4_ST_LD</th>\n",
       "      <th>P4_ST_PO</th>\n",
       "      <th>P4_ST_PS</th>\n",
       "      <th>P4_ST_PT01</th>\n",
       "      <th>P4_ST_TT01</th>\n",
       "      <th>attack</th>\n",
       "      <th>attack_P1</th>\n",
       "      <th>attack_P2</th>\n",
       "      <th>attack_P3</th>\n",
       "    </tr>\n",
       "  </thead>\n",
       "  <tbody>\n",
       "    <tr>\n",
       "      <th>0</th>\n",
       "      <td>2020-07-11 00:00:00</td>\n",
       "      <td>0.10121</td>\n",
       "      <td>1.29784</td>\n",
       "      <td>397.63785</td>\n",
       "      <td>1001.99799</td>\n",
       "      <td>33.6555</td>\n",
       "      <td>100.0</td>\n",
       "      <td>2847.02539</td>\n",
       "      <td>37.14706</td>\n",
       "      <td>100.0</td>\n",
       "      <td>...</td>\n",
       "      <td>16495.0</td>\n",
       "      <td>301.35992</td>\n",
       "      <td>305.03113</td>\n",
       "      <td>0</td>\n",
       "      <td>10052.0</td>\n",
       "      <td>27610.0</td>\n",
       "      <td>0</td>\n",
       "      <td>0</td>\n",
       "      <td>0</td>\n",
       "      <td>0</td>\n",
       "    </tr>\n",
       "    <tr>\n",
       "      <th>1</th>\n",
       "      <td>2020-07-11 00:00:01</td>\n",
       "      <td>0.10121</td>\n",
       "      <td>1.29692</td>\n",
       "      <td>397.63785</td>\n",
       "      <td>1001.99799</td>\n",
       "      <td>33.6555</td>\n",
       "      <td>100.0</td>\n",
       "      <td>2839.58520</td>\n",
       "      <td>37.14477</td>\n",
       "      <td>100.0</td>\n",
       "      <td>...</td>\n",
       "      <td>16402.0</td>\n",
       "      <td>297.43567</td>\n",
       "      <td>304.27161</td>\n",
       "      <td>0</td>\n",
       "      <td>10052.0</td>\n",
       "      <td>27610.0</td>\n",
       "      <td>0</td>\n",
       "      <td>0</td>\n",
       "      <td>0</td>\n",
       "      <td>0</td>\n",
       "    </tr>\n",
       "    <tr>\n",
       "      <th>2</th>\n",
       "      <td>2020-07-11 00:00:02</td>\n",
       "      <td>0.10121</td>\n",
       "      <td>1.29631</td>\n",
       "      <td>397.63785</td>\n",
       "      <td>1001.99799</td>\n",
       "      <td>33.6555</td>\n",
       "      <td>100.0</td>\n",
       "      <td>2833.26807</td>\n",
       "      <td>37.14325</td>\n",
       "      <td>100.0</td>\n",
       "      <td>...</td>\n",
       "      <td>16379.0</td>\n",
       "      <td>298.66534</td>\n",
       "      <td>303.89179</td>\n",
       "      <td>0</td>\n",
       "      <td>10050.0</td>\n",
       "      <td>27617.0</td>\n",
       "      <td>0</td>\n",
       "      <td>0</td>\n",
       "      <td>0</td>\n",
       "      <td>0</td>\n",
       "    </tr>\n",
       "    <tr>\n",
       "      <th>3</th>\n",
       "      <td>2020-07-11 00:00:03</td>\n",
       "      <td>0.10121</td>\n",
       "      <td>1.28685</td>\n",
       "      <td>397.63785</td>\n",
       "      <td>1001.99799</td>\n",
       "      <td>33.6555</td>\n",
       "      <td>100.0</td>\n",
       "      <td>2834.95264</td>\n",
       "      <td>37.11959</td>\n",
       "      <td>100.0</td>\n",
       "      <td>...</td>\n",
       "      <td>16422.0</td>\n",
       "      <td>298.06860</td>\n",
       "      <td>303.67474</td>\n",
       "      <td>0</td>\n",
       "      <td>10052.0</td>\n",
       "      <td>27614.0</td>\n",
       "      <td>0</td>\n",
       "      <td>0</td>\n",
       "      <td>0</td>\n",
       "      <td>0</td>\n",
       "    </tr>\n",
       "    <tr>\n",
       "      <th>4</th>\n",
       "      <td>2020-07-11 00:00:04</td>\n",
       "      <td>0.10121</td>\n",
       "      <td>1.28807</td>\n",
       "      <td>397.63785</td>\n",
       "      <td>1001.99799</td>\n",
       "      <td>33.6555</td>\n",
       "      <td>100.0</td>\n",
       "      <td>2832.70654</td>\n",
       "      <td>37.12265</td>\n",
       "      <td>100.0</td>\n",
       "      <td>...</td>\n",
       "      <td>16355.0</td>\n",
       "      <td>296.53137</td>\n",
       "      <td>303.22266</td>\n",
       "      <td>0</td>\n",
       "      <td>10052.0</td>\n",
       "      <td>27621.0</td>\n",
       "      <td>0</td>\n",
       "      <td>0</td>\n",
       "      <td>0</td>\n",
       "      <td>0</td>\n",
       "    </tr>\n",
       "  </tbody>\n",
       "</table>\n",
       "<p>5 rows × 84 columns</p>\n",
       "</div>"
      ],
      "text/plain": [
       "                  time  P1_B2004  P1_B2016   P1_B3004    P1_B3005  P1_B4002  \\\n",
       "0  2020-07-11 00:00:00   0.10121   1.29784  397.63785  1001.99799   33.6555   \n",
       "1  2020-07-11 00:00:01   0.10121   1.29692  397.63785  1001.99799   33.6555   \n",
       "2  2020-07-11 00:00:02   0.10121   1.29631  397.63785  1001.99799   33.6555   \n",
       "3  2020-07-11 00:00:03   0.10121   1.28685  397.63785  1001.99799   33.6555   \n",
       "4  2020-07-11 00:00:04   0.10121   1.28807  397.63785  1001.99799   33.6555   \n",
       "\n",
       "   P1_B4005    P1_B400B  P1_B4022  P1_FCV01D  ...  P4_ST_GOV   P4_ST_LD  \\\n",
       "0     100.0  2847.02539  37.14706      100.0  ...    16495.0  301.35992   \n",
       "1     100.0  2839.58520  37.14477      100.0  ...    16402.0  297.43567   \n",
       "2     100.0  2833.26807  37.14325      100.0  ...    16379.0  298.66534   \n",
       "3     100.0  2834.95264  37.11959      100.0  ...    16422.0  298.06860   \n",
       "4     100.0  2832.70654  37.12265      100.0  ...    16355.0  296.53137   \n",
       "\n",
       "    P4_ST_PO  P4_ST_PS  P4_ST_PT01  P4_ST_TT01  attack  attack_P1  attack_P2  \\\n",
       "0  305.03113         0     10052.0     27610.0       0          0          0   \n",
       "1  304.27161         0     10052.0     27610.0       0          0          0   \n",
       "2  303.89179         0     10050.0     27617.0       0          0          0   \n",
       "3  303.67474         0     10052.0     27614.0       0          0          0   \n",
       "4  303.22266         0     10052.0     27621.0       0          0          0   \n",
       "\n",
       "   attack_P3  \n",
       "0          0  \n",
       "1          0  \n",
       "2          0  \n",
       "3          0  \n",
       "4          0  \n",
       "\n",
       "[5 rows x 84 columns]"
      ]
     },
     "execution_count": 75,
     "metadata": {},
     "output_type": "execute_result"
    }
   ],
   "source": [
    "train_df.head()"
   ]
  },
  {
   "cell_type": "code",
   "execution_count": 76,
   "id": "b96e4a26",
   "metadata": {},
   "outputs": [
    {
     "data": {
      "text/plain": [
       "0    921603\n",
       "Name: attack, dtype: int64"
      ]
     },
     "execution_count": 76,
     "metadata": {},
     "output_type": "execute_result"
    }
   ],
   "source": [
    "train_df['attack'].value_counts()"
   ]
  },
  {
   "cell_type": "code",
   "execution_count": 77,
   "id": "467ce49d",
   "metadata": {},
   "outputs": [
    {
     "data": {
      "text/plain": [
       "0    393058\n",
       "1      8947\n",
       "Name: attack, dtype: int64"
      ]
     },
     "execution_count": 77,
     "metadata": {},
     "output_type": "execute_result"
    }
   ],
   "source": [
    "test_df['attack'].value_counts()"
   ]
  },
  {
   "cell_type": "code",
   "execution_count": 78,
   "id": "8814eeac",
   "metadata": {
    "scrolled": true
   },
   "outputs": [
    {
     "data": {
      "text/html": [
       "<div>\n",
       "<style scoped>\n",
       "    .dataframe tbody tr th:only-of-type {\n",
       "        vertical-align: middle;\n",
       "    }\n",
       "\n",
       "    .dataframe tbody tr th {\n",
       "        vertical-align: top;\n",
       "    }\n",
       "\n",
       "    .dataframe thead th {\n",
       "        text-align: right;\n",
       "    }\n",
       "</style>\n",
       "<table border=\"1\" class=\"dataframe\">\n",
       "  <thead>\n",
       "    <tr style=\"text-align: right;\">\n",
       "      <th></th>\n",
       "      <th>time</th>\n",
       "      <th>P1_B2004</th>\n",
       "      <th>P1_B2016</th>\n",
       "      <th>P1_B3004</th>\n",
       "      <th>P1_B3005</th>\n",
       "      <th>P1_B4002</th>\n",
       "      <th>P1_B4005</th>\n",
       "      <th>P1_B400B</th>\n",
       "      <th>P1_B4022</th>\n",
       "      <th>P1_FCV01D</th>\n",
       "      <th>...</th>\n",
       "      <th>P4_ST_GOV</th>\n",
       "      <th>P4_ST_LD</th>\n",
       "      <th>P4_ST_PO</th>\n",
       "      <th>P4_ST_PS</th>\n",
       "      <th>P4_ST_PT01</th>\n",
       "      <th>P4_ST_TT01</th>\n",
       "      <th>attack</th>\n",
       "      <th>attack_P1</th>\n",
       "      <th>attack_P2</th>\n",
       "      <th>attack_P3</th>\n",
       "    </tr>\n",
       "  </thead>\n",
       "  <tbody>\n",
       "    <tr>\n",
       "      <th>0</th>\n",
       "      <td>2020-07-07 15:00:00</td>\n",
       "      <td>0.10178</td>\n",
       "      <td>1.58771</td>\n",
       "      <td>403.78854</td>\n",
       "      <td>985.37353</td>\n",
       "      <td>32.59527</td>\n",
       "      <td>100.0</td>\n",
       "      <td>2839.58520</td>\n",
       "      <td>36.81010</td>\n",
       "      <td>100.00000</td>\n",
       "      <td>...</td>\n",
       "      <td>20469.0</td>\n",
       "      <td>386.26666</td>\n",
       "      <td>380.31683</td>\n",
       "      <td>0</td>\n",
       "      <td>10044.0</td>\n",
       "      <td>27567.0</td>\n",
       "      <td>0</td>\n",
       "      <td>0</td>\n",
       "      <td>0</td>\n",
       "      <td>0</td>\n",
       "    </tr>\n",
       "    <tr>\n",
       "      <th>1</th>\n",
       "      <td>2020-07-07 15:00:01</td>\n",
       "      <td>0.10178</td>\n",
       "      <td>1.58725</td>\n",
       "      <td>403.78854</td>\n",
       "      <td>985.37353</td>\n",
       "      <td>32.59527</td>\n",
       "      <td>100.0</td>\n",
       "      <td>2843.37549</td>\n",
       "      <td>36.80895</td>\n",
       "      <td>100.00000</td>\n",
       "      <td>...</td>\n",
       "      <td>20489.0</td>\n",
       "      <td>386.30286</td>\n",
       "      <td>380.02747</td>\n",
       "      <td>0</td>\n",
       "      <td>10040.0</td>\n",
       "      <td>27564.0</td>\n",
       "      <td>0</td>\n",
       "      <td>0</td>\n",
       "      <td>0</td>\n",
       "      <td>0</td>\n",
       "    </tr>\n",
       "    <tr>\n",
       "      <th>2</th>\n",
       "      <td>2020-07-07 15:00:02</td>\n",
       "      <td>0.10178</td>\n",
       "      <td>1.59519</td>\n",
       "      <td>403.78854</td>\n",
       "      <td>985.37353</td>\n",
       "      <td>32.59527</td>\n",
       "      <td>100.0</td>\n",
       "      <td>2845.06006</td>\n",
       "      <td>36.82879</td>\n",
       "      <td>100.00000</td>\n",
       "      <td>...</td>\n",
       "      <td>20604.0</td>\n",
       "      <td>389.73883</td>\n",
       "      <td>381.52850</td>\n",
       "      <td>0</td>\n",
       "      <td>10037.0</td>\n",
       "      <td>27565.0</td>\n",
       "      <td>0</td>\n",
       "      <td>0</td>\n",
       "      <td>0</td>\n",
       "      <td>0</td>\n",
       "    </tr>\n",
       "    <tr>\n",
       "      <th>3</th>\n",
       "      <td>2020-07-07 15:00:03</td>\n",
       "      <td>0.10178</td>\n",
       "      <td>1.59747</td>\n",
       "      <td>403.78854</td>\n",
       "      <td>985.37353</td>\n",
       "      <td>32.59527</td>\n",
       "      <td>100.0</td>\n",
       "      <td>2837.33911</td>\n",
       "      <td>36.83451</td>\n",
       "      <td>100.00000</td>\n",
       "      <td>...</td>\n",
       "      <td>20633.0</td>\n",
       "      <td>388.94311</td>\n",
       "      <td>382.08911</td>\n",
       "      <td>0</td>\n",
       "      <td>10040.0</td>\n",
       "      <td>27560.0</td>\n",
       "      <td>0</td>\n",
       "      <td>0</td>\n",
       "      <td>0</td>\n",
       "      <td>0</td>\n",
       "    </tr>\n",
       "    <tr>\n",
       "      <th>4</th>\n",
       "      <td>2020-07-07 15:00:04</td>\n",
       "      <td>0.10178</td>\n",
       "      <td>1.59869</td>\n",
       "      <td>403.78854</td>\n",
       "      <td>985.37353</td>\n",
       "      <td>32.59527</td>\n",
       "      <td>100.0</td>\n",
       "      <td>2843.37549</td>\n",
       "      <td>36.83756</td>\n",
       "      <td>100.00000</td>\n",
       "      <td>...</td>\n",
       "      <td>20738.0</td>\n",
       "      <td>389.72082</td>\n",
       "      <td>383.44543</td>\n",
       "      <td>0</td>\n",
       "      <td>10042.0</td>\n",
       "      <td>27564.0</td>\n",
       "      <td>0</td>\n",
       "      <td>0</td>\n",
       "      <td>0</td>\n",
       "      <td>0</td>\n",
       "    </tr>\n",
       "    <tr>\n",
       "      <th>...</th>\n",
       "      <td>...</td>\n",
       "      <td>...</td>\n",
       "      <td>...</td>\n",
       "      <td>...</td>\n",
       "      <td>...</td>\n",
       "      <td>...</td>\n",
       "      <td>...</td>\n",
       "      <td>...</td>\n",
       "      <td>...</td>\n",
       "      <td>...</td>\n",
       "      <td>...</td>\n",
       "      <td>...</td>\n",
       "      <td>...</td>\n",
       "      <td>...</td>\n",
       "      <td>...</td>\n",
       "      <td>...</td>\n",
       "      <td>...</td>\n",
       "      <td>...</td>\n",
       "      <td>...</td>\n",
       "      <td>...</td>\n",
       "      <td>...</td>\n",
       "    </tr>\n",
       "    <tr>\n",
       "      <th>92396</th>\n",
       "      <td>2020-07-31 12:29:56</td>\n",
       "      <td>0.06112</td>\n",
       "      <td>1.45290</td>\n",
       "      <td>417.58124</td>\n",
       "      <td>989.50207</td>\n",
       "      <td>32.00000</td>\n",
       "      <td>0.0</td>\n",
       "      <td>31.97761</td>\n",
       "      <td>35.97946</td>\n",
       "      <td>3.67038</td>\n",
       "      <td>...</td>\n",
       "      <td>19259.0</td>\n",
       "      <td>361.14728</td>\n",
       "      <td>357.27722</td>\n",
       "      <td>0</td>\n",
       "      <td>10052.0</td>\n",
       "      <td>27627.0</td>\n",
       "      <td>0</td>\n",
       "      <td>0</td>\n",
       "      <td>0</td>\n",
       "      <td>0</td>\n",
       "    </tr>\n",
       "    <tr>\n",
       "      <th>92397</th>\n",
       "      <td>2020-07-31 12:29:57</td>\n",
       "      <td>0.06112</td>\n",
       "      <td>1.45382</td>\n",
       "      <td>417.58124</td>\n",
       "      <td>989.50207</td>\n",
       "      <td>32.00000</td>\n",
       "      <td>0.0</td>\n",
       "      <td>32.97053</td>\n",
       "      <td>35.98175</td>\n",
       "      <td>3.69119</td>\n",
       "      <td>...</td>\n",
       "      <td>19257.0</td>\n",
       "      <td>359.84521</td>\n",
       "      <td>357.29529</td>\n",
       "      <td>0</td>\n",
       "      <td>10052.0</td>\n",
       "      <td>27627.0</td>\n",
       "      <td>0</td>\n",
       "      <td>0</td>\n",
       "      <td>0</td>\n",
       "      <td>0</td>\n",
       "    </tr>\n",
       "    <tr>\n",
       "      <th>92398</th>\n",
       "      <td>2020-07-31 12:29:58</td>\n",
       "      <td>0.06112</td>\n",
       "      <td>1.45428</td>\n",
       "      <td>417.58124</td>\n",
       "      <td>989.50207</td>\n",
       "      <td>32.00000</td>\n",
       "      <td>0.0</td>\n",
       "      <td>33.96383</td>\n",
       "      <td>35.98289</td>\n",
       "      <td>3.66543</td>\n",
       "      <td>...</td>\n",
       "      <td>19248.0</td>\n",
       "      <td>360.60474</td>\n",
       "      <td>357.27722</td>\n",
       "      <td>0</td>\n",
       "      <td>10050.0</td>\n",
       "      <td>27627.0</td>\n",
       "      <td>0</td>\n",
       "      <td>0</td>\n",
       "      <td>0</td>\n",
       "      <td>0</td>\n",
       "    </tr>\n",
       "    <tr>\n",
       "      <th>92399</th>\n",
       "      <td>2020-07-31 12:29:59</td>\n",
       "      <td>0.06112</td>\n",
       "      <td>1.45458</td>\n",
       "      <td>417.58124</td>\n",
       "      <td>989.50207</td>\n",
       "      <td>32.00000</td>\n",
       "      <td>0.0</td>\n",
       "      <td>31.97761</td>\n",
       "      <td>35.98366</td>\n",
       "      <td>3.63935</td>\n",
       "      <td>...</td>\n",
       "      <td>19275.0</td>\n",
       "      <td>357.42188</td>\n",
       "      <td>357.80170</td>\n",
       "      <td>0</td>\n",
       "      <td>10053.0</td>\n",
       "      <td>27627.0</td>\n",
       "      <td>0</td>\n",
       "      <td>0</td>\n",
       "      <td>0</td>\n",
       "      <td>0</td>\n",
       "    </tr>\n",
       "    <tr>\n",
       "      <th>92400</th>\n",
       "      <td>2020-07-31 12:30:00</td>\n",
       "      <td>0.06112</td>\n",
       "      <td>1.45489</td>\n",
       "      <td>417.58124</td>\n",
       "      <td>989.50207</td>\n",
       "      <td>32.00000</td>\n",
       "      <td>0.0</td>\n",
       "      <td>32.97053</td>\n",
       "      <td>35.98442</td>\n",
       "      <td>3.66016</td>\n",
       "      <td>...</td>\n",
       "      <td>19219.0</td>\n",
       "      <td>358.65161</td>\n",
       "      <td>357.07825</td>\n",
       "      <td>0</td>\n",
       "      <td>10053.0</td>\n",
       "      <td>27627.0</td>\n",
       "      <td>0</td>\n",
       "      <td>0</td>\n",
       "      <td>0</td>\n",
       "      <td>0</td>\n",
       "    </tr>\n",
       "  </tbody>\n",
       "</table>\n",
       "<p>402005 rows × 84 columns</p>\n",
       "</div>"
      ],
      "text/plain": [
       "                      time  P1_B2004  P1_B2016   P1_B3004   P1_B3005  \\\n",
       "0      2020-07-07 15:00:00   0.10178   1.58771  403.78854  985.37353   \n",
       "1      2020-07-07 15:00:01   0.10178   1.58725  403.78854  985.37353   \n",
       "2      2020-07-07 15:00:02   0.10178   1.59519  403.78854  985.37353   \n",
       "3      2020-07-07 15:00:03   0.10178   1.59747  403.78854  985.37353   \n",
       "4      2020-07-07 15:00:04   0.10178   1.59869  403.78854  985.37353   \n",
       "...                    ...       ...       ...        ...        ...   \n",
       "92396  2020-07-31 12:29:56   0.06112   1.45290  417.58124  989.50207   \n",
       "92397  2020-07-31 12:29:57   0.06112   1.45382  417.58124  989.50207   \n",
       "92398  2020-07-31 12:29:58   0.06112   1.45428  417.58124  989.50207   \n",
       "92399  2020-07-31 12:29:59   0.06112   1.45458  417.58124  989.50207   \n",
       "92400  2020-07-31 12:30:00   0.06112   1.45489  417.58124  989.50207   \n",
       "\n",
       "       P1_B4002  P1_B4005    P1_B400B  P1_B4022  P1_FCV01D  ...  P4_ST_GOV  \\\n",
       "0      32.59527     100.0  2839.58520  36.81010  100.00000  ...    20469.0   \n",
       "1      32.59527     100.0  2843.37549  36.80895  100.00000  ...    20489.0   \n",
       "2      32.59527     100.0  2845.06006  36.82879  100.00000  ...    20604.0   \n",
       "3      32.59527     100.0  2837.33911  36.83451  100.00000  ...    20633.0   \n",
       "4      32.59527     100.0  2843.37549  36.83756  100.00000  ...    20738.0   \n",
       "...         ...       ...         ...       ...        ...  ...        ...   \n",
       "92396  32.00000       0.0    31.97761  35.97946    3.67038  ...    19259.0   \n",
       "92397  32.00000       0.0    32.97053  35.98175    3.69119  ...    19257.0   \n",
       "92398  32.00000       0.0    33.96383  35.98289    3.66543  ...    19248.0   \n",
       "92399  32.00000       0.0    31.97761  35.98366    3.63935  ...    19275.0   \n",
       "92400  32.00000       0.0    32.97053  35.98442    3.66016  ...    19219.0   \n",
       "\n",
       "        P4_ST_LD   P4_ST_PO  P4_ST_PS  P4_ST_PT01  P4_ST_TT01  attack  \\\n",
       "0      386.26666  380.31683         0     10044.0     27567.0       0   \n",
       "1      386.30286  380.02747         0     10040.0     27564.0       0   \n",
       "2      389.73883  381.52850         0     10037.0     27565.0       0   \n",
       "3      388.94311  382.08911         0     10040.0     27560.0       0   \n",
       "4      389.72082  383.44543         0     10042.0     27564.0       0   \n",
       "...          ...        ...       ...         ...         ...     ...   \n",
       "92396  361.14728  357.27722         0     10052.0     27627.0       0   \n",
       "92397  359.84521  357.29529         0     10052.0     27627.0       0   \n",
       "92398  360.60474  357.27722         0     10050.0     27627.0       0   \n",
       "92399  357.42188  357.80170         0     10053.0     27627.0       0   \n",
       "92400  358.65161  357.07825         0     10053.0     27627.0       0   \n",
       "\n",
       "       attack_P1  attack_P2  attack_P3  \n",
       "0              0          0          0  \n",
       "1              0          0          0  \n",
       "2              0          0          0  \n",
       "3              0          0          0  \n",
       "4              0          0          0  \n",
       "...          ...        ...        ...  \n",
       "92396          0          0          0  \n",
       "92397          0          0          0  \n",
       "92398          0          0          0  \n",
       "92399          0          0          0  \n",
       "92400          0          0          0  \n",
       "\n",
       "[402005 rows x 84 columns]"
      ]
     },
     "execution_count": 78,
     "metadata": {},
     "output_type": "execute_result"
    }
   ],
   "source": [
    "test_df"
   ]
  },
  {
   "cell_type": "code",
   "execution_count": 79,
   "id": "3d2edf5f",
   "metadata": {},
   "outputs": [
    {
     "data": {
      "text/html": [
       "<div>\n",
       "<style scoped>\n",
       "    .dataframe tbody tr th:only-of-type {\n",
       "        vertical-align: middle;\n",
       "    }\n",
       "\n",
       "    .dataframe tbody tr th {\n",
       "        vertical-align: top;\n",
       "    }\n",
       "\n",
       "    .dataframe thead th {\n",
       "        text-align: right;\n",
       "    }\n",
       "</style>\n",
       "<table border=\"1\" class=\"dataframe\">\n",
       "  <thead>\n",
       "    <tr style=\"text-align: right;\">\n",
       "      <th></th>\n",
       "      <th>P1_B2004</th>\n",
       "      <th>P1_B2016</th>\n",
       "      <th>P1_B3004</th>\n",
       "      <th>P1_B3005</th>\n",
       "      <th>P1_B4002</th>\n",
       "      <th>P1_B4005</th>\n",
       "      <th>P1_B400B</th>\n",
       "      <th>P1_B4022</th>\n",
       "      <th>P1_FCV01D</th>\n",
       "      <th>P1_FCV01Z</th>\n",
       "      <th>...</th>\n",
       "      <th>P4_ST_GOV</th>\n",
       "      <th>P4_ST_LD</th>\n",
       "      <th>P4_ST_PO</th>\n",
       "      <th>P4_ST_PS</th>\n",
       "      <th>P4_ST_PT01</th>\n",
       "      <th>P4_ST_TT01</th>\n",
       "      <th>attack</th>\n",
       "      <th>attack_P1</th>\n",
       "      <th>attack_P2</th>\n",
       "      <th>attack_P3</th>\n",
       "    </tr>\n",
       "  </thead>\n",
       "  <tbody>\n",
       "    <tr>\n",
       "      <th>count</th>\n",
       "      <td>402005.000000</td>\n",
       "      <td>402005.000000</td>\n",
       "      <td>402005.000000</td>\n",
       "      <td>402005.000000</td>\n",
       "      <td>402005.000000</td>\n",
       "      <td>402005.000000</td>\n",
       "      <td>402005.000000</td>\n",
       "      <td>402005.000000</td>\n",
       "      <td>402005.000000</td>\n",
       "      <td>402005.000000</td>\n",
       "      <td>...</td>\n",
       "      <td>402005.000000</td>\n",
       "      <td>402005.000000</td>\n",
       "      <td>402005.000000</td>\n",
       "      <td>402005.000000</td>\n",
       "      <td>402005.000000</td>\n",
       "      <td>402005.000000</td>\n",
       "      <td>402005.000000</td>\n",
       "      <td>402005.000000</td>\n",
       "      <td>402005.000000</td>\n",
       "      <td>402005.000000</td>\n",
       "    </tr>\n",
       "    <tr>\n",
       "      <th>mean</th>\n",
       "      <td>0.091431</td>\n",
       "      <td>1.389921</td>\n",
       "      <td>403.798729</td>\n",
       "      <td>1066.074738</td>\n",
       "      <td>32.285249</td>\n",
       "      <td>58.924257</td>\n",
       "      <td>1741.935584</td>\n",
       "      <td>36.031480</td>\n",
       "      <td>53.314444</td>\n",
       "      <td>53.103314</td>\n",
       "      <td>...</td>\n",
       "      <td>17923.855068</td>\n",
       "      <td>332.192397</td>\n",
       "      <td>332.465165</td>\n",
       "      <td>8.918421</td>\n",
       "      <td>10050.187750</td>\n",
       "      <td>27608.471828</td>\n",
       "      <td>0.022256</td>\n",
       "      <td>0.017505</td>\n",
       "      <td>0.004637</td>\n",
       "      <td>0.002383</td>\n",
       "    </tr>\n",
       "    <tr>\n",
       "      <th>std</th>\n",
       "      <td>0.018979</td>\n",
       "      <td>0.134062</td>\n",
       "      <td>11.981150</td>\n",
       "      <td>51.409852</td>\n",
       "      <td>0.571706</td>\n",
       "      <td>42.214697</td>\n",
       "      <td>1200.694504</td>\n",
       "      <td>0.670232</td>\n",
       "      <td>43.104898</td>\n",
       "      <td>43.098623</td>\n",
       "      <td>...</td>\n",
       "      <td>1828.472994</td>\n",
       "      <td>37.394611</td>\n",
       "      <td>33.982635</td>\n",
       "      <td>19.141153</td>\n",
       "      <td>24.580383</td>\n",
       "      <td>24.517653</td>\n",
       "      <td>0.147515</td>\n",
       "      <td>0.131143</td>\n",
       "      <td>0.067936</td>\n",
       "      <td>0.048758</td>\n",
       "    </tr>\n",
       "    <tr>\n",
       "      <th>min</th>\n",
       "      <td>0.030110</td>\n",
       "      <td>0.959140</td>\n",
       "      <td>374.638610</td>\n",
       "      <td>902.981140</td>\n",
       "      <td>31.379050</td>\n",
       "      <td>0.000000</td>\n",
       "      <td>25.025980</td>\n",
       "      <td>34.225440</td>\n",
       "      <td>0.000000</td>\n",
       "      <td>0.260930</td>\n",
       "      <td>...</td>\n",
       "      <td>12660.000000</td>\n",
       "      <td>231.119810</td>\n",
       "      <td>235.622800</td>\n",
       "      <td>0.000000</td>\n",
       "      <td>9695.000000</td>\n",
       "      <td>27519.000000</td>\n",
       "      <td>0.000000</td>\n",
       "      <td>0.000000</td>\n",
       "      <td>0.000000</td>\n",
       "      <td>0.000000</td>\n",
       "    </tr>\n",
       "    <tr>\n",
       "      <th>25%</th>\n",
       "      <td>0.098290</td>\n",
       "      <td>1.312640</td>\n",
       "      <td>397.637850</td>\n",
       "      <td>1018.359010</td>\n",
       "      <td>32.000000</td>\n",
       "      <td>10.804490</td>\n",
       "      <td>305.078120</td>\n",
       "      <td>35.577770</td>\n",
       "      <td>13.731810</td>\n",
       "      <td>13.276670</td>\n",
       "      <td>...</td>\n",
       "      <td>16879.000000</td>\n",
       "      <td>307.526790</td>\n",
       "      <td>313.114870</td>\n",
       "      <td>0.000000</td>\n",
       "      <td>10051.000000</td>\n",
       "      <td>27592.000000</td>\n",
       "      <td>0.000000</td>\n",
       "      <td>0.000000</td>\n",
       "      <td>0.000000</td>\n",
       "      <td>0.000000</td>\n",
       "    </tr>\n",
       "    <tr>\n",
       "      <th>50%</th>\n",
       "      <td>0.099510</td>\n",
       "      <td>1.386060</td>\n",
       "      <td>400.835820</td>\n",
       "      <td>1085.589360</td>\n",
       "      <td>32.000000</td>\n",
       "      <td>74.562280</td>\n",
       "      <td>2477.326420</td>\n",
       "      <td>35.887980</td>\n",
       "      <td>38.567150</td>\n",
       "      <td>38.652040</td>\n",
       "      <td>...</td>\n",
       "      <td>17859.000000</td>\n",
       "      <td>331.778080</td>\n",
       "      <td>331.217470</td>\n",
       "      <td>0.000000</td>\n",
       "      <td>10053.000000</td>\n",
       "      <td>27623.000000</td>\n",
       "      <td>0.000000</td>\n",
       "      <td>0.000000</td>\n",
       "      <td>0.000000</td>\n",
       "      <td>0.000000</td>\n",
       "    </tr>\n",
       "    <tr>\n",
       "      <th>75%</th>\n",
       "      <td>0.101090</td>\n",
       "      <td>1.464340</td>\n",
       "      <td>407.549830</td>\n",
       "      <td>1104.476070</td>\n",
       "      <td>32.615000</td>\n",
       "      <td>100.000000</td>\n",
       "      <td>2831.723880</td>\n",
       "      <td>36.399530</td>\n",
       "      <td>100.000000</td>\n",
       "      <td>99.708420</td>\n",
       "      <td>...</td>\n",
       "      <td>18919.000000</td>\n",
       "      <td>355.052860</td>\n",
       "      <td>350.929570</td>\n",
       "      <td>0.000000</td>\n",
       "      <td>10053.000000</td>\n",
       "      <td>27627.000000</td>\n",
       "      <td>0.000000</td>\n",
       "      <td>0.000000</td>\n",
       "      <td>0.000000</td>\n",
       "      <td>0.000000</td>\n",
       "    </tr>\n",
       "    <tr>\n",
       "      <th>max</th>\n",
       "      <td>0.101930</td>\n",
       "      <td>2.009630</td>\n",
       "      <td>448.763430</td>\n",
       "      <td>1121.941160</td>\n",
       "      <td>33.655500</td>\n",
       "      <td>100.000000</td>\n",
       "      <td>2860.977300</td>\n",
       "      <td>38.455970</td>\n",
       "      <td>100.000000</td>\n",
       "      <td>100.000000</td>\n",
       "      <td>...</td>\n",
       "      <td>26450.000000</td>\n",
       "      <td>496.455440</td>\n",
       "      <td>491.500310</td>\n",
       "      <td>50.000000</td>\n",
       "      <td>10330.000000</td>\n",
       "      <td>27627.000000</td>\n",
       "      <td>1.000000</td>\n",
       "      <td>1.000000</td>\n",
       "      <td>1.000000</td>\n",
       "      <td>1.000000</td>\n",
       "    </tr>\n",
       "  </tbody>\n",
       "</table>\n",
       "<p>8 rows × 83 columns</p>\n",
       "</div>"
      ],
      "text/plain": [
       "            P1_B2004       P1_B2016       P1_B3004       P1_B3005  \\\n",
       "count  402005.000000  402005.000000  402005.000000  402005.000000   \n",
       "mean        0.091431       1.389921     403.798729    1066.074738   \n",
       "std         0.018979       0.134062      11.981150      51.409852   \n",
       "min         0.030110       0.959140     374.638610     902.981140   \n",
       "25%         0.098290       1.312640     397.637850    1018.359010   \n",
       "50%         0.099510       1.386060     400.835820    1085.589360   \n",
       "75%         0.101090       1.464340     407.549830    1104.476070   \n",
       "max         0.101930       2.009630     448.763430    1121.941160   \n",
       "\n",
       "            P1_B4002       P1_B4005       P1_B400B       P1_B4022  \\\n",
       "count  402005.000000  402005.000000  402005.000000  402005.000000   \n",
       "mean       32.285249      58.924257    1741.935584      36.031480   \n",
       "std         0.571706      42.214697    1200.694504       0.670232   \n",
       "min        31.379050       0.000000      25.025980      34.225440   \n",
       "25%        32.000000      10.804490     305.078120      35.577770   \n",
       "50%        32.000000      74.562280    2477.326420      35.887980   \n",
       "75%        32.615000     100.000000    2831.723880      36.399530   \n",
       "max        33.655500     100.000000    2860.977300      38.455970   \n",
       "\n",
       "           P1_FCV01D      P1_FCV01Z  ...      P4_ST_GOV       P4_ST_LD  \\\n",
       "count  402005.000000  402005.000000  ...  402005.000000  402005.000000   \n",
       "mean       53.314444      53.103314  ...   17923.855068     332.192397   \n",
       "std        43.104898      43.098623  ...    1828.472994      37.394611   \n",
       "min         0.000000       0.260930  ...   12660.000000     231.119810   \n",
       "25%        13.731810      13.276670  ...   16879.000000     307.526790   \n",
       "50%        38.567150      38.652040  ...   17859.000000     331.778080   \n",
       "75%       100.000000      99.708420  ...   18919.000000     355.052860   \n",
       "max       100.000000     100.000000  ...   26450.000000     496.455440   \n",
       "\n",
       "            P4_ST_PO       P4_ST_PS     P4_ST_PT01     P4_ST_TT01  \\\n",
       "count  402005.000000  402005.000000  402005.000000  402005.000000   \n",
       "mean      332.465165       8.918421   10050.187750   27608.471828   \n",
       "std        33.982635      19.141153      24.580383      24.517653   \n",
       "min       235.622800       0.000000    9695.000000   27519.000000   \n",
       "25%       313.114870       0.000000   10051.000000   27592.000000   \n",
       "50%       331.217470       0.000000   10053.000000   27623.000000   \n",
       "75%       350.929570       0.000000   10053.000000   27627.000000   \n",
       "max       491.500310      50.000000   10330.000000   27627.000000   \n",
       "\n",
       "              attack      attack_P1      attack_P2      attack_P3  \n",
       "count  402005.000000  402005.000000  402005.000000  402005.000000  \n",
       "mean        0.022256       0.017505       0.004637       0.002383  \n",
       "std         0.147515       0.131143       0.067936       0.048758  \n",
       "min         0.000000       0.000000       0.000000       0.000000  \n",
       "25%         0.000000       0.000000       0.000000       0.000000  \n",
       "50%         0.000000       0.000000       0.000000       0.000000  \n",
       "75%         0.000000       0.000000       0.000000       0.000000  \n",
       "max         1.000000       1.000000       1.000000       1.000000  \n",
       "\n",
       "[8 rows x 83 columns]"
      ]
     },
     "execution_count": 79,
     "metadata": {},
     "output_type": "execute_result"
    }
   ],
   "source": [
    "test_df.describe()"
   ]
  },
  {
   "cell_type": "code",
   "execution_count": 80,
   "id": "a53143c6",
   "metadata": {},
   "outputs": [],
   "source": [
    "# np.any(np.isnan(df))"
   ]
  },
  {
   "cell_type": "code",
   "execution_count": 81,
   "id": "425aee53",
   "metadata": {},
   "outputs": [],
   "source": [
    "# torch.cuda.is_available()"
   ]
  },
  {
   "cell_type": "markdown",
   "id": "371606a2",
   "metadata": {},
   "source": [
    "Data preprocessing"
   ]
  },
  {
   "cell_type": "code",
   "execution_count": 82,
   "id": "3df06be9",
   "metadata": {},
   "outputs": [],
   "source": [
    "# label Encoding\n",
    "# df['marker'] = df['marker'].replace(['Natural'],0)\n",
    "# df['marker'] = df['marker'].replace(['Attack'],1)\n",
    "# df['marker'].value_counts()"
   ]
  },
  {
   "cell_type": "code",
   "execution_count": 251,
   "id": "250c20c8",
   "metadata": {},
   "outputs": [
    {
     "name": "stdout",
     "output_type": "stream",
     "text": [
      "Series([], dtype: int64)\n"
     ]
    }
   ],
   "source": [
    "dataset = test_df.iloc[:]\n",
    "missing_val_count_by_column = (dataset.isnull().sum())\n",
    "print(missing_val_count_by_column[missing_val_count_by_column > 0])"
   ]
  },
  {
   "cell_type": "code",
   "execution_count": 84,
   "id": "5c2c5075",
   "metadata": {},
   "outputs": [],
   "source": [
    "# #normalization\n",
    "# from sklearn.preprocessing import MinMaxScaler\n",
    "# scaler = MinMaxScaler(feature_range=(-1,1))\n",
    "# df_normalized=scaler.fit_transform(dataset.values.reshape(-1,1))"
   ]
  },
  {
   "cell_type": "code",
   "execution_count": 252,
   "id": "7c6ef0b0",
   "metadata": {},
   "outputs": [],
   "source": [
    "# Separate target from predictors\n",
    "y = test_df.attack\n",
    "train_x = test_df.drop(['attack','attack_P1','attack_P2','attack_P3','time'], axis=1)"
   ]
  },
  {
   "cell_type": "code",
   "execution_count": 253,
   "id": "13abfe4c",
   "metadata": {},
   "outputs": [
    {
     "name": "stdout",
     "output_type": "stream",
     "text": [
      "(402005,)\n",
      "(402005, 79)\n"
     ]
    }
   ],
   "source": [
    "print(y.shape)\n",
    "print(train_x.shape)"
   ]
  },
  {
   "cell_type": "code",
   "execution_count": 254,
   "id": "abdb690c",
   "metadata": {},
   "outputs": [],
   "source": [
    "values = train_x\n",
    "# np.all(np.isfinite(values))\n",
    "values.replace([np.inf, -np.inf], np.nan, inplace=True)\n"
   ]
  },
  {
   "cell_type": "code",
   "execution_count": 255,
   "id": "a27b3929",
   "metadata": {
    "scrolled": true
   },
   "outputs": [
    {
     "data": {
      "text/plain": [
       "array([[0.99791145, 0.59835886, 0.39325465, ..., 0.        , 0.5496063 ,\n",
       "        0.44444444],\n",
       "       [0.99791145, 0.59792097, 0.39325465, ..., 0.        , 0.54330709,\n",
       "        0.41666667],\n",
       "       [0.99791145, 0.60547935, 0.39325465, ..., 0.        , 0.53858268,\n",
       "        0.42592593],\n",
       "       ...,\n",
       "       [0.43177388, 0.47134195, 0.57932862, ..., 0.        , 0.55905512,\n",
       "        1.        ],\n",
       "       [0.43177388, 0.47162753, 0.57932862, ..., 0.        , 0.56377953,\n",
       "        1.        ],\n",
       "       [0.43177388, 0.47192263, 0.57932862, ..., 0.        , 0.56377953,\n",
       "        1.        ]])"
      ]
     },
     "execution_count": 255,
     "metadata": {},
     "output_type": "execute_result"
    }
   ],
   "source": [
    "#normalization\n",
    "from sklearn.preprocessing import MinMaxScaler\n",
    "scaler = MinMaxScaler()\n",
    "X_normalized=scaler.fit_transform(values)\n",
    "X_normalized"
   ]
  },
  {
   "cell_type": "code",
   "execution_count": 178,
   "id": "c5a18510",
   "metadata": {},
   "outputs": [],
   "source": [
    "from sklearn.model_selection import train_test_split"
   ]
  },
  {
   "cell_type": "code",
   "execution_count": 256,
   "id": "691ef32f",
   "metadata": {},
   "outputs": [],
   "source": [
    "# # Divide data into training and validation subsets\n",
    "X_train_full, X_valid_full, y_train, y_valid = train_test_split(X_normalized, y, train_size=0.3, test_size=0.1,\n",
    "                                                                random_state=0, shuffle=False)"
   ]
  },
  {
   "cell_type": "code",
   "execution_count": 258,
   "id": "525ab552",
   "metadata": {},
   "outputs": [
    {
     "data": {
      "text/plain": [
       "(120601, 79)"
      ]
     },
     "execution_count": 258,
     "metadata": {},
     "output_type": "execute_result"
    }
   ],
   "source": [
    "X_train_full.shape"
   ]
  },
  {
   "cell_type": "code",
   "execution_count": 259,
   "id": "d937eea5",
   "metadata": {},
   "outputs": [],
   "source": [
    "# from keras.preprocessing.sequence import TimeseriesGenerator"
   ]
  },
  {
   "cell_type": "code",
   "execution_count": 260,
   "id": "07b75743",
   "metadata": {},
   "outputs": [
    {
     "data": {
      "text/plain": [
       "array([[0.99791145, 0.59835886, 0.39325465, ..., 0.        , 0.5496063 ,\n",
       "        0.44444444],\n",
       "       [0.99791145, 0.59792097, 0.39325465, ..., 0.        , 0.54330709,\n",
       "        0.41666667],\n",
       "       [0.99791145, 0.60547935, 0.39325465, ..., 0.        , 0.53858268,\n",
       "        0.42592593],\n",
       "       ...,\n",
       "       [0.95502646, 0.55272301, 0.14408413, ..., 0.        , 0.56377953,\n",
       "        1.        ],\n",
       "       [0.95502646, 0.56579311, 0.14408413, ..., 0.        , 0.56377953,\n",
       "        1.        ],\n",
       "       [0.95502646, 0.56841093, 0.14408413, ..., 0.        , 0.56377953,\n",
       "        1.        ]])"
      ]
     },
     "execution_count": 260,
     "metadata": {},
     "output_type": "execute_result"
    }
   ],
   "source": [
    "X_train_full"
   ]
  },
  {
   "cell_type": "code",
   "execution_count": 261,
   "id": "78d910bb",
   "metadata": {},
   "outputs": [
    {
     "data": {
      "text/plain": [
       "0        0\n",
       "1        0\n",
       "2        0\n",
       "3        0\n",
       "4        0\n",
       "        ..\n",
       "77395    0\n",
       "77396    0\n",
       "77397    0\n",
       "77398    0\n",
       "77399    0\n",
       "Name: attack, Length: 120601, dtype: int64"
      ]
     },
     "execution_count": 261,
     "metadata": {},
     "output_type": "execute_result"
    }
   ],
   "source": [
    "y_train"
   ]
  },
  {
   "cell_type": "code",
   "execution_count": 262,
   "id": "0b5cdcc8",
   "metadata": {},
   "outputs": [],
   "source": [
    "#function to convert to time domain dataset\n",
    "def create_dataset(X, time_steps):\n",
    "    Xs = []\n",
    "    for i in range(len(X) - time_steps):\n",
    "        v = X.iloc[i:(i + time_steps)].values\n",
    "        Xs.append(v)\n",
    "    return np.array(Xs)"
   ]
  },
  {
   "cell_type": "code",
   "execution_count": 263,
   "id": "39cfeb11",
   "metadata": {},
   "outputs": [
    {
     "name": "stdout",
     "output_type": "stream",
     "text": [
      "(40200, 1, 79)\n",
      "(40200, 1, 1)\n"
     ]
    }
   ],
   "source": [
    "# reshape to [samples, time_steps, n_features]\n",
    "\n",
    "TIME_STEPS = 1\n",
    "X_train = pd.DataFrame(X_train_full)\n",
    "X_train = create_dataset(X_train, TIME_STEPS)\n",
    "y_train = pd.DataFrame(y_train)\n",
    "y_train = create_dataset(y_train, TIME_STEPS)\n",
    "X_valid = pd.DataFrame(X_valid_full)\n",
    "X_valid = create_dataset(X_valid, TIME_STEPS)\n",
    "y_valid = pd.DataFrame(y_valid)\n",
    "y_valid = create_dataset(y_valid, TIME_STEPS)\n",
    "print(X_valid.shape)\n",
    "print(y_valid.shape)"
   ]
  },
  {
   "cell_type": "code",
   "execution_count": 264,
   "id": "73eac75d",
   "metadata": {},
   "outputs": [],
   "source": [
    "# reshape input to be 3D [samples, timesteps, features]\n",
    "# X_train_full = X_train_full.reshape((X_train_full.shape[0], 1, X_train_full.shape[1]))\n",
    "# X_valid_full = X_valid_full.reshape((X_valid_full.shape[0], 1, X_valid_full.shape[1]))\n",
    "# print(X_train_full.shape, y_train.shape, X_valid_full.shape, y_valid.shape) "
   ]
  },
  {
   "cell_type": "markdown",
   "id": "19686544",
   "metadata": {},
   "source": [
    "# Construct Model"
   ]
  },
  {
   "cell_type": "code",
   "execution_count": 187,
   "id": "daac4483",
   "metadata": {},
   "outputs": [],
   "source": [
    "# class LSTM(nn.Module):\n",
    "#     def __init__(self,input_size, output_size, hidden_size, num_layers):\n",
    "#         super(LSTM,self).__init__()\n",
    "#         self.input_size = input_size\n",
    "#         self.output_size = output_size\n",
    "#         self.num_layers = num_layers\n",
    "#         self.hidden_size = hidden_size\n",
    "        \n",
    "        \n",
    "\n",
    "       \n",
    "#         self.lstm1 = nn.LSTM(input_size=input_size, \n",
    "#                             hidden_size=hidden_size,\n",
    "#                             num_layers=num_layers, \n",
    "#                             batch_first=False,dropout = 0)\n",
    "#         self.lstm2 = nn.LSTM(input_size=hidden_size, \n",
    "#                             hidden_size=32,\n",
    "#                             num_layers=num_layers, \n",
    "#                             batch_first=False,dropout = 0)\n",
    "#         self.dropout1 = nn.Dropout(p=0.3)\n",
    "#         self.dropout2 = nn.Dropout(p=0.3)\n",
    "#         self.fc = nn.Linear(32,output_size)\n",
    "      \n",
    "#         self.sigmoid = nn.Sigmoid()\n",
    "     \n",
    "#     def forward(self, x):   \n",
    "#         per_out=[]\n",
    "#         lstm_out, self.hidden_cell = self.lstm1(x)\n",
    "#         per_out.append(lstm_out)\n",
    "#         lstm_out = self.dropout1(lstm_out)\n",
    "#         lstm_out, self.hidden_cell = self.lstm2(lstm_out)\n",
    "#         per_out.append(lstm_out)\n",
    "#         lstm_out = self.dropout2(lstm_out)\n",
    "#         out = self.fc(lstm_out)\n",
    "#         per_out.append(out)\n",
    "#         score = self.sigmoid(out)\n",
    "#         return score, per_out"
   ]
  },
  {
   "cell_type": "code",
   "execution_count": 188,
   "id": "f5a1b285",
   "metadata": {},
   "outputs": [],
   "source": [
    "class LSTM(nn.Module):\n",
    "    def __init__(self,input_size, output_size, hidden_size, num_layers):\n",
    "        super(LSTM,self).__init__()\n",
    "        self.input_size = input_size\n",
    "        self.output_size = output_size\n",
    "        self.num_layers = num_layers\n",
    "        self.hidden_size = hidden_size\n",
    "        #layer 1\n",
    "        self.lstm = nn.LSTM(self.input_size, \n",
    "                            self.hidden_size,\n",
    "                            self.num_layers,\n",
    "                            batch_first=False,dropout = 0)\n",
    "\n",
    "        self.dropout = nn.Dropout(p=0.3)\n",
    "        #layer 2\n",
    "        self.fc = nn.Linear(hidden_size,output_size)\n",
    "      \n",
    "        self.sigmoid = nn.Sigmoid()\n",
    "     \n",
    "    def forward(self, x):     \n",
    "        per_out=[]\n",
    "        lstm_out, self.hidden_cell = self.lstm(x)\n",
    "        per_out.append(lstm_out)\n",
    "        lstm_out = self.dropout(lstm_out)    \n",
    "        out = self.fc(lstm_out)\n",
    "        per_out.append(out)\n",
    "        score = self.sigmoid(out)\n",
    "        return score, per_out"
   ]
  },
  {
   "cell_type": "code",
   "execution_count": 189,
   "id": "08173560",
   "metadata": {},
   "outputs": [],
   "source": [
    "def evaluate_accuracy(x,y,model):\n",
    "    output,pre_out = model(x)\n",
    "    output = torch.reshape(output,[-1,1])\n",
    "    correct = (output.ge(0.5) == y).sum().item()\n",
    "    n = y.shape[0]\n",
    "    return correct/n"
   ]
  },
  {
   "cell_type": "code",
   "execution_count": 190,
   "id": "317cceb5",
   "metadata": {},
   "outputs": [],
   "source": [
    "input_size = 79\n",
    "output_size = 1\n",
    "hidden_size = 20\n",
    "num_layers =2\n",
    "\n",
    "device = torch.device('cuda')\n",
    "model = LSTM(input_size,output_size, hidden_size, num_layers).to(device)\n",
    "loss_function = nn.BCELoss().to(device)\n",
    "optimizer = torch.optim.Adam(model.parameters(),lr=0.001)\n",
    "# optimizer = torch.optim.SGD(model.parameters(),lr=0.01)"
   ]
  },
  {
   "cell_type": "code",
   "execution_count": 191,
   "id": "724322db",
   "metadata": {},
   "outputs": [
    {
     "name": "stdout",
     "output_type": "stream",
     "text": [
      "LSTM(\n",
      "  (lstm): LSTM(79, 20, num_layers=2)\n",
      "  (dropout): Dropout(p=0.3, inplace=False)\n",
      "  (fc): Linear(in_features=20, out_features=1, bias=True)\n",
      "  (sigmoid): Sigmoid()\n",
      ")\n"
     ]
    }
   ],
   "source": [
    "print(model)"
   ]
  },
  {
   "cell_type": "code",
   "execution_count": 192,
   "id": "baaffac6",
   "metadata": {},
   "outputs": [],
   "source": [
    "# x = X_train_full[:2,:,:]\n",
    "# x.shape"
   ]
  },
  {
   "cell_type": "code",
   "execution_count": 193,
   "id": "c97209ff",
   "metadata": {},
   "outputs": [],
   "source": [
    "# y = y_train\n",
    "# y = np.array(y)\n",
    "# y = y.reshape(-1,1)\n",
    "# y"
   ]
  },
  {
   "cell_type": "code",
   "execution_count": 194,
   "id": "35a2e3ae",
   "metadata": {},
   "outputs": [],
   "source": [
    "# X_train_full = torch.tensor(X_train_full)\n",
    "# X_train_full = torch.where(torch.isnan(X_train_full), torch.full_like(X_train_full, 0), X_train_full)\n",
    "# torch.isnan(X_train_full[10,:,:])"
   ]
  },
  {
   "cell_type": "code",
   "execution_count": 195,
   "id": "24998915",
   "metadata": {},
   "outputs": [],
   "source": [
    "# x = X_train_full[:60,:,:]\n",
    "# x = x.astype(np.float32)\n",
    "# x = torch.from_numpy(x)\n",
    "# x = torch.where(torch.isnan(x), torch.full_like(x, 0), x)\n",
    "# output, pre_out = model(x)\n",
    "# # pre_out\n",
    "\n",
    "# y = y_train[:60]\n",
    "# y = np.array(y)\n",
    "# y = torch.tensor(np.reshape(y,[-1,1]))\n",
    "\n",
    "# loss = loss_function(output,y)\n",
    "# optimizer.zero_grad()\n",
    "# loss.backward()\n",
    "# optimizer.step()"
   ]
  },
  {
   "cell_type": "code",
   "execution_count": 196,
   "id": "8409f9ea",
   "metadata": {
    "scrolled": true
   },
   "outputs": [],
   "source": [
    "# x = torch.tensor( X_train_full[:60,:,:]).float()\n",
    "# # x = x.astype(np.float32)\n",
    "# # x = torch.from_numpy(x)\n",
    "# x = torch.where(torch.isnan(x), torch.full_like(x, 0), x)\n",
    "\n",
    "# y = y_train[:60]\n",
    "# y = np.array(y)\n",
    "# y = torch.tensor(np.reshape(y,[-1,1]))\n",
    "# # y = torch.from_numpy(y)\n",
    "# y = y.float()\n",
    "# # print(y)\n",
    "# # print(y.shape)\n",
    "# output,pre_out = model(x)\n",
    "# # print(output)\n",
    "\n",
    "\n",
    "# output = torch.reshape(output,[-1,1])\n",
    "# # print(output.shape)\n",
    "# # output = output.float()\n",
    "# # print(output.dtype)\n",
    "\n",
    "# loss = loss_function(output,y)\n",
    "# optimizer.zero_grad()\n",
    "# loss.backward()\n",
    "# optimizer.step()"
   ]
  },
  {
   "cell_type": "code",
   "execution_count": 197,
   "id": "8e27da47",
   "metadata": {},
   "outputs": [],
   "source": [
    "# loss"
   ]
  },
  {
   "cell_type": "code",
   "execution_count": 198,
   "id": "0bd9513a",
   "metadata": {},
   "outputs": [],
   "source": [
    "# import math\n",
    "# math.ceil(len(X_train_full)/60)"
   ]
  },
  {
   "cell_type": "code",
   "execution_count": 199,
   "id": "654f9e68",
   "metadata": {},
   "outputs": [
    {
     "name": "stdout",
     "output_type": "stream",
     "text": [
      "torch.Size([201001, 1, 79])\n",
      "torch.Size([201001, 1, 1])\n"
     ]
    }
   ],
   "source": [
    "import torch.utils.data as Data\n",
    "# 将输入和输出封装进Data.TensorDataset()类对象\n",
    "x = torch.tensor(X_train[:,:,:]).float()\n",
    "x = torch.where(torch.isnan(x), torch.full_like(x, 0), x)\n",
    "    \n",
    "y = y_train[:]\n",
    "y = np.array(y)\n",
    "# y = torch.tensor(np.reshape(y,[-1,1]))\n",
    "y = torch.tensor(y)\n",
    "y = y.float()\n",
    "print(x.shape)\n",
    "print(y.shape)\n",
    "\n",
    "torch_dataset = Data.TensorDataset(x,y)"
   ]
  },
  {
   "cell_type": "code",
   "execution_count": 200,
   "id": "522101ac",
   "metadata": {},
   "outputs": [],
   "source": [
    "BATCH_SIZE = 1\n",
    "train_dataloader = torch.utils.data.DataLoader(torch_dataset, batch_size=BATCH_SIZE, shuffle=False, num_workers=1)"
   ]
  },
  {
   "cell_type": "code",
   "execution_count": 201,
   "id": "774e5a31",
   "metadata": {},
   "outputs": [],
   "source": [
    "# train_dataloader = torch.utils.data.DataLoader(train_datasets, batch_size=batch_size, shuffle=True, num_workers=2)"
   ]
  },
  {
   "cell_type": "markdown",
   "id": "cf670b78",
   "metadata": {},
   "source": [
    "# Training and Evaluation"
   ]
  },
  {
   "cell_type": "code",
   "execution_count": 202,
   "id": "c51d0500",
   "metadata": {
    "scrolled": true
   },
   "outputs": [],
   "source": [
    "# import time\n",
    "\n",
    "# time_start=time.time()\n",
    "\n",
    "# epochs = 1\n",
    "# for epoch in range(epochs):\n",
    "#   model.train()\n",
    "#   for batch, (batch_x, batch_y) in enumerate(train_dataloader):\n",
    "    \n",
    "#     batch_x = batch_x.cuda()\n",
    "   \n",
    "#     output,pre_out = model(batch_x)\n",
    "#     output = torch.reshape(output,[-1,1])\n",
    "\n",
    "#     batch_y = np.array(batch_y)\n",
    "#     batch_y = torch.tensor(np.reshape(batch_y,[-1,1]))\n",
    "#     batch_y = batch_y.float()\n",
    "#     batch_y = batch_y.cuda()\n",
    "\n",
    "#     loss = loss_function(output,batch_y)\n",
    "#     acc = evaluate_accuracy(batch_x,batch_y,model)\n",
    "#     optimizer.zero_grad()\n",
    "#     loss.backward()\n",
    "#     optimizer.step()\n",
    "    \n",
    "#     if epoch % 5 == 0:\n",
    "#       print(\"epoch:{} batch:{} loss:{} acc:{}\".format(epoch,batch,loss.item(),acc))\n",
    "\n",
    "# time_end=time.time()\n",
    "# print('totally cost',time_end-time_start)"
   ]
  },
  {
   "cell_type": "markdown",
   "id": "1a4e97fd",
   "metadata": {},
   "source": [
    " 78377   278.5211410522461\n",
    " 8936    33.402079820632935\n",
    " "
   ]
  },
  {
   "cell_type": "code",
   "execution_count": 230,
   "id": "4b2a8749",
   "metadata": {},
   "outputs": [
    {
     "data": {
      "text/plain": [
       "361803"
      ]
     },
     "execution_count": 230,
     "metadata": {},
     "output_type": "execute_result"
    }
   ],
   "source": [
    "len(X_train)"
   ]
  },
  {
   "cell_type": "code",
   "execution_count": 204,
   "id": "0e877daa",
   "metadata": {},
   "outputs": [],
   "source": [
    "torch.cuda.empty_cache()"
   ]
  },
  {
   "cell_type": "code",
   "execution_count": 265,
   "id": "5b71fc4a",
   "metadata": {
    "scrolled": true
   },
   "outputs": [
    {
     "name": "stdout",
     "output_type": "stream",
     "text": [
      "120600\n",
      "epoch:0 loss:0.12989896535873413\n",
      "epoch:5 loss:0.1300642192363739\n",
      "epoch:10 loss:0.12927815318107605\n",
      "epoch:15 loss:0.12889397144317627\n",
      "epoch:20 loss:0.12822450697422028\n",
      "epoch:25 loss:0.12816989421844482\n",
      "epoch:30 loss:0.1283697634935379\n",
      "epoch:35 loss:0.12763312458992004\n",
      "epoch:40 loss:0.12733009457588196\n",
      "epoch:45 loss:0.12694281339645386\n",
      "epoch:50 loss:0.12642118334770203\n",
      "epoch:55 loss:0.12684336304664612\n",
      "epoch:60 loss:0.1258169561624527\n",
      "epoch:65 loss:0.12597490847110748\n",
      "epoch:70 loss:0.12628686428070068\n",
      "epoch:75 loss:0.1262073665857315\n",
      "epoch:80 loss:0.1257021725177765\n",
      "epoch:85 loss:0.126164972782135\n",
      "epoch:90 loss:0.12583602964878082\n",
      "epoch:95 loss:0.12510426342487335\n",
      "epoch:100 loss:0.12539102137088776\n",
      "epoch:105 loss:0.1254952847957611\n",
      "epoch:110 loss:0.12460289895534515\n",
      "epoch:115 loss:0.12514588236808777\n",
      "epoch:120 loss:0.12423178553581238\n",
      "epoch:125 loss:0.12425460666418076\n",
      "epoch:130 loss:0.12395694851875305\n",
      "epoch:135 loss:0.1231965571641922\n",
      "epoch:140 loss:0.12306693196296692\n",
      "epoch:145 loss:0.12311774492263794\n",
      "epoch:150 loss:0.12265212088823318\n",
      "epoch:155 loss:0.12177816033363342\n",
      "epoch:160 loss:0.12493111193180084\n",
      "epoch:165 loss:0.12477531284093857\n",
      "epoch:170 loss:0.12388993054628372\n",
      "epoch:175 loss:0.12368940562009811\n",
      "epoch:180 loss:0.12384458631277084\n",
      "epoch:185 loss:0.12381484359502792\n",
      "epoch:190 loss:0.12309153378009796\n",
      "epoch:195 loss:0.12243277579545975\n",
      "totally cost 820.6956114768982\n"
     ]
    }
   ],
   "source": [
    "import time\n",
    "print(len(X_train))\n",
    "time_start=time.time()\n",
    "epochs = 200\n",
    "\n",
    "for epoch in range(epochs):\n",
    "    model.train()\n",
    "    x = torch.tensor( X_train[:,:,:]).float()\n",
    "    x = torch.where(torch.isnan(x), torch.full_like(x, 0), x)\n",
    "    \n",
    "    y = y_train[:]\n",
    "    y = np.array(y)\n",
    "    y = torch.tensor(np.reshape(y,[-1,1]))\n",
    "    y = y.float()\n",
    "    \n",
    "    x = x.cuda()\n",
    "    y = y.cuda()\n",
    "    \n",
    "    output,pre_out = model(x)\n",
    "    output = torch.reshape(output,[-1,1])\n",
    "    loss = loss_function(output,y)\n",
    "    optimizer.zero_grad()\n",
    "    loss.backward()\n",
    "    optimizer.step()\n",
    "    \n",
    "    if epoch % 5 == 0:\n",
    "        print(\"epoch:{} loss:{}\".format(epoch,loss.item()))\n",
    "        \n",
    "time_end=time.time()\n",
    "print('totally cost',time_end-time_start)     \n",
    "        "
   ]
  },
  {
   "cell_type": "markdown",
   "id": "c35bc86d",
   "metadata": {},
   "source": [
    "40199  281.12068939208984 120600 820.6956114768982  201001 1340  361803 2563.249900817871"
   ]
  },
  {
   "cell_type": "code",
   "execution_count": 178,
   "id": "6d661c3d",
   "metadata": {},
   "outputs": [
    {
     "name": "stdout",
     "output_type": "stream",
     "text": [
      "epoch:0 loss:0.6470959186553955\n",
      "epoch:5 loss:0.4780115485191345\n",
      "epoch:10 loss:0.26231569051742554\n",
      "epoch:15 loss:0.14136047661304474\n",
      "epoch:20 loss:0.11076926440000534\n",
      "epoch:25 loss:0.10641445219516754\n",
      "epoch:30 loss:0.10716826468706131\n",
      "epoch:35 loss:0.10812421143054962\n",
      "epoch:40 loss:0.1080411970615387\n",
      "epoch:45 loss:0.10732428729534149\n",
      "epoch:50 loss:0.10704907774925232\n",
      "epoch:55 loss:0.10631211847066879\n",
      "epoch:60 loss:0.10640821605920792\n",
      "epoch:65 loss:0.10641109198331833\n",
      "epoch:70 loss:0.10631535947322845\n",
      "epoch:75 loss:0.10639756172895432\n",
      "epoch:80 loss:0.1062362864613533\n",
      "epoch:85 loss:0.10643705725669861\n",
      "epoch:90 loss:0.10637166351079941\n",
      "epoch:95 loss:0.10617506504058838\n",
      "epoch:100 loss:0.10623402148485184\n",
      "epoch:105 loss:0.10640815645456314\n",
      "epoch:110 loss:0.10620547831058502\n",
      "epoch:115 loss:0.10617052018642426\n",
      "epoch:120 loss:0.1063769981265068\n",
      "epoch:125 loss:0.1064848080277443\n",
      "epoch:130 loss:0.10630158334970474\n",
      "epoch:135 loss:0.10645335167646408\n",
      "epoch:140 loss:0.10626459866762161\n",
      "epoch:145 loss:0.106326162815094\n",
      "epoch:150 loss:0.10623498260974884\n",
      "epoch:155 loss:0.10615789145231247\n",
      "epoch:160 loss:0.10633095353841782\n",
      "epoch:165 loss:0.10622591525316238\n",
      "epoch:170 loss:0.10646776854991913\n",
      "epoch:175 loss:0.10636682063341141\n",
      "epoch:180 loss:0.10616746544837952\n",
      "epoch:185 loss:0.10619617998600006\n",
      "epoch:190 loss:0.10641752928495407\n",
      "epoch:195 loss:0.10627157986164093\n",
      "totally cost 1949.2822089195251\n"
     ]
    }
   ],
   "source": [
    "import time\n",
    "\n",
    "time_start=time.time()\n",
    "epochs = 200\n",
    "\n",
    "for epoch in range(epochs):\n",
    "    model.train()\n",
    "    x = torch.tensor( X_train[:,:,:]).float()\n",
    "    x = torch.where(torch.isnan(x), torch.full_like(x, 0), x)\n",
    "    \n",
    "    y = y_train[:]\n",
    "    y = np.array(y)\n",
    "    y = torch.tensor(np.reshape(y,[-1,1]))\n",
    "    y = y.float()\n",
    "    \n",
    "    x = x.cuda()\n",
    "    y = y.cuda()\n",
    "    \n",
    "    output,pre_out = model(x)\n",
    "    output = torch.reshape(output,[-1,1])\n",
    "    loss = loss_function(output,y)\n",
    "    optimizer.zero_grad()\n",
    "    loss.backward()\n",
    "    optimizer.step()\n",
    "    \n",
    "    if epoch % 5 == 0:\n",
    "        print(\"epoch:{} loss:{}\".format(epoch,loss.item()))\n",
    "        \n",
    "time_end=time.time()\n",
    "print('totally cost',time_end-time_start)     \n",
    "        "
   ]
  },
  {
   "cell_type": "markdown",
   "id": "cba024b6",
   "metadata": {},
   "source": [
    "9031    64.93641090393066\n",
    "23512   162.0211820602417\n",
    "39187   271.4542453289032\n",
    "70538   484.0234043598175\n"
   ]
  },
  {
   "cell_type": "code",
   "execution_count": 245,
   "id": "13a35774",
   "metadata": {
    "scrolled": false
   },
   "outputs": [
    {
     "data": {
      "image/png": "[encoded data removed]",
      "text/plain": [
       "<Figure size 432x288 with 1 Axes>"
      ]
     },
     "metadata": {
      "needs_background": "light"
     },
     "output_type": "display_data"
    }
   ],
   "source": [
    "import numpy as np\n",
    "from sklearn.linear_model import LinearRegression\n",
    "import matplotlib.pyplot as plt\n",
    "# 40199  281.12068939208984 120600 820.6956114768982  201001 1340  361803 2563.249900817871\n",
    "x = [[40199],[120600],[201001] ,[361803]]\n",
    "y = [[281],[820.6956114768982],[1340], [2563]]\n",
    "reg = LinearRegression().fit(x,y)\n",
    "x_pre = np.linspace(0,370000,5)\n",
    "x_pre = x_pre.reshape(-1,1)\n",
    "y_pre = reg.predict(x_pre)\n",
    "plt.plot(x, y,'o')\n",
    "plt.plot(x_pre, y_pre)\n",
    "plt.show()"
   ]
  },
  {
   "cell_type": "code",
   "execution_count": 235,
   "id": "31eb83ba",
   "metadata": {},
   "outputs": [
    {
     "data": {
      "text/plain": [
       "array([[2540.19072524]])"
      ]
     },
     "execution_count": 235,
     "metadata": {},
     "output_type": "execute_result"
    }
   ],
   "source": [
    "reg.predict([[358804]])"
   ]
  },
  {
   "cell_type": "code",
   "execution_count": 246,
   "id": "7e0ac63b",
   "metadata": {
    "scrolled": true
   },
   "outputs": [
    {
     "name": "stdout",
     "output_type": "stream",
     "text": [
      "[[0.00709568]] [-31.57268981]\n"
     ]
    }
   ],
   "source": [
    "a = reg.coef_\n",
    "b = reg.intercept_\n",
    "print(a,b)"
   ]
  },
  {
   "cell_type": "code",
   "execution_count": 231,
   "id": "b18d940a",
   "metadata": {},
   "outputs": [
    {
     "name": "stdout",
     "output_type": "stream",
     "text": [
      "epoch:199 loss:0.11128345131874084\n",
      "train acc 0.9777171554685837\n",
      "valid acc: 0.9779850746268657\n"
     ]
    }
   ],
   "source": [
    "model.eval()\n",
    "x = torch.tensor( X_train[:,:,:]).float()\n",
    "x = torch.where(torch.isnan(x), torch.full_like(x, 0), x)\n",
    "    \n",
    "y = y_train[:]\n",
    "y = np.array(y)\n",
    "y = torch.tensor(np.reshape(y,[-1,1]))\n",
    "y = y.float()\n",
    "    \n",
    "x = x.cuda()\n",
    "y = y.cuda()\n",
    "\n",
    "x_valid = torch.tensor(X_valid[:,:,:]).float()\n",
    "x_valid = torch.where(torch.isnan(x_valid), torch.full_like(x_valid, 0), x_valid)\n",
    "    \n",
    "y_val = y_valid[:]\n",
    "y_val = np.array(y_val)\n",
    "y_val = torch.tensor(np.reshape(y_val,[-1,1]))\n",
    "y_val = y_val.float()\n",
    "\n",
    "x_valid = x_valid.cuda()\n",
    "y_val = y_val.cuda()\n",
    "\n",
    "train_acc = evaluate_accuracy(x_valid,y_val,model)\n",
    "print(\"epoch:{} loss:{}\".format(epoch,loss.item()))\n",
    "print(\"train acc\", evaluate_accuracy(x,y,model))\n",
    "print(\"valid acc:\",train_acc)"
   ]
  },
  {
   "cell_type": "code",
   "execution_count": null,
   "id": "f769a0df",
   "metadata": {},
   "outputs": [],
   "source": []
  },
  {
   "cell_type": "code",
   "execution_count": null,
   "id": "cb452e78",
   "metadata": {},
   "outputs": [],
   "source": [
    "import sklearn.metrics as sm\n",
    "output,pre_out = model(x_valid)\n",
    "output = torch.reshape(output,[-1,1])\n",
    "output = output.ge(0.5)\n",
    "print(output)\n",
    "cr = sm.classification_report(y_valid, output)\n",
    "cr"
   ]
  },
  {
   "cell_type": "markdown",
   "id": "c21900ec",
   "metadata": {},
   "source": [
    "# update"
   ]
  },
  {
   "cell_type": "code",
   "execution_count": null,
   "id": "3d85b47d",
   "metadata": {},
   "outputs": [],
   "source": []
  }
 ],
 "metadata": {
  "kernelspec": {
   "display_name": "Python 3",
   "language": "python",
   "name": "python3"
  },
  "language_info": {
   "codemirror_mode": {
    "name": "ipython",
    "version": 3
   },
   "file_extension": ".py",
   "mimetype": "text/x-python",
   "name": "python",
   "nbconvert_exporter": "python",
   "pygments_lexer": "ipython3",
   "version": "3.8.3"
  }
 },
 "nbformat": 4,
 "nbformat_minor": 5
}
