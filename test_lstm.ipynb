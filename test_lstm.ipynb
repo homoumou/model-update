{
 "cells": [
  {
   "cell_type": "code",
   "execution_count": 2,
   "id": "2c9ac98c",
   "metadata": {},
   "outputs": [],
   "source": [
    "import pandas as pd\n",
    "import numpy as np\n",
    "import tensorflow as tf\n",
    "from tensorflow import keras\n",
    "import pandas as pd\n",
    "import seaborn as sns\n",
    "import matplotlib.pyplot as plt\n",
    "from sklearn import metrics\n",
    "\n",
    "from tensorflow.keras.utils import get_file"
   ]
  },
  {
   "cell_type": "code",
   "execution_count": 3,
   "id": "a2b57590",
   "metadata": {},
   "outputs": [
    {
     "name": "stdout",
     "output_type": "stream",
     "text": [
      "['../Dataset\\\\data1.csv', '../Dataset\\\\data10.csv', '../Dataset\\\\data11.csv', '../Dataset\\\\data12.csv', '../Dataset\\\\data13.csv', '../Dataset\\\\data14.csv', '../Dataset\\\\data15.csv', '../Dataset\\\\data2.csv', '../Dataset\\\\data3.csv', '../Dataset\\\\data4.csv', '../Dataset\\\\data5.csv', '../Dataset\\\\data6.csv', '../Dataset\\\\data7.csv', '../Dataset\\\\data8.csv', '../Dataset\\\\data9.csv']\n"
     ]
    }
   ],
   "source": [
    "# Read the data\n",
    "import glob,os\n",
    "path=r'../Dataset/'\n",
    "file=glob.glob(os.path.join(path, \"data*.csv\"))\n",
    "print(file)\n",
    "dl= []\n",
    "for f in file:\n",
    " dl.append(pd.read_csv(f,header=[0],index_col=None))\n",
    "df=pd.concat(dl)"
   ]
  },
  {
   "cell_type": "code",
   "execution_count": 4,
   "id": "ba425895",
   "metadata": {},
   "outputs": [
    {
     "data": {
      "text/plain": [
       "1    55663\n",
       "0    22714\n",
       "Name: marker, dtype: int64"
      ]
     },
     "execution_count": 4,
     "metadata": {},
     "output_type": "execute_result"
    }
   ],
   "source": [
    "# label Encoding\n",
    "df['marker'] = df['marker'].replace(['Natural'],0)\n",
    "df['marker'] = df['marker'].replace(['Attack'],1)\n",
    "df['marker'].value_counts()"
   ]
  },
  {
   "cell_type": "code",
   "execution_count": 5,
   "id": "3ca51f18",
   "metadata": {},
   "outputs": [],
   "source": [
    "# Separate target from predictors\n",
    "y = df.marker\n",
    "x = df.drop(['marker'], axis=1)"
   ]
  },
  {
   "cell_type": "code",
   "execution_count": 6,
   "id": "b20bbbee",
   "metadata": {},
   "outputs": [],
   "source": [
    "values = x\n",
    "# np.all(np.isfinite(values))\n",
    "values.replace([np.inf, -np.inf], np.nan, inplace=True)"
   ]
  },
  {
   "cell_type": "code",
   "execution_count": 7,
   "id": "b40a8b45",
   "metadata": {},
   "outputs": [
    {
     "data": {
      "text/plain": [
       "array([[0.6955546 , 0.84220973, 0.36229508, ..., 0.        , 0.        ,\n",
       "        0.        ],\n",
       "       [0.70469051, 0.85941118, 0.3713831 , ..., 0.        , 0.        ,\n",
       "        0.        ],\n",
       "       [0.70481784, 0.85957658, 0.37151042, ..., 0.        , 0.        ,\n",
       "        0.        ],\n",
       "       ...,\n",
       "       [0.33600726, 0.86470394, 0.00275346, ..., 0.        , 0.        ,\n",
       "        0.        ],\n",
       "       [0.33587993, 0.86486934, 0.00262613, ..., 0.        , 0.        ,\n",
       "        0.        ],\n",
       "       [0.33552977, 0.86520013, 0.0022919 , ..., 0.        , 0.        ,\n",
       "        0.        ]])"
      ]
     },
     "execution_count": 7,
     "metadata": {},
     "output_type": "execute_result"
    }
   ],
   "source": [
    "#normalization\n",
    "from sklearn.preprocessing import MinMaxScaler\n",
    "scaler = MinMaxScaler()\n",
    "X_normalized=scaler.fit_transform(values)\n",
    "X_normalized"
   ]
  },
  {
   "cell_type": "code",
   "execution_count": 8,
   "id": "a6efdee1",
   "metadata": {},
   "outputs": [],
   "source": [
    "from sklearn.model_selection import train_test_split\n",
    "# Divide data into training and validation subsets\n",
    "X_train_full, X_valid_full, y_train, y_valid = train_test_split(X_normalized, y, train_size=0.8, test_size=0.2,\n",
    "                                                                random_state=0)"
   ]
  },
  {
   "cell_type": "code",
   "execution_count": 9,
   "id": "1acfcc5e",
   "metadata": {},
   "outputs": [
    {
     "name": "stdout",
     "output_type": "stream",
     "text": [
      "(62701, 1, 128) (62701,) (15676, 1, 128) (15676,)\n"
     ]
    }
   ],
   "source": [
    "# reshape input to be 3D [samples, timesteps, features]\n",
    "X_train_full = X_train_full.reshape((X_train_full.shape[0], 1, X_train_full.shape[1]))\n",
    "X_valid_full = X_valid_full.reshape((X_valid_full.shape[0], 1, X_valid_full.shape[1]))\n",
    "print(X_train_full.shape, y_train.shape, X_valid_full.shape, y_valid.shape) "
   ]
  },
  {
   "cell_type": "code",
   "execution_count": 12,
   "id": "a7ec4d2d",
   "metadata": {},
   "outputs": [
    {
     "name": "stdout",
     "output_type": "stream",
     "text": [
      "Model: \"sequential_2\"\n",
      "_________________________________________________________________\n",
      "Layer (type)                 Output Shape              Param #   \n",
      "=================================================================\n",
      "lstm_4 (LSTM)                (None, 1, 32)             20608     \n",
      "_________________________________________________________________\n",
      "dense_2 (Dense)              (None, 1, 1)              33        \n",
      "=================================================================\n",
      "Total params: 20,641\n",
      "Trainable params: 20,641\n",
      "Non-trainable params: 0\n",
      "_________________________________________________________________\n"
     ]
    }
   ],
   "source": [
    "data_dim = 128\n",
    "timesteps = 1\n",
    "num_classes = 1\n",
    "\n",
    "# expected input data shape: (batch_size, timesteps, data_dim)\n",
    "model = keras.Sequential()\n",
    "model.add(keras.layers.LSTM(32, return_sequences=True,   input_shape=(timesteps, data_dim)))   \n",
    "# model.add(keras.layers.LSTM(32, return_sequences=True))  \n",
    "# model.add(keras.layers.LSTM(32))  \n",
    "model.add(keras.layers.Dense(1, activation='softmax'))\n",
    "\n",
    "model.compile(loss='binary_crossentropy',\n",
    "                  optimizer='adam',\n",
    "                  metrics=['accuracy'])\n",
    "model.summary()\n"
   ]
  },
  {
   "cell_type": "code",
   "execution_count": 13,
   "id": "a877c392",
   "metadata": {},
   "outputs": [
    {
     "name": "stdout",
     "output_type": "stream",
     "text": [
      "Epoch 1/10\n",
      "1046/1046 [==============================] - 1s 1ms/step - loss: nan - accuracy: 0.2902\n",
      "Epoch 2/10\n",
      "1046/1046 [==============================] - 2s 2ms/step - loss: nan - accuracy: 0.2902\n",
      "Epoch 3/10\n",
      "1046/1046 [==============================] - 2s 1ms/step - loss: nan - accuracy: 0.2902\n",
      "Epoch 4/10\n",
      "1046/1046 [==============================] - 2s 2ms/step - loss: nan - accuracy: 0.2902\n",
      "Epoch 5/10\n",
      "1046/1046 [==============================] - 2s 2ms/step - loss: nan - accuracy: 0.2902\n",
      "Epoch 6/10\n",
      "1046/1046 [==============================] - 1s 1ms/step - loss: nan - accuracy: 0.2902\n",
      "Epoch 7/10\n",
      "1046/1046 [==============================] - 1s 1ms/step - loss: nan - accuracy: 0.2902\n",
      "Epoch 8/10\n",
      "1046/1046 [==============================] - 1s 1ms/step - loss: nan - accuracy: 0.2902\n",
      "Epoch 9/10\n",
      "1046/1046 [==============================] - 1s 1ms/step - loss: nan - accuracy: 0.2902\n",
      "Epoch 10/10\n",
      "1046/1046 [==============================] - 1s 1ms/step - loss: nan - accuracy: 0.2902\n"
     ]
    },
    {
     "data": {
      "text/plain": [
       "<tensorflow.python.keras.callbacks.History at 0x19f988b96a0>"
      ]
     },
     "execution_count": 13,
     "metadata": {},
     "output_type": "execute_result"
    }
   ],
   "source": [
    "model.fit(X_train_full, y_train,  batch_size= 60, epochs= 10)"
   ]
  },
  {
   "cell_type": "code",
   "execution_count": 14,
   "id": "19619ac7",
   "metadata": {},
   "outputs": [
    {
     "name": "stdout",
     "output_type": "stream",
     "text": [
      "262/262 [==============================] - 0s 598us/step - loss: nan - accuracy: 0.2881\n"
     ]
    }
   ],
   "source": [
    "score = model.evaluate(X_valid_full, y_valid, batch_size=60)"
   ]
  }
 ],
 "metadata": {
  "kernelspec": {
   "display_name": "Python 3",
   "language": "python",
   "name": "python3"
  },
  "language_info": {
   "codemirror_mode": {
    "name": "ipython",
    "version": 3
   },
   "file_extension": ".py",
   "mimetype": "text/x-python",
   "name": "python",
   "nbconvert_exporter": "python",
   "pygments_lexer": "ipython3",
   "version": "3.8.3"
  }
 },
 "nbformat": 4,
 "nbformat_minor": 5
}
