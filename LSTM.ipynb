{
 "cells": [
  {
   "cell_type": "code",
   "execution_count": 289,
   "id": "2bdf53a0",
   "metadata": {},
   "outputs": [],
   "source": [
    "import pandas as pd\n",
    "import numpy as np \n",
    "import torch\n",
    "from torch import nn\n",
    "from torch.utils import data\n",
    "from torch.nn import functional as F\n",
    "from torchsummary import summary\n",
    "from torch.autograd import Variable"
   ]
  },
  {
   "cell_type": "code",
   "execution_count": 290,
   "id": "ec7e6c35",
   "metadata": {},
   "outputs": [
    {
     "name": "stdout",
     "output_type": "stream",
     "text": [
      "GPU: True\n"
     ]
    }
   ],
   "source": [
    "print('GPU:', torch.cuda.is_available())"
   ]
  },
  {
   "cell_type": "code",
   "execution_count": null,
   "id": "b4c2c9cd",
   "metadata": {},
   "outputs": [],
   "source": []
  },
  {
   "cell_type": "markdown",
   "id": "a984fcca",
   "metadata": {},
   "source": [
    "# Load Data"
   ]
  },
  {
   "cell_type": "code",
   "execution_count": 291,
   "id": "8da5c328",
   "metadata": {
    "scrolled": true
   },
   "outputs": [
    {
     "name": "stdout",
     "output_type": "stream",
     "text": [
      "['../Dataset/hai-master/hai-21.03\\\\test1.csv', '../Dataset/hai-master/hai-21.03\\\\test2.csv', '../Dataset/hai-master/hai-21.03\\\\test3.csv', '../Dataset/hai-master/hai-21.03\\\\test4.csv', '../Dataset/hai-master/hai-21.03\\\\test5.csv']\n"
     ]
    }
   ],
   "source": [
    "# Read the data\n",
    "import glob,os\n",
    "path=r'../Dataset/hai-master/hai-21.03'\n",
    "file=glob.glob(os.path.join(path, \"test*.csv\"))\n",
    "print(file)\n",
    "dl= []\n",
    "for f in file:\n",
    " dl.append(pd.read_csv(f,header=[0],index_col=None))\n",
    "test_df=pd.concat(dl)"
   ]
  },
  {
   "cell_type": "code",
   "execution_count": 292,
   "id": "3d27a43f",
   "metadata": {},
   "outputs": [
    {
     "data": {
      "text/plain": [
       "2"
      ]
     },
     "execution_count": 292,
     "metadata": {},
     "output_type": "execute_result"
    }
   ],
   "source": [
    "test_df[0:2].shape[0]"
   ]
  },
  {
   "cell_type": "code",
   "execution_count": 293,
   "id": "6c295730",
   "metadata": {},
   "outputs": [
    {
     "name": "stdout",
     "output_type": "stream",
     "text": [
      "['../Dataset/hai-master/hai-21.03\\\\train1.csv', '../Dataset/hai-master/hai-21.03\\\\train2.csv', '../Dataset/hai-master/hai-21.03\\\\train3.csv']\n"
     ]
    }
   ],
   "source": [
    "# Read the data\n",
    "import glob,os\n",
    "path=r'../Dataset/hai-master/hai-21.03'\n",
    "file=glob.glob(os.path.join(path, \"train*.csv\"))\n",
    "print(file)\n",
    "dl= []\n",
    "for f in file:\n",
    " dl.append(pd.read_csv(f,header=[0],index_col=None))\n",
    "train_df=pd.concat(dl)"
   ]
  },
  {
   "cell_type": "code",
   "execution_count": 294,
   "id": "405fea85",
   "metadata": {},
   "outputs": [],
   "source": [
    "# dl= []"
   ]
  },
  {
   "cell_type": "code",
   "execution_count": 295,
   "id": "98756883",
   "metadata": {},
   "outputs": [],
   "source": [
    "# dl.append(pd.read_csv('../Dataset\\\\data1.csv',header=[0],index_col=None))\n",
    "# dl.append(pd.read_csv('../Dataset\\\\data2.csv',header=[0],index_col=None))\n",
    "# df=pd.concat(dl)"
   ]
  },
  {
   "cell_type": "code",
   "execution_count": 296,
   "id": "334c4eda",
   "metadata": {},
   "outputs": [
    {
     "data": {
      "text/plain": [
       "(402005, 84)"
      ]
     },
     "execution_count": 296,
     "metadata": {},
     "output_type": "execute_result"
    }
   ],
   "source": [
    "test_df.shape"
   ]
  },
  {
   "cell_type": "code",
   "execution_count": 297,
   "id": "d0bd55f4",
   "metadata": {
    "scrolled": true
   },
   "outputs": [
    {
     "data": {
      "text/html": [
       "<div>\n",
       "<style scoped>\n",
       "    .dataframe tbody tr th:only-of-type {\n",
       "        vertical-align: middle;\n",
       "    }\n",
       "\n",
       "    .dataframe tbody tr th {\n",
       "        vertical-align: top;\n",
       "    }\n",
       "\n",
       "    .dataframe thead th {\n",
       "        text-align: right;\n",
       "    }\n",
       "</style>\n",
       "<table border=\"1\" class=\"dataframe\">\n",
       "  <thead>\n",
       "    <tr style=\"text-align: right;\">\n",
       "      <th></th>\n",
       "      <th>time</th>\n",
       "      <th>P1_B2004</th>\n",
       "      <th>P1_B2016</th>\n",
       "      <th>P1_B3004</th>\n",
       "      <th>P1_B3005</th>\n",
       "      <th>P1_B4002</th>\n",
       "      <th>P1_B4005</th>\n",
       "      <th>P1_B400B</th>\n",
       "      <th>P1_B4022</th>\n",
       "      <th>P1_FCV01D</th>\n",
       "      <th>...</th>\n",
       "      <th>P4_ST_GOV</th>\n",
       "      <th>P4_ST_LD</th>\n",
       "      <th>P4_ST_PO</th>\n",
       "      <th>P4_ST_PS</th>\n",
       "      <th>P4_ST_PT01</th>\n",
       "      <th>P4_ST_TT01</th>\n",
       "      <th>attack</th>\n",
       "      <th>attack_P1</th>\n",
       "      <th>attack_P2</th>\n",
       "      <th>attack_P3</th>\n",
       "    </tr>\n",
       "  </thead>\n",
       "  <tbody>\n",
       "    <tr>\n",
       "      <th>0</th>\n",
       "      <td>2020-07-07 15:00:00</td>\n",
       "      <td>0.10178</td>\n",
       "      <td>1.58771</td>\n",
       "      <td>403.78854</td>\n",
       "      <td>985.37353</td>\n",
       "      <td>32.59527</td>\n",
       "      <td>100.0</td>\n",
       "      <td>2839.58520</td>\n",
       "      <td>36.81010</td>\n",
       "      <td>100.0</td>\n",
       "      <td>...</td>\n",
       "      <td>20469.0</td>\n",
       "      <td>386.26666</td>\n",
       "      <td>380.31683</td>\n",
       "      <td>0</td>\n",
       "      <td>10044.0</td>\n",
       "      <td>27567.0</td>\n",
       "      <td>0</td>\n",
       "      <td>0</td>\n",
       "      <td>0</td>\n",
       "      <td>0</td>\n",
       "    </tr>\n",
       "    <tr>\n",
       "      <th>1</th>\n",
       "      <td>2020-07-07 15:00:01</td>\n",
       "      <td>0.10178</td>\n",
       "      <td>1.58725</td>\n",
       "      <td>403.78854</td>\n",
       "      <td>985.37353</td>\n",
       "      <td>32.59527</td>\n",
       "      <td>100.0</td>\n",
       "      <td>2843.37549</td>\n",
       "      <td>36.80895</td>\n",
       "      <td>100.0</td>\n",
       "      <td>...</td>\n",
       "      <td>20489.0</td>\n",
       "      <td>386.30286</td>\n",
       "      <td>380.02747</td>\n",
       "      <td>0</td>\n",
       "      <td>10040.0</td>\n",
       "      <td>27564.0</td>\n",
       "      <td>0</td>\n",
       "      <td>0</td>\n",
       "      <td>0</td>\n",
       "      <td>0</td>\n",
       "    </tr>\n",
       "    <tr>\n",
       "      <th>2</th>\n",
       "      <td>2020-07-07 15:00:02</td>\n",
       "      <td>0.10178</td>\n",
       "      <td>1.59519</td>\n",
       "      <td>403.78854</td>\n",
       "      <td>985.37353</td>\n",
       "      <td>32.59527</td>\n",
       "      <td>100.0</td>\n",
       "      <td>2845.06006</td>\n",
       "      <td>36.82879</td>\n",
       "      <td>100.0</td>\n",
       "      <td>...</td>\n",
       "      <td>20604.0</td>\n",
       "      <td>389.73883</td>\n",
       "      <td>381.52850</td>\n",
       "      <td>0</td>\n",
       "      <td>10037.0</td>\n",
       "      <td>27565.0</td>\n",
       "      <td>0</td>\n",
       "      <td>0</td>\n",
       "      <td>0</td>\n",
       "      <td>0</td>\n",
       "    </tr>\n",
       "    <tr>\n",
       "      <th>3</th>\n",
       "      <td>2020-07-07 15:00:03</td>\n",
       "      <td>0.10178</td>\n",
       "      <td>1.59747</td>\n",
       "      <td>403.78854</td>\n",
       "      <td>985.37353</td>\n",
       "      <td>32.59527</td>\n",
       "      <td>100.0</td>\n",
       "      <td>2837.33911</td>\n",
       "      <td>36.83451</td>\n",
       "      <td>100.0</td>\n",
       "      <td>...</td>\n",
       "      <td>20633.0</td>\n",
       "      <td>388.94311</td>\n",
       "      <td>382.08911</td>\n",
       "      <td>0</td>\n",
       "      <td>10040.0</td>\n",
       "      <td>27560.0</td>\n",
       "      <td>0</td>\n",
       "      <td>0</td>\n",
       "      <td>0</td>\n",
       "      <td>0</td>\n",
       "    </tr>\n",
       "    <tr>\n",
       "      <th>4</th>\n",
       "      <td>2020-07-07 15:00:04</td>\n",
       "      <td>0.10178</td>\n",
       "      <td>1.59869</td>\n",
       "      <td>403.78854</td>\n",
       "      <td>985.37353</td>\n",
       "      <td>32.59527</td>\n",
       "      <td>100.0</td>\n",
       "      <td>2843.37549</td>\n",
       "      <td>36.83756</td>\n",
       "      <td>100.0</td>\n",
       "      <td>...</td>\n",
       "      <td>20738.0</td>\n",
       "      <td>389.72082</td>\n",
       "      <td>383.44543</td>\n",
       "      <td>0</td>\n",
       "      <td>10042.0</td>\n",
       "      <td>27564.0</td>\n",
       "      <td>0</td>\n",
       "      <td>0</td>\n",
       "      <td>0</td>\n",
       "      <td>0</td>\n",
       "    </tr>\n",
       "  </tbody>\n",
       "</table>\n",
       "<p>5 rows × 84 columns</p>\n",
       "</div>"
      ],
      "text/plain": [
       "                  time  P1_B2004  P1_B2016   P1_B3004   P1_B3005  P1_B4002  \\\n",
       "0  2020-07-07 15:00:00   0.10178   1.58771  403.78854  985.37353  32.59527   \n",
       "1  2020-07-07 15:00:01   0.10178   1.58725  403.78854  985.37353  32.59527   \n",
       "2  2020-07-07 15:00:02   0.10178   1.59519  403.78854  985.37353  32.59527   \n",
       "3  2020-07-07 15:00:03   0.10178   1.59747  403.78854  985.37353  32.59527   \n",
       "4  2020-07-07 15:00:04   0.10178   1.59869  403.78854  985.37353  32.59527   \n",
       "\n",
       "   P1_B4005    P1_B400B  P1_B4022  P1_FCV01D  ...  P4_ST_GOV   P4_ST_LD  \\\n",
       "0     100.0  2839.58520  36.81010      100.0  ...    20469.0  386.26666   \n",
       "1     100.0  2843.37549  36.80895      100.0  ...    20489.0  386.30286   \n",
       "2     100.0  2845.06006  36.82879      100.0  ...    20604.0  389.73883   \n",
       "3     100.0  2837.33911  36.83451      100.0  ...    20633.0  388.94311   \n",
       "4     100.0  2843.37549  36.83756      100.0  ...    20738.0  389.72082   \n",
       "\n",
       "    P4_ST_PO  P4_ST_PS  P4_ST_PT01  P4_ST_TT01  attack  attack_P1  attack_P2  \\\n",
       "0  380.31683         0     10044.0     27567.0       0          0          0   \n",
       "1  380.02747         0     10040.0     27564.0       0          0          0   \n",
       "2  381.52850         0     10037.0     27565.0       0          0          0   \n",
       "3  382.08911         0     10040.0     27560.0       0          0          0   \n",
       "4  383.44543         0     10042.0     27564.0       0          0          0   \n",
       "\n",
       "   attack_P3  \n",
       "0          0  \n",
       "1          0  \n",
       "2          0  \n",
       "3          0  \n",
       "4          0  \n",
       "\n",
       "[5 rows x 84 columns]"
      ]
     },
     "execution_count": 297,
     "metadata": {},
     "output_type": "execute_result"
    }
   ],
   "source": [
    "test_df.head()"
   ]
  },
  {
   "cell_type": "code",
   "execution_count": 298,
   "id": "e4d19941",
   "metadata": {},
   "outputs": [
    {
     "data": {
      "text/plain": [
       "(921603, 84)"
      ]
     },
     "execution_count": 298,
     "metadata": {},
     "output_type": "execute_result"
    }
   ],
   "source": [
    "train_df.shape"
   ]
  },
  {
   "cell_type": "code",
   "execution_count": 299,
   "id": "4335de85",
   "metadata": {},
   "outputs": [
    {
     "data": {
      "text/html": [
       "<div>\n",
       "<style scoped>\n",
       "    .dataframe tbody tr th:only-of-type {\n",
       "        vertical-align: middle;\n",
       "    }\n",
       "\n",
       "    .dataframe tbody tr th {\n",
       "        vertical-align: top;\n",
       "    }\n",
       "\n",
       "    .dataframe thead th {\n",
       "        text-align: right;\n",
       "    }\n",
       "</style>\n",
       "<table border=\"1\" class=\"dataframe\">\n",
       "  <thead>\n",
       "    <tr style=\"text-align: right;\">\n",
       "      <th></th>\n",
       "      <th>time</th>\n",
       "      <th>P1_B2004</th>\n",
       "      <th>P1_B2016</th>\n",
       "      <th>P1_B3004</th>\n",
       "      <th>P1_B3005</th>\n",
       "      <th>P1_B4002</th>\n",
       "      <th>P1_B4005</th>\n",
       "      <th>P1_B400B</th>\n",
       "      <th>P1_B4022</th>\n",
       "      <th>P1_FCV01D</th>\n",
       "      <th>...</th>\n",
       "      <th>P4_ST_GOV</th>\n",
       "      <th>P4_ST_LD</th>\n",
       "      <th>P4_ST_PO</th>\n",
       "      <th>P4_ST_PS</th>\n",
       "      <th>P4_ST_PT01</th>\n",
       "      <th>P4_ST_TT01</th>\n",
       "      <th>attack</th>\n",
       "      <th>attack_P1</th>\n",
       "      <th>attack_P2</th>\n",
       "      <th>attack_P3</th>\n",
       "    </tr>\n",
       "  </thead>\n",
       "  <tbody>\n",
       "    <tr>\n",
       "      <th>0</th>\n",
       "      <td>2020-07-11 00:00:00</td>\n",
       "      <td>0.10121</td>\n",
       "      <td>1.29784</td>\n",
       "      <td>397.63785</td>\n",
       "      <td>1001.99799</td>\n",
       "      <td>33.6555</td>\n",
       "      <td>100.0</td>\n",
       "      <td>2847.02539</td>\n",
       "      <td>37.14706</td>\n",
       "      <td>100.0</td>\n",
       "      <td>...</td>\n",
       "      <td>16495.0</td>\n",
       "      <td>301.35992</td>\n",
       "      <td>305.03113</td>\n",
       "      <td>0</td>\n",
       "      <td>10052.0</td>\n",
       "      <td>27610.0</td>\n",
       "      <td>0</td>\n",
       "      <td>0</td>\n",
       "      <td>0</td>\n",
       "      <td>0</td>\n",
       "    </tr>\n",
       "    <tr>\n",
       "      <th>1</th>\n",
       "      <td>2020-07-11 00:00:01</td>\n",
       "      <td>0.10121</td>\n",
       "      <td>1.29692</td>\n",
       "      <td>397.63785</td>\n",
       "      <td>1001.99799</td>\n",
       "      <td>33.6555</td>\n",
       "      <td>100.0</td>\n",
       "      <td>2839.58520</td>\n",
       "      <td>37.14477</td>\n",
       "      <td>100.0</td>\n",
       "      <td>...</td>\n",
       "      <td>16402.0</td>\n",
       "      <td>297.43567</td>\n",
       "      <td>304.27161</td>\n",
       "      <td>0</td>\n",
       "      <td>10052.0</td>\n",
       "      <td>27610.0</td>\n",
       "      <td>0</td>\n",
       "      <td>0</td>\n",
       "      <td>0</td>\n",
       "      <td>0</td>\n",
       "    </tr>\n",
       "    <tr>\n",
       "      <th>2</th>\n",
       "      <td>2020-07-11 00:00:02</td>\n",
       "      <td>0.10121</td>\n",
       "      <td>1.29631</td>\n",
       "      <td>397.63785</td>\n",
       "      <td>1001.99799</td>\n",
       "      <td>33.6555</td>\n",
       "      <td>100.0</td>\n",
       "      <td>2833.26807</td>\n",
       "      <td>37.14325</td>\n",
       "      <td>100.0</td>\n",
       "      <td>...</td>\n",
       "      <td>16379.0</td>\n",
       "      <td>298.66534</td>\n",
       "      <td>303.89179</td>\n",
       "      <td>0</td>\n",
       "      <td>10050.0</td>\n",
       "      <td>27617.0</td>\n",
       "      <td>0</td>\n",
       "      <td>0</td>\n",
       "      <td>0</td>\n",
       "      <td>0</td>\n",
       "    </tr>\n",
       "    <tr>\n",
       "      <th>3</th>\n",
       "      <td>2020-07-11 00:00:03</td>\n",
       "      <td>0.10121</td>\n",
       "      <td>1.28685</td>\n",
       "      <td>397.63785</td>\n",
       "      <td>1001.99799</td>\n",
       "      <td>33.6555</td>\n",
       "      <td>100.0</td>\n",
       "      <td>2834.95264</td>\n",
       "      <td>37.11959</td>\n",
       "      <td>100.0</td>\n",
       "      <td>...</td>\n",
       "      <td>16422.0</td>\n",
       "      <td>298.06860</td>\n",
       "      <td>303.67474</td>\n",
       "      <td>0</td>\n",
       "      <td>10052.0</td>\n",
       "      <td>27614.0</td>\n",
       "      <td>0</td>\n",
       "      <td>0</td>\n",
       "      <td>0</td>\n",
       "      <td>0</td>\n",
       "    </tr>\n",
       "    <tr>\n",
       "      <th>4</th>\n",
       "      <td>2020-07-11 00:00:04</td>\n",
       "      <td>0.10121</td>\n",
       "      <td>1.28807</td>\n",
       "      <td>397.63785</td>\n",
       "      <td>1001.99799</td>\n",
       "      <td>33.6555</td>\n",
       "      <td>100.0</td>\n",
       "      <td>2832.70654</td>\n",
       "      <td>37.12265</td>\n",
       "      <td>100.0</td>\n",
       "      <td>...</td>\n",
       "      <td>16355.0</td>\n",
       "      <td>296.53137</td>\n",
       "      <td>303.22266</td>\n",
       "      <td>0</td>\n",
       "      <td>10052.0</td>\n",
       "      <td>27621.0</td>\n",
       "      <td>0</td>\n",
       "      <td>0</td>\n",
       "      <td>0</td>\n",
       "      <td>0</td>\n",
       "    </tr>\n",
       "  </tbody>\n",
       "</table>\n",
       "<p>5 rows × 84 columns</p>\n",
       "</div>"
      ],
      "text/plain": [
       "                  time  P1_B2004  P1_B2016   P1_B3004    P1_B3005  P1_B4002  \\\n",
       "0  2020-07-11 00:00:00   0.10121   1.29784  397.63785  1001.99799   33.6555   \n",
       "1  2020-07-11 00:00:01   0.10121   1.29692  397.63785  1001.99799   33.6555   \n",
       "2  2020-07-11 00:00:02   0.10121   1.29631  397.63785  1001.99799   33.6555   \n",
       "3  2020-07-11 00:00:03   0.10121   1.28685  397.63785  1001.99799   33.6555   \n",
       "4  2020-07-11 00:00:04   0.10121   1.28807  397.63785  1001.99799   33.6555   \n",
       "\n",
       "   P1_B4005    P1_B400B  P1_B4022  P1_FCV01D  ...  P4_ST_GOV   P4_ST_LD  \\\n",
       "0     100.0  2847.02539  37.14706      100.0  ...    16495.0  301.35992   \n",
       "1     100.0  2839.58520  37.14477      100.0  ...    16402.0  297.43567   \n",
       "2     100.0  2833.26807  37.14325      100.0  ...    16379.0  298.66534   \n",
       "3     100.0  2834.95264  37.11959      100.0  ...    16422.0  298.06860   \n",
       "4     100.0  2832.70654  37.12265      100.0  ...    16355.0  296.53137   \n",
       "\n",
       "    P4_ST_PO  P4_ST_PS  P4_ST_PT01  P4_ST_TT01  attack  attack_P1  attack_P2  \\\n",
       "0  305.03113         0     10052.0     27610.0       0          0          0   \n",
       "1  304.27161         0     10052.0     27610.0       0          0          0   \n",
       "2  303.89179         0     10050.0     27617.0       0          0          0   \n",
       "3  303.67474         0     10052.0     27614.0       0          0          0   \n",
       "4  303.22266         0     10052.0     27621.0       0          0          0   \n",
       "\n",
       "   attack_P3  \n",
       "0          0  \n",
       "1          0  \n",
       "2          0  \n",
       "3          0  \n",
       "4          0  \n",
       "\n",
       "[5 rows x 84 columns]"
      ]
     },
     "execution_count": 299,
     "metadata": {},
     "output_type": "execute_result"
    }
   ],
   "source": [
    "train_df.head()"
   ]
  },
  {
   "cell_type": "code",
   "execution_count": 300,
   "id": "39e49fef",
   "metadata": {},
   "outputs": [
    {
     "data": {
      "text/plain": [
       "0    921603\n",
       "Name: attack, dtype: int64"
      ]
     },
     "execution_count": 300,
     "metadata": {},
     "output_type": "execute_result"
    }
   ],
   "source": [
    "train_df['attack'].value_counts()"
   ]
  },
  {
   "cell_type": "code",
   "execution_count": 301,
   "id": "56fa9a61",
   "metadata": {},
   "outputs": [
    {
     "data": {
      "text/plain": [
       "0    393058\n",
       "1      8947\n",
       "Name: attack, dtype: int64"
      ]
     },
     "execution_count": 301,
     "metadata": {},
     "output_type": "execute_result"
    }
   ],
   "source": [
    "test_df['attack'].value_counts()"
   ]
  },
  {
   "cell_type": "code",
   "execution_count": 302,
   "id": "bebc09b8",
   "metadata": {
    "scrolled": true
   },
   "outputs": [
    {
     "data": {
      "text/html": [
       "<div>\n",
       "<style scoped>\n",
       "    .dataframe tbody tr th:only-of-type {\n",
       "        vertical-align: middle;\n",
       "    }\n",
       "\n",
       "    .dataframe tbody tr th {\n",
       "        vertical-align: top;\n",
       "    }\n",
       "\n",
       "    .dataframe thead th {\n",
       "        text-align: right;\n",
       "    }\n",
       "</style>\n",
       "<table border=\"1\" class=\"dataframe\">\n",
       "  <thead>\n",
       "    <tr style=\"text-align: right;\">\n",
       "      <th></th>\n",
       "      <th>time</th>\n",
       "      <th>P1_B2004</th>\n",
       "      <th>P1_B2016</th>\n",
       "      <th>P1_B3004</th>\n",
       "      <th>P1_B3005</th>\n",
       "      <th>P1_B4002</th>\n",
       "      <th>P1_B4005</th>\n",
       "      <th>P1_B400B</th>\n",
       "      <th>P1_B4022</th>\n",
       "      <th>P1_FCV01D</th>\n",
       "      <th>...</th>\n",
       "      <th>P4_ST_GOV</th>\n",
       "      <th>P4_ST_LD</th>\n",
       "      <th>P4_ST_PO</th>\n",
       "      <th>P4_ST_PS</th>\n",
       "      <th>P4_ST_PT01</th>\n",
       "      <th>P4_ST_TT01</th>\n",
       "      <th>attack</th>\n",
       "      <th>attack_P1</th>\n",
       "      <th>attack_P2</th>\n",
       "      <th>attack_P3</th>\n",
       "    </tr>\n",
       "  </thead>\n",
       "  <tbody>\n",
       "    <tr>\n",
       "      <th>0</th>\n",
       "      <td>2020-07-07 15:00:00</td>\n",
       "      <td>0.10178</td>\n",
       "      <td>1.58771</td>\n",
       "      <td>403.78854</td>\n",
       "      <td>985.37353</td>\n",
       "      <td>32.59527</td>\n",
       "      <td>100.0</td>\n",
       "      <td>2839.58520</td>\n",
       "      <td>36.81010</td>\n",
       "      <td>100.00000</td>\n",
       "      <td>...</td>\n",
       "      <td>20469.0</td>\n",
       "      <td>386.26666</td>\n",
       "      <td>380.31683</td>\n",
       "      <td>0</td>\n",
       "      <td>10044.0</td>\n",
       "      <td>27567.0</td>\n",
       "      <td>0</td>\n",
       "      <td>0</td>\n",
       "      <td>0</td>\n",
       "      <td>0</td>\n",
       "    </tr>\n",
       "    <tr>\n",
       "      <th>1</th>\n",
       "      <td>2020-07-07 15:00:01</td>\n",
       "      <td>0.10178</td>\n",
       "      <td>1.58725</td>\n",
       "      <td>403.78854</td>\n",
       "      <td>985.37353</td>\n",
       "      <td>32.59527</td>\n",
       "      <td>100.0</td>\n",
       "      <td>2843.37549</td>\n",
       "      <td>36.80895</td>\n",
       "      <td>100.00000</td>\n",
       "      <td>...</td>\n",
       "      <td>20489.0</td>\n",
       "      <td>386.30286</td>\n",
       "      <td>380.02747</td>\n",
       "      <td>0</td>\n",
       "      <td>10040.0</td>\n",
       "      <td>27564.0</td>\n",
       "      <td>0</td>\n",
       "      <td>0</td>\n",
       "      <td>0</td>\n",
       "      <td>0</td>\n",
       "    </tr>\n",
       "    <tr>\n",
       "      <th>2</th>\n",
       "      <td>2020-07-07 15:00:02</td>\n",
       "      <td>0.10178</td>\n",
       "      <td>1.59519</td>\n",
       "      <td>403.78854</td>\n",
       "      <td>985.37353</td>\n",
       "      <td>32.59527</td>\n",
       "      <td>100.0</td>\n",
       "      <td>2845.06006</td>\n",
       "      <td>36.82879</td>\n",
       "      <td>100.00000</td>\n",
       "      <td>...</td>\n",
       "      <td>20604.0</td>\n",
       "      <td>389.73883</td>\n",
       "      <td>381.52850</td>\n",
       "      <td>0</td>\n",
       "      <td>10037.0</td>\n",
       "      <td>27565.0</td>\n",
       "      <td>0</td>\n",
       "      <td>0</td>\n",
       "      <td>0</td>\n",
       "      <td>0</td>\n",
       "    </tr>\n",
       "    <tr>\n",
       "      <th>3</th>\n",
       "      <td>2020-07-07 15:00:03</td>\n",
       "      <td>0.10178</td>\n",
       "      <td>1.59747</td>\n",
       "      <td>403.78854</td>\n",
       "      <td>985.37353</td>\n",
       "      <td>32.59527</td>\n",
       "      <td>100.0</td>\n",
       "      <td>2837.33911</td>\n",
       "      <td>36.83451</td>\n",
       "      <td>100.00000</td>\n",
       "      <td>...</td>\n",
       "      <td>20633.0</td>\n",
       "      <td>388.94311</td>\n",
       "      <td>382.08911</td>\n",
       "      <td>0</td>\n",
       "      <td>10040.0</td>\n",
       "      <td>27560.0</td>\n",
       "      <td>0</td>\n",
       "      <td>0</td>\n",
       "      <td>0</td>\n",
       "      <td>0</td>\n",
       "    </tr>\n",
       "    <tr>\n",
       "      <th>4</th>\n",
       "      <td>2020-07-07 15:00:04</td>\n",
       "      <td>0.10178</td>\n",
       "      <td>1.59869</td>\n",
       "      <td>403.78854</td>\n",
       "      <td>985.37353</td>\n",
       "      <td>32.59527</td>\n",
       "      <td>100.0</td>\n",
       "      <td>2843.37549</td>\n",
       "      <td>36.83756</td>\n",
       "      <td>100.00000</td>\n",
       "      <td>...</td>\n",
       "      <td>20738.0</td>\n",
       "      <td>389.72082</td>\n",
       "      <td>383.44543</td>\n",
       "      <td>0</td>\n",
       "      <td>10042.0</td>\n",
       "      <td>27564.0</td>\n",
       "      <td>0</td>\n",
       "      <td>0</td>\n",
       "      <td>0</td>\n",
       "      <td>0</td>\n",
       "    </tr>\n",
       "    <tr>\n",
       "      <th>...</th>\n",
       "      <td>...</td>\n",
       "      <td>...</td>\n",
       "      <td>...</td>\n",
       "      <td>...</td>\n",
       "      <td>...</td>\n",
       "      <td>...</td>\n",
       "      <td>...</td>\n",
       "      <td>...</td>\n",
       "      <td>...</td>\n",
       "      <td>...</td>\n",
       "      <td>...</td>\n",
       "      <td>...</td>\n",
       "      <td>...</td>\n",
       "      <td>...</td>\n",
       "      <td>...</td>\n",
       "      <td>...</td>\n",
       "      <td>...</td>\n",
       "      <td>...</td>\n",
       "      <td>...</td>\n",
       "      <td>...</td>\n",
       "      <td>...</td>\n",
       "    </tr>\n",
       "    <tr>\n",
       "      <th>92396</th>\n",
       "      <td>2020-07-31 12:29:56</td>\n",
       "      <td>0.06112</td>\n",
       "      <td>1.45290</td>\n",
       "      <td>417.58124</td>\n",
       "      <td>989.50207</td>\n",
       "      <td>32.00000</td>\n",
       "      <td>0.0</td>\n",
       "      <td>31.97761</td>\n",
       "      <td>35.97946</td>\n",
       "      <td>3.67038</td>\n",
       "      <td>...</td>\n",
       "      <td>19259.0</td>\n",
       "      <td>361.14728</td>\n",
       "      <td>357.27722</td>\n",
       "      <td>0</td>\n",
       "      <td>10052.0</td>\n",
       "      <td>27627.0</td>\n",
       "      <td>0</td>\n",
       "      <td>0</td>\n",
       "      <td>0</td>\n",
       "      <td>0</td>\n",
       "    </tr>\n",
       "    <tr>\n",
       "      <th>92397</th>\n",
       "      <td>2020-07-31 12:29:57</td>\n",
       "      <td>0.06112</td>\n",
       "      <td>1.45382</td>\n",
       "      <td>417.58124</td>\n",
       "      <td>989.50207</td>\n",
       "      <td>32.00000</td>\n",
       "      <td>0.0</td>\n",
       "      <td>32.97053</td>\n",
       "      <td>35.98175</td>\n",
       "      <td>3.69119</td>\n",
       "      <td>...</td>\n",
       "      <td>19257.0</td>\n",
       "      <td>359.84521</td>\n",
       "      <td>357.29529</td>\n",
       "      <td>0</td>\n",
       "      <td>10052.0</td>\n",
       "      <td>27627.0</td>\n",
       "      <td>0</td>\n",
       "      <td>0</td>\n",
       "      <td>0</td>\n",
       "      <td>0</td>\n",
       "    </tr>\n",
       "    <tr>\n",
       "      <th>92398</th>\n",
       "      <td>2020-07-31 12:29:58</td>\n",
       "      <td>0.06112</td>\n",
       "      <td>1.45428</td>\n",
       "      <td>417.58124</td>\n",
       "      <td>989.50207</td>\n",
       "      <td>32.00000</td>\n",
       "      <td>0.0</td>\n",
       "      <td>33.96383</td>\n",
       "      <td>35.98289</td>\n",
       "      <td>3.66543</td>\n",
       "      <td>...</td>\n",
       "      <td>19248.0</td>\n",
       "      <td>360.60474</td>\n",
       "      <td>357.27722</td>\n",
       "      <td>0</td>\n",
       "      <td>10050.0</td>\n",
       "      <td>27627.0</td>\n",
       "      <td>0</td>\n",
       "      <td>0</td>\n",
       "      <td>0</td>\n",
       "      <td>0</td>\n",
       "    </tr>\n",
       "    <tr>\n",
       "      <th>92399</th>\n",
       "      <td>2020-07-31 12:29:59</td>\n",
       "      <td>0.06112</td>\n",
       "      <td>1.45458</td>\n",
       "      <td>417.58124</td>\n",
       "      <td>989.50207</td>\n",
       "      <td>32.00000</td>\n",
       "      <td>0.0</td>\n",
       "      <td>31.97761</td>\n",
       "      <td>35.98366</td>\n",
       "      <td>3.63935</td>\n",
       "      <td>...</td>\n",
       "      <td>19275.0</td>\n",
       "      <td>357.42188</td>\n",
       "      <td>357.80170</td>\n",
       "      <td>0</td>\n",
       "      <td>10053.0</td>\n",
       "      <td>27627.0</td>\n",
       "      <td>0</td>\n",
       "      <td>0</td>\n",
       "      <td>0</td>\n",
       "      <td>0</td>\n",
       "    </tr>\n",
       "    <tr>\n",
       "      <th>92400</th>\n",
       "      <td>2020-07-31 12:30:00</td>\n",
       "      <td>0.06112</td>\n",
       "      <td>1.45489</td>\n",
       "      <td>417.58124</td>\n",
       "      <td>989.50207</td>\n",
       "      <td>32.00000</td>\n",
       "      <td>0.0</td>\n",
       "      <td>32.97053</td>\n",
       "      <td>35.98442</td>\n",
       "      <td>3.66016</td>\n",
       "      <td>...</td>\n",
       "      <td>19219.0</td>\n",
       "      <td>358.65161</td>\n",
       "      <td>357.07825</td>\n",
       "      <td>0</td>\n",
       "      <td>10053.0</td>\n",
       "      <td>27627.0</td>\n",
       "      <td>0</td>\n",
       "      <td>0</td>\n",
       "      <td>0</td>\n",
       "      <td>0</td>\n",
       "    </tr>\n",
       "  </tbody>\n",
       "</table>\n",
       "<p>402005 rows × 84 columns</p>\n",
       "</div>"
      ],
      "text/plain": [
       "                      time  P1_B2004  P1_B2016   P1_B3004   P1_B3005  \\\n",
       "0      2020-07-07 15:00:00   0.10178   1.58771  403.78854  985.37353   \n",
       "1      2020-07-07 15:00:01   0.10178   1.58725  403.78854  985.37353   \n",
       "2      2020-07-07 15:00:02   0.10178   1.59519  403.78854  985.37353   \n",
       "3      2020-07-07 15:00:03   0.10178   1.59747  403.78854  985.37353   \n",
       "4      2020-07-07 15:00:04   0.10178   1.59869  403.78854  985.37353   \n",
       "...                    ...       ...       ...        ...        ...   \n",
       "92396  2020-07-31 12:29:56   0.06112   1.45290  417.58124  989.50207   \n",
       "92397  2020-07-31 12:29:57   0.06112   1.45382  417.58124  989.50207   \n",
       "92398  2020-07-31 12:29:58   0.06112   1.45428  417.58124  989.50207   \n",
       "92399  2020-07-31 12:29:59   0.06112   1.45458  417.58124  989.50207   \n",
       "92400  2020-07-31 12:30:00   0.06112   1.45489  417.58124  989.50207   \n",
       "\n",
       "       P1_B4002  P1_B4005    P1_B400B  P1_B4022  P1_FCV01D  ...  P4_ST_GOV  \\\n",
       "0      32.59527     100.0  2839.58520  36.81010  100.00000  ...    20469.0   \n",
       "1      32.59527     100.0  2843.37549  36.80895  100.00000  ...    20489.0   \n",
       "2      32.59527     100.0  2845.06006  36.82879  100.00000  ...    20604.0   \n",
       "3      32.59527     100.0  2837.33911  36.83451  100.00000  ...    20633.0   \n",
       "4      32.59527     100.0  2843.37549  36.83756  100.00000  ...    20738.0   \n",
       "...         ...       ...         ...       ...        ...  ...        ...   \n",
       "92396  32.00000       0.0    31.97761  35.97946    3.67038  ...    19259.0   \n",
       "92397  32.00000       0.0    32.97053  35.98175    3.69119  ...    19257.0   \n",
       "92398  32.00000       0.0    33.96383  35.98289    3.66543  ...    19248.0   \n",
       "92399  32.00000       0.0    31.97761  35.98366    3.63935  ...    19275.0   \n",
       "92400  32.00000       0.0    32.97053  35.98442    3.66016  ...    19219.0   \n",
       "\n",
       "        P4_ST_LD   P4_ST_PO  P4_ST_PS  P4_ST_PT01  P4_ST_TT01  attack  \\\n",
       "0      386.26666  380.31683         0     10044.0     27567.0       0   \n",
       "1      386.30286  380.02747         0     10040.0     27564.0       0   \n",
       "2      389.73883  381.52850         0     10037.0     27565.0       0   \n",
       "3      388.94311  382.08911         0     10040.0     27560.0       0   \n",
       "4      389.72082  383.44543         0     10042.0     27564.0       0   \n",
       "...          ...        ...       ...         ...         ...     ...   \n",
       "92396  361.14728  357.27722         0     10052.0     27627.0       0   \n",
       "92397  359.84521  357.29529         0     10052.0     27627.0       0   \n",
       "92398  360.60474  357.27722         0     10050.0     27627.0       0   \n",
       "92399  357.42188  357.80170         0     10053.0     27627.0       0   \n",
       "92400  358.65161  357.07825         0     10053.0     27627.0       0   \n",
       "\n",
       "       attack_P1  attack_P2  attack_P3  \n",
       "0              0          0          0  \n",
       "1              0          0          0  \n",
       "2              0          0          0  \n",
       "3              0          0          0  \n",
       "4              0          0          0  \n",
       "...          ...        ...        ...  \n",
       "92396          0          0          0  \n",
       "92397          0          0          0  \n",
       "92398          0          0          0  \n",
       "92399          0          0          0  \n",
       "92400          0          0          0  \n",
       "\n",
       "[402005 rows x 84 columns]"
      ]
     },
     "execution_count": 302,
     "metadata": {},
     "output_type": "execute_result"
    }
   ],
   "source": [
    "test_df"
   ]
  },
  {
   "cell_type": "code",
   "execution_count": 303,
   "id": "f9520168",
   "metadata": {},
   "outputs": [
    {
     "data": {
      "text/html": [
       "<div>\n",
       "<style scoped>\n",
       "    .dataframe tbody tr th:only-of-type {\n",
       "        vertical-align: middle;\n",
       "    }\n",
       "\n",
       "    .dataframe tbody tr th {\n",
       "        vertical-align: top;\n",
       "    }\n",
       "\n",
       "    .dataframe thead th {\n",
       "        text-align: right;\n",
       "    }\n",
       "</style>\n",
       "<table border=\"1\" class=\"dataframe\">\n",
       "  <thead>\n",
       "    <tr style=\"text-align: right;\">\n",
       "      <th></th>\n",
       "      <th>P1_B2004</th>\n",
       "      <th>P1_B2016</th>\n",
       "      <th>P1_B3004</th>\n",
       "      <th>P1_B3005</th>\n",
       "      <th>P1_B4002</th>\n",
       "      <th>P1_B4005</th>\n",
       "      <th>P1_B400B</th>\n",
       "      <th>P1_B4022</th>\n",
       "      <th>P1_FCV01D</th>\n",
       "      <th>P1_FCV01Z</th>\n",
       "      <th>...</th>\n",
       "      <th>P4_ST_GOV</th>\n",
       "      <th>P4_ST_LD</th>\n",
       "      <th>P4_ST_PO</th>\n",
       "      <th>P4_ST_PS</th>\n",
       "      <th>P4_ST_PT01</th>\n",
       "      <th>P4_ST_TT01</th>\n",
       "      <th>attack</th>\n",
       "      <th>attack_P1</th>\n",
       "      <th>attack_P2</th>\n",
       "      <th>attack_P3</th>\n",
       "    </tr>\n",
       "  </thead>\n",
       "  <tbody>\n",
       "    <tr>\n",
       "      <th>count</th>\n",
       "      <td>402005.000000</td>\n",
       "      <td>402005.000000</td>\n",
       "      <td>402005.000000</td>\n",
       "      <td>402005.000000</td>\n",
       "      <td>402005.000000</td>\n",
       "      <td>402005.000000</td>\n",
       "      <td>402005.000000</td>\n",
       "      <td>402005.000000</td>\n",
       "      <td>402005.000000</td>\n",
       "      <td>402005.000000</td>\n",
       "      <td>...</td>\n",
       "      <td>402005.000000</td>\n",
       "      <td>402005.000000</td>\n",
       "      <td>402005.000000</td>\n",
       "      <td>402005.000000</td>\n",
       "      <td>402005.000000</td>\n",
       "      <td>402005.000000</td>\n",
       "      <td>402005.000000</td>\n",
       "      <td>402005.000000</td>\n",
       "      <td>402005.000000</td>\n",
       "      <td>402005.000000</td>\n",
       "    </tr>\n",
       "    <tr>\n",
       "      <th>mean</th>\n",
       "      <td>0.091431</td>\n",
       "      <td>1.389921</td>\n",
       "      <td>403.798729</td>\n",
       "      <td>1066.074738</td>\n",
       "      <td>32.285249</td>\n",
       "      <td>58.924257</td>\n",
       "      <td>1741.935584</td>\n",
       "      <td>36.031480</td>\n",
       "      <td>53.314444</td>\n",
       "      <td>53.103314</td>\n",
       "      <td>...</td>\n",
       "      <td>17923.855068</td>\n",
       "      <td>332.192397</td>\n",
       "      <td>332.465165</td>\n",
       "      <td>8.918421</td>\n",
       "      <td>10050.187750</td>\n",
       "      <td>27608.471828</td>\n",
       "      <td>0.022256</td>\n",
       "      <td>0.017505</td>\n",
       "      <td>0.004637</td>\n",
       "      <td>0.002383</td>\n",
       "    </tr>\n",
       "    <tr>\n",
       "      <th>std</th>\n",
       "      <td>0.018979</td>\n",
       "      <td>0.134062</td>\n",
       "      <td>11.981150</td>\n",
       "      <td>51.409852</td>\n",
       "      <td>0.571706</td>\n",
       "      <td>42.214697</td>\n",
       "      <td>1200.694504</td>\n",
       "      <td>0.670232</td>\n",
       "      <td>43.104898</td>\n",
       "      <td>43.098623</td>\n",
       "      <td>...</td>\n",
       "      <td>1828.472994</td>\n",
       "      <td>37.394611</td>\n",
       "      <td>33.982635</td>\n",
       "      <td>19.141153</td>\n",
       "      <td>24.580383</td>\n",
       "      <td>24.517653</td>\n",
       "      <td>0.147515</td>\n",
       "      <td>0.131143</td>\n",
       "      <td>0.067936</td>\n",
       "      <td>0.048758</td>\n",
       "    </tr>\n",
       "    <tr>\n",
       "      <th>min</th>\n",
       "      <td>0.030110</td>\n",
       "      <td>0.959140</td>\n",
       "      <td>374.638610</td>\n",
       "      <td>902.981140</td>\n",
       "      <td>31.379050</td>\n",
       "      <td>0.000000</td>\n",
       "      <td>25.025980</td>\n",
       "      <td>34.225440</td>\n",
       "      <td>0.000000</td>\n",
       "      <td>0.260930</td>\n",
       "      <td>...</td>\n",
       "      <td>12660.000000</td>\n",
       "      <td>231.119810</td>\n",
       "      <td>235.622800</td>\n",
       "      <td>0.000000</td>\n",
       "      <td>9695.000000</td>\n",
       "      <td>27519.000000</td>\n",
       "      <td>0.000000</td>\n",
       "      <td>0.000000</td>\n",
       "      <td>0.000000</td>\n",
       "      <td>0.000000</td>\n",
       "    </tr>\n",
       "    <tr>\n",
       "      <th>25%</th>\n",
       "      <td>0.098290</td>\n",
       "      <td>1.312640</td>\n",
       "      <td>397.637850</td>\n",
       "      <td>1018.359010</td>\n",
       "      <td>32.000000</td>\n",
       "      <td>10.804490</td>\n",
       "      <td>305.078120</td>\n",
       "      <td>35.577770</td>\n",
       "      <td>13.731810</td>\n",
       "      <td>13.276670</td>\n",
       "      <td>...</td>\n",
       "      <td>16879.000000</td>\n",
       "      <td>307.526790</td>\n",
       "      <td>313.114870</td>\n",
       "      <td>0.000000</td>\n",
       "      <td>10051.000000</td>\n",
       "      <td>27592.000000</td>\n",
       "      <td>0.000000</td>\n",
       "      <td>0.000000</td>\n",
       "      <td>0.000000</td>\n",
       "      <td>0.000000</td>\n",
       "    </tr>\n",
       "    <tr>\n",
       "      <th>50%</th>\n",
       "      <td>0.099510</td>\n",
       "      <td>1.386060</td>\n",
       "      <td>400.835820</td>\n",
       "      <td>1085.589360</td>\n",
       "      <td>32.000000</td>\n",
       "      <td>74.562280</td>\n",
       "      <td>2477.326420</td>\n",
       "      <td>35.887980</td>\n",
       "      <td>38.567150</td>\n",
       "      <td>38.652040</td>\n",
       "      <td>...</td>\n",
       "      <td>17859.000000</td>\n",
       "      <td>331.778080</td>\n",
       "      <td>331.217470</td>\n",
       "      <td>0.000000</td>\n",
       "      <td>10053.000000</td>\n",
       "      <td>27623.000000</td>\n",
       "      <td>0.000000</td>\n",
       "      <td>0.000000</td>\n",
       "      <td>0.000000</td>\n",
       "      <td>0.000000</td>\n",
       "    </tr>\n",
       "    <tr>\n",
       "      <th>75%</th>\n",
       "      <td>0.101090</td>\n",
       "      <td>1.464340</td>\n",
       "      <td>407.549830</td>\n",
       "      <td>1104.476070</td>\n",
       "      <td>32.615000</td>\n",
       "      <td>100.000000</td>\n",
       "      <td>2831.723880</td>\n",
       "      <td>36.399530</td>\n",
       "      <td>100.000000</td>\n",
       "      <td>99.708420</td>\n",
       "      <td>...</td>\n",
       "      <td>18919.000000</td>\n",
       "      <td>355.052860</td>\n",
       "      <td>350.929570</td>\n",
       "      <td>0.000000</td>\n",
       "      <td>10053.000000</td>\n",
       "      <td>27627.000000</td>\n",
       "      <td>0.000000</td>\n",
       "      <td>0.000000</td>\n",
       "      <td>0.000000</td>\n",
       "      <td>0.000000</td>\n",
       "    </tr>\n",
       "    <tr>\n",
       "      <th>max</th>\n",
       "      <td>0.101930</td>\n",
       "      <td>2.009630</td>\n",
       "      <td>448.763430</td>\n",
       "      <td>1121.941160</td>\n",
       "      <td>33.655500</td>\n",
       "      <td>100.000000</td>\n",
       "      <td>2860.977300</td>\n",
       "      <td>38.455970</td>\n",
       "      <td>100.000000</td>\n",
       "      <td>100.000000</td>\n",
       "      <td>...</td>\n",
       "      <td>26450.000000</td>\n",
       "      <td>496.455440</td>\n",
       "      <td>491.500310</td>\n",
       "      <td>50.000000</td>\n",
       "      <td>10330.000000</td>\n",
       "      <td>27627.000000</td>\n",
       "      <td>1.000000</td>\n",
       "      <td>1.000000</td>\n",
       "      <td>1.000000</td>\n",
       "      <td>1.000000</td>\n",
       "    </tr>\n",
       "  </tbody>\n",
       "</table>\n",
       "<p>8 rows × 83 columns</p>\n",
       "</div>"
      ],
      "text/plain": [
       "            P1_B2004       P1_B2016       P1_B3004       P1_B3005  \\\n",
       "count  402005.000000  402005.000000  402005.000000  402005.000000   \n",
       "mean        0.091431       1.389921     403.798729    1066.074738   \n",
       "std         0.018979       0.134062      11.981150      51.409852   \n",
       "min         0.030110       0.959140     374.638610     902.981140   \n",
       "25%         0.098290       1.312640     397.637850    1018.359010   \n",
       "50%         0.099510       1.386060     400.835820    1085.589360   \n",
       "75%         0.101090       1.464340     407.549830    1104.476070   \n",
       "max         0.101930       2.009630     448.763430    1121.941160   \n",
       "\n",
       "            P1_B4002       P1_B4005       P1_B400B       P1_B4022  \\\n",
       "count  402005.000000  402005.000000  402005.000000  402005.000000   \n",
       "mean       32.285249      58.924257    1741.935584      36.031480   \n",
       "std         0.571706      42.214697    1200.694504       0.670232   \n",
       "min        31.379050       0.000000      25.025980      34.225440   \n",
       "25%        32.000000      10.804490     305.078120      35.577770   \n",
       "50%        32.000000      74.562280    2477.326420      35.887980   \n",
       "75%        32.615000     100.000000    2831.723880      36.399530   \n",
       "max        33.655500     100.000000    2860.977300      38.455970   \n",
       "\n",
       "           P1_FCV01D      P1_FCV01Z  ...      P4_ST_GOV       P4_ST_LD  \\\n",
       "count  402005.000000  402005.000000  ...  402005.000000  402005.000000   \n",
       "mean       53.314444      53.103314  ...   17923.855068     332.192397   \n",
       "std        43.104898      43.098623  ...    1828.472994      37.394611   \n",
       "min         0.000000       0.260930  ...   12660.000000     231.119810   \n",
       "25%        13.731810      13.276670  ...   16879.000000     307.526790   \n",
       "50%        38.567150      38.652040  ...   17859.000000     331.778080   \n",
       "75%       100.000000      99.708420  ...   18919.000000     355.052860   \n",
       "max       100.000000     100.000000  ...   26450.000000     496.455440   \n",
       "\n",
       "            P4_ST_PO       P4_ST_PS     P4_ST_PT01     P4_ST_TT01  \\\n",
       "count  402005.000000  402005.000000  402005.000000  402005.000000   \n",
       "mean      332.465165       8.918421   10050.187750   27608.471828   \n",
       "std        33.982635      19.141153      24.580383      24.517653   \n",
       "min       235.622800       0.000000    9695.000000   27519.000000   \n",
       "25%       313.114870       0.000000   10051.000000   27592.000000   \n",
       "50%       331.217470       0.000000   10053.000000   27623.000000   \n",
       "75%       350.929570       0.000000   10053.000000   27627.000000   \n",
       "max       491.500310      50.000000   10330.000000   27627.000000   \n",
       "\n",
       "              attack      attack_P1      attack_P2      attack_P3  \n",
       "count  402005.000000  402005.000000  402005.000000  402005.000000  \n",
       "mean        0.022256       0.017505       0.004637       0.002383  \n",
       "std         0.147515       0.131143       0.067936       0.048758  \n",
       "min         0.000000       0.000000       0.000000       0.000000  \n",
       "25%         0.000000       0.000000       0.000000       0.000000  \n",
       "50%         0.000000       0.000000       0.000000       0.000000  \n",
       "75%         0.000000       0.000000       0.000000       0.000000  \n",
       "max         1.000000       1.000000       1.000000       1.000000  \n",
       "\n",
       "[8 rows x 83 columns]"
      ]
     },
     "execution_count": 303,
     "metadata": {},
     "output_type": "execute_result"
    }
   ],
   "source": [
    "test_df.describe()"
   ]
  },
  {
   "cell_type": "code",
   "execution_count": 304,
   "id": "80c4b602",
   "metadata": {},
   "outputs": [],
   "source": [
    "# np.any(np.isnan(df))"
   ]
  },
  {
   "cell_type": "code",
   "execution_count": 305,
   "id": "51eed18d",
   "metadata": {},
   "outputs": [],
   "source": [
    "# torch.cuda.is_available()"
   ]
  },
  {
   "cell_type": "markdown",
   "id": "ab7661cd",
   "metadata": {},
   "source": [
    "Data preprocessing"
   ]
  },
  {
   "cell_type": "code",
   "execution_count": 306,
   "id": "d4c2cfe6",
   "metadata": {},
   "outputs": [],
   "source": [
    "# label Encoding\n",
    "# df['marker'] = df['marker'].replace(['Natural'],0)\n",
    "# df['marker'] = df['marker'].replace(['Attack'],1)\n",
    "# df['marker'].value_counts()"
   ]
  },
  {
   "cell_type": "code",
   "execution_count": 307,
   "id": "7c36b511",
   "metadata": {},
   "outputs": [
    {
     "name": "stdout",
     "output_type": "stream",
     "text": [
      "Series([], dtype: int64)\n"
     ]
    }
   ],
   "source": [
    "dataset = test_df.iloc[:]\n",
    "missing_val_count_by_column = (dataset.isnull().sum())\n",
    "print(missing_val_count_by_column[missing_val_count_by_column > 0])"
   ]
  },
  {
   "cell_type": "code",
   "execution_count": 308,
   "id": "599a0c2c",
   "metadata": {},
   "outputs": [],
   "source": [
    "# #normalization\n",
    "# from sklearn.preprocessing import MinMaxScaler\n",
    "# scaler = MinMaxScaler(feature_range=(-1,1))\n",
    "# df_normalized=scaler.fit_transform(dataset.values.reshape(-1,1))"
   ]
  },
  {
   "cell_type": "code",
   "execution_count": 309,
   "id": "95e94f17",
   "metadata": {},
   "outputs": [],
   "source": [
    "# Separate target from predictors\n",
    "y = test_df.attack\n",
    "train_x = test_df.drop(['attack','attack_P1','attack_P2','attack_P3','time'], axis=1)"
   ]
  },
  {
   "cell_type": "code",
   "execution_count": 310,
   "id": "1528a326",
   "metadata": {},
   "outputs": [
    {
     "name": "stdout",
     "output_type": "stream",
     "text": [
      "(402005,)\n",
      "(402005, 79)\n"
     ]
    }
   ],
   "source": [
    "print(y.shape)\n",
    "print(train_x.shape)"
   ]
  },
  {
   "cell_type": "code",
   "execution_count": 311,
   "id": "9c555494",
   "metadata": {},
   "outputs": [],
   "source": [
    "values = train_x\n",
    "# np.all(np.isfinite(values))\n",
    "values.replace([np.inf, -np.inf], np.nan, inplace=True)\n"
   ]
  },
  {
   "cell_type": "code",
   "execution_count": 312,
   "id": "54b04e1e",
   "metadata": {
    "scrolled": true
   },
   "outputs": [
    {
     "data": {
      "text/plain": [
       "array([[0.99791145, 0.59835886, 0.39325465, ..., 0.        , 0.5496063 ,\n",
       "        0.44444444],\n",
       "       [0.99791145, 0.59792097, 0.39325465, ..., 0.        , 0.54330709,\n",
       "        0.41666667],\n",
       "       [0.99791145, 0.60547935, 0.39325465, ..., 0.        , 0.53858268,\n",
       "        0.42592593],\n",
       "       ...,\n",
       "       [0.43177388, 0.47134195, 0.57932862, ..., 0.        , 0.55905512,\n",
       "        1.        ],\n",
       "       [0.43177388, 0.47162753, 0.57932862, ..., 0.        , 0.56377953,\n",
       "        1.        ],\n",
       "       [0.43177388, 0.47192263, 0.57932862, ..., 0.        , 0.56377953,\n",
       "        1.        ]])"
      ]
     },
     "execution_count": 312,
     "metadata": {},
     "output_type": "execute_result"
    }
   ],
   "source": [
    "#normalization\n",
    "from sklearn.preprocessing import MinMaxScaler\n",
    "scaler = MinMaxScaler()\n",
    "X_normalized=scaler.fit_transform(values)\n",
    "X_normalized"
   ]
  },
  {
   "cell_type": "code",
   "execution_count": 313,
   "id": "ba708d3c",
   "metadata": {},
   "outputs": [],
   "source": [
    "from sklearn.model_selection import train_test_split"
   ]
  },
  {
   "cell_type": "code",
   "execution_count": 314,
   "id": "a85fe361",
   "metadata": {},
   "outputs": [],
   "source": [
    "# # Divide data into training and validation subsets\n",
    "X_train_full, X_valid_full, y_train, y_valid = train_test_split(X_normalized, y, train_size=0.1, test_size=0.3,\n",
    "                                                                random_state=0, shuffle=False)"
   ]
  },
  {
   "cell_type": "code",
   "execution_count": 315,
   "id": "f28a33ec",
   "metadata": {},
   "outputs": [
    {
     "data": {
      "text/plain": [
       "(40200, 79)"
      ]
     },
     "execution_count": 315,
     "metadata": {},
     "output_type": "execute_result"
    }
   ],
   "source": [
    "X_train_full.shape"
   ]
  },
  {
   "cell_type": "code",
   "execution_count": 316,
   "id": "19a547b6",
   "metadata": {},
   "outputs": [],
   "source": [
    "# from keras.preprocessing.sequence import TimeseriesGenerator"
   ]
  },
  {
   "cell_type": "code",
   "execution_count": 317,
   "id": "e83184d3",
   "metadata": {},
   "outputs": [
    {
     "data": {
      "text/plain": [
       "array([[0.99791145, 0.59835886, 0.39325465, ..., 0.        , 0.5496063 ,\n",
       "        0.44444444],\n",
       "       [0.99791145, 0.59792097, 0.39325465, ..., 0.        , 0.54330709,\n",
       "        0.41666667],\n",
       "       [0.99791145, 0.60547935, 0.39325465, ..., 0.        , 0.53858268,\n",
       "        0.42592593],\n",
       "       ...,\n",
       "       [0.98830409, 0.46973317, 0.28060304, ..., 1.        , 0.56377953,\n",
       "        0.89814815],\n",
       "       [0.98830409, 0.47481651, 0.28060304, ..., 1.        , 0.56377953,\n",
       "        0.90740741],\n",
       "       [0.98830409, 0.47496882, 0.28060304, ..., 1.        , 0.56220472,\n",
       "        0.90740741]])"
      ]
     },
     "execution_count": 317,
     "metadata": {},
     "output_type": "execute_result"
    }
   ],
   "source": [
    "X_train_full"
   ]
  },
  {
   "cell_type": "code",
   "execution_count": 318,
   "id": "05d2d2c4",
   "metadata": {},
   "outputs": [
    {
     "data": {
      "text/plain": [
       "0        0\n",
       "1        0\n",
       "2        0\n",
       "3        0\n",
       "4        0\n",
       "        ..\n",
       "40195    0\n",
       "40196    0\n",
       "40197    0\n",
       "40198    0\n",
       "40199    0\n",
       "Name: attack, Length: 40200, dtype: int64"
      ]
     },
     "execution_count": 318,
     "metadata": {},
     "output_type": "execute_result"
    }
   ],
   "source": [
    "y_train"
   ]
  },
  {
   "cell_type": "code",
   "execution_count": 319,
   "id": "0642c541",
   "metadata": {},
   "outputs": [],
   "source": [
    "#function to convert to time domain dataset\n",
    "def create_dataset(X, time_steps):\n",
    "    Xs = []\n",
    "    for i in range(len(X) - time_steps):\n",
    "        v = X.iloc[i:(i + time_steps)].values\n",
    "        Xs.append(v)\n",
    "    return np.array(Xs)"
   ]
  },
  {
   "cell_type": "code",
   "execution_count": 320,
   "id": "a3400f18",
   "metadata": {},
   "outputs": [],
   "source": [
    "# 79 + 1 column\n",
    "\n",
    "def create_Used_Dataset(X):\n",
    "    label_column = np.ones((len(X),1), dtype = np.object)\n",
    "    # used = 1\n",
    "    label_column[:] = \"used\"\n",
    "    print(X.shape,label_column.shape)\n",
    "    labeled_X = np.c_[X[:,0],label_column]\n",
    "    return labeled_X\n"
   ]
  },
  {
   "cell_type": "code",
   "execution_count": 321,
   "id": "a4304ce0",
   "metadata": {},
   "outputs": [],
   "source": [
    "# X_train = pd.DataFrame(X_train_full)\n",
    "# test_x, v =  create_dataset(X_train, 1)\n",
    "# test_x.shape"
   ]
  },
  {
   "cell_type": "code",
   "execution_count": 322,
   "id": "0d77f89f",
   "metadata": {},
   "outputs": [],
   "source": [
    "# labeled_X = create_Used_Dataset(test_x)"
   ]
  },
  {
   "cell_type": "code",
   "execution_count": 323,
   "id": "30a94338",
   "metadata": {},
   "outputs": [],
   "source": [
    "# labeled_X"
   ]
  },
  {
   "cell_type": "code",
   "execution_count": 324,
   "id": "230e6fc4",
   "metadata": {},
   "outputs": [],
   "source": [
    "# labeled_X.shape"
   ]
  },
  {
   "cell_type": "code",
   "execution_count": 325,
   "id": "80e5d736",
   "metadata": {},
   "outputs": [],
   "source": [
    "# def data_Selection(used_dataset):\n"
   ]
  },
  {
   "cell_type": "markdown",
   "id": "a6ba83a5",
   "metadata": {},
   "source": [
    "used=1 mature=2 preserve=3 Discard=4"
   ]
  },
  {
   "cell_type": "code",
   "execution_count": 326,
   "id": "2858f029",
   "metadata": {},
   "outputs": [],
   "source": [
    "array = np.empty((4019,1))"
   ]
  },
  {
   "cell_type": "code",
   "execution_count": 327,
   "id": "e48d656c",
   "metadata": {},
   "outputs": [],
   "source": [
    "array[:] = 1"
   ]
  },
  {
   "cell_type": "code",
   "execution_count": 328,
   "id": "cc7885c3",
   "metadata": {},
   "outputs": [
    {
     "name": "stdout",
     "output_type": "stream",
     "text": [
      "(40199, 1, 79)\n",
      "(40199, 1, 1)\n",
      "(120601, 1, 79)\n",
      "(120601, 1, 1)\n"
     ]
    }
   ],
   "source": [
    "# reshape to [samples, time_steps, n_features]\n",
    "\n",
    "TIME_STEPS = 1\n",
    "X_train = pd.DataFrame(X_train_full)\n",
    "X_train = create_dataset(X_train, TIME_STEPS)\n",
    "y_train = pd.DataFrame(y_train)\n",
    "y_train = create_dataset(y_train, TIME_STEPS)\n",
    "X_valid = pd.DataFrame(X_valid_full)\n",
    "X_valid = create_dataset(X_valid, TIME_STEPS)\n",
    "y_valid = pd.DataFrame(y_valid)\n",
    "y_valid = create_dataset(y_valid, TIME_STEPS)\n",
    "print(X_train.shape)\n",
    "print(y_train.shape)\n",
    "print(X_valid.shape)\n",
    "print(y_valid.shape)\n"
   ]
  },
  {
   "cell_type": "code",
   "execution_count": 329,
   "id": "0c5f65b8",
   "metadata": {},
   "outputs": [
    {
     "data": {
      "text/plain": [
       "array([[9.97911445e-01, 5.97920970e-01, 3.93254648e-01, 3.76289653e-01,\n",
       "        5.34261679e-01, 1.00000000e+00, 9.93793331e-01, 6.10682349e-01,\n",
       "        1.00000000e+00, 9.99158605e-01, 0.00000000e+00, 3.07261400e-04,\n",
       "        5.43314863e-01, 5.56897530e-01, 1.91043599e-01, 4.21983689e-01,\n",
       "        9.87738841e-01, 9.94387337e-01, 6.37074699e-01, 7.94214850e-01,\n",
       "        1.11392990e-01, 1.07944025e-01, 4.99203244e-01, 4.08612400e-01,\n",
       "        4.11147713e-01, 0.00000000e+00, 3.73303125e-02, 5.42449765e-01,\n",
       "        4.90877338e-02, 0.00000000e+00, 0.00000000e+00, 0.00000000e+00,\n",
       "        0.00000000e+00, 0.00000000e+00, 0.00000000e+00, 0.00000000e+00,\n",
       "        1.70737360e-01, 3.07268450e-02, 3.24864499e-01, 0.00000000e+00,\n",
       "        0.00000000e+00, 7.76937618e-01, 0.00000000e+00, 5.12900293e-01,\n",
       "        0.00000000e+00, 0.00000000e+00, 1.00000000e+00, 0.00000000e+00,\n",
       "        8.70860927e-01, 8.71280029e-01, 0.00000000e+00, 9.15337969e-01,\n",
       "        0.00000000e+00, 0.00000000e+00, 0.00000000e+00, 0.00000000e+00,\n",
       "        9.76154785e-01, 9.85070622e-01, 9.87063348e-01, 9.88932933e-01,\n",
       "        6.41766140e-04, 3.18446602e-02, 5.46875000e-01, 0.00000000e+00,\n",
       "        8.41836405e-01, 0.00000000e+00, 5.62034565e-04, 5.68375540e-01,\n",
       "        9.27363008e-01, 8.25086269e-01, 0.00000000e+00, 8.67672767e-01,\n",
       "        5.08131734e-01, 5.67730239e-01, 5.84855679e-01, 5.64350771e-01,\n",
       "        0.00000000e+00, 5.43307087e-01, 4.16666667e-01]])"
      ]
     },
     "execution_count": 329,
     "metadata": {},
     "output_type": "execute_result"
    }
   ],
   "source": [
    "X_train[1]"
   ]
  },
  {
   "cell_type": "code",
   "execution_count": 330,
   "id": "d7974153",
   "metadata": {},
   "outputs": [],
   "source": [
    "# reshape input to be 3D [samples, timesteps, features]\n",
    "# X_train_full = X_train_full.reshape((X_train_full.shape[0], 1, X_train_full.shape[1]))\n",
    "# X_valid_full = X_valid_full.reshape((X_valid_full.shape[0], 1, X_valid_full.shape[1]))\n",
    "# print(X_train_full.shape, y_train.shape, X_valid_full.shape, y_valid.shape) "
   ]
  },
  {
   "cell_type": "markdown",
   "id": "e0bc45e1",
   "metadata": {},
   "source": [
    "# Construct Model"
   ]
  },
  {
   "cell_type": "code",
   "execution_count": 331,
   "id": "6e068fe7",
   "metadata": {},
   "outputs": [],
   "source": [
    "# class LSTM(nn.Module):\n",
    "#     def __init__(self,input_size, output_size, hidden_size, num_layers):\n",
    "#         super(LSTM,self).__init__()\n",
    "#         self.input_size = input_size\n",
    "#         self.output_size = output_size\n",
    "#         self.num_layers = num_layers\n",
    "#         self.hidden_size = hidden_size\n",
    "        \n",
    "        \n",
    "\n",
    "       \n",
    "#         self.lstm1 = nn.LSTM(input_size=input_size, \n",
    "#                             hidden_size=hidden_size,\n",
    "#                             num_layers=num_layers, \n",
    "#                             batch_first=False,dropout = 0)\n",
    "#         self.lstm2 = nn.LSTM(input_size=hidden_size, \n",
    "#                             hidden_size=32,\n",
    "#                             num_layers=num_layers, \n",
    "#                             batch_first=False,dropout = 0)\n",
    "#         self.dropout1 = nn.Dropout(p=0.3)\n",
    "#         self.dropout2 = nn.Dropout(p=0.3)\n",
    "#         self.fc = nn.Linear(32,output_size)\n",
    "      \n",
    "#         self.sigmoid = nn.Sigmoid()\n",
    "     \n",
    "#     def forward(self, x):   \n",
    "#         per_out=[]\n",
    "#         lstm_out, self.hidden_cell = self.lstm1(x)\n",
    "#         per_out.append(lstm_out)\n",
    "#         lstm_out = self.dropout1(lstm_out)\n",
    "#         lstm_out, self.hidden_cell = self.lstm2(lstm_out)\n",
    "#         per_out.append(lstm_out)\n",
    "#         lstm_out = self.dropout2(lstm_out)\n",
    "#         out = self.fc(lstm_out)\n",
    "#         per_out.append(out)\n",
    "#         score = self.sigmoid(out)\n",
    "#         return score, per_out"
   ]
  },
  {
   "cell_type": "code",
   "execution_count": 332,
   "id": "aad65efc",
   "metadata": {},
   "outputs": [],
   "source": [
    "class LSTM(nn.Module):\n",
    "    def __init__(self,input_size, output_size, hidden_size, num_layers):\n",
    "        super(LSTM,self).__init__()\n",
    "        self.input_size = input_size\n",
    "        self.output_size = output_size\n",
    "        self.num_layers = num_layers\n",
    "        self.hidden_size = hidden_size\n",
    "        #layer 1\n",
    "        self.lstm = nn.LSTM(self.input_size, \n",
    "                            self.hidden_size,\n",
    "                            self.num_layers,\n",
    "                            batch_first=False,dropout = 0)\n",
    "\n",
    "        self.dropout = nn.Dropout(p=0.3)\n",
    "        #layer 2\n",
    "        self.fc = nn.Linear(hidden_size,output_size)\n",
    "      \n",
    "        self.sigmoid = nn.Sigmoid()\n",
    "     \n",
    "    def forward(self, x):     \n",
    "        per_out=[]\n",
    "        lstm_out, self.hidden_cell = self.lstm(x)\n",
    "        per_out.append(lstm_out)\n",
    "        lstm_out = self.dropout(lstm_out)    \n",
    "        out = self.fc(lstm_out)\n",
    "        per_out.append(out)\n",
    "        score = self.sigmoid(out)\n",
    "        return score, per_out"
   ]
  },
  {
   "cell_type": "code",
   "execution_count": 333,
   "id": "232e46ba",
   "metadata": {},
   "outputs": [],
   "source": [
    "def evaluate_accuracy(x,y,model):\n",
    "    output,pre_out = model(x)\n",
    "    output = torch.reshape(output,[-1,1])\n",
    "    correct = (output.ge(0.5) == y).sum().item()\n",
    "    n = y.shape[0]\n",
    "    return correct/n"
   ]
  },
  {
   "cell_type": "code",
   "execution_count": 334,
   "id": "66730d2b",
   "metadata": {},
   "outputs": [],
   "source": [
    "input_size = 79\n",
    "output_size = 1\n",
    "hidden_size = 20\n",
    "num_layers =2\n",
    "\n",
    "device = torch.device('cuda')\n",
    "lstm_model = LSTM(input_size,output_size, hidden_size, num_layers).to(device)\n",
    "loss_function = nn.BCELoss().to(device)\n",
    "optimizer = torch.optim.Adam(lstm_model.parameters(),lr=0.001)\n",
    "# optimizer = torch.optim.SGD(model.parameters(),lr=0.01)"
   ]
  },
  {
   "cell_type": "code",
   "execution_count": 335,
   "id": "75cdcdbd",
   "metadata": {},
   "outputs": [],
   "source": [
    "# x = X_train_full[:2,:,:]\n",
    "# x.shape"
   ]
  },
  {
   "cell_type": "code",
   "execution_count": 336,
   "id": "243e654d",
   "metadata": {},
   "outputs": [],
   "source": [
    "# y = y_train\n",
    "# y = np.array(y)\n",
    "# y = y.reshape(-1,1)\n",
    "# y"
   ]
  },
  {
   "cell_type": "code",
   "execution_count": 337,
   "id": "f8ef1d7c",
   "metadata": {},
   "outputs": [],
   "source": [
    "# X_train_full = torch.tensor(X_train_full)\n",
    "# X_train_full = torch.where(torch.isnan(X_train_full), torch.full_like(X_train_full, 0), X_train_full)\n",
    "# torch.isnan(X_train_full[10,:,:])"
   ]
  },
  {
   "cell_type": "code",
   "execution_count": 338,
   "id": "56f6bb9b",
   "metadata": {},
   "outputs": [],
   "source": [
    "# x = X_train_full[:60,:,:]\n",
    "# x = x.astype(np.float32)\n",
    "# x = torch.from_numpy(x)\n",
    "# x = torch.where(torch.isnan(x), torch.full_like(x, 0), x)\n",
    "# output, pre_out = model(x)\n",
    "# # pre_out\n",
    "\n",
    "# y = y_train[:60]\n",
    "# y = np.array(y)\n",
    "# y = torch.tensor(np.reshape(y,[-1,1]))\n",
    "\n",
    "# loss = loss_function(output,y)\n",
    "# optimizer.zero_grad()\n",
    "# loss.backward()\n",
    "# optimizer.step()"
   ]
  },
  {
   "cell_type": "code",
   "execution_count": 339,
   "id": "8a04d408",
   "metadata": {
    "scrolled": true
   },
   "outputs": [],
   "source": [
    "# x = torch.tensor( X_train_full[:60,:,:]).float()\n",
    "# # x = x.astype(np.float32)\n",
    "# # x = torch.from_numpy(x)\n",
    "# x = torch.where(torch.isnan(x), torch.full_like(x, 0), x)\n",
    "\n",
    "# y = y_train[:60]\n",
    "# y = np.array(y)\n",
    "# y = torch.tensor(np.reshape(y,[-1,1]))\n",
    "# # y = torch.from_numpy(y)\n",
    "# y = y.float()\n",
    "# # print(y)\n",
    "# # print(y.shape)\n",
    "# output,pre_out = model(x)\n",
    "# # print(output)\n",
    "\n",
    "\n",
    "# output = torch.reshape(output,[-1,1])\n",
    "# # print(output.shape)\n",
    "# # output = output.float()\n",
    "# # print(output.dtype)\n",
    "\n",
    "# loss = loss_function(output,y)\n",
    "# optimizer.zero_grad()\n",
    "# loss.backward()\n",
    "# optimizer.step()"
   ]
  },
  {
   "cell_type": "code",
   "execution_count": 340,
   "id": "f858fda4",
   "metadata": {},
   "outputs": [],
   "source": [
    "# loss"
   ]
  },
  {
   "cell_type": "code",
   "execution_count": 341,
   "id": "817d6ec3",
   "metadata": {},
   "outputs": [],
   "source": [
    "# import math\n",
    "# math.ceil(len(X_train_full)/60)"
   ]
  },
  {
   "cell_type": "code",
   "execution_count": 342,
   "id": "a7c4c349",
   "metadata": {},
   "outputs": [
    {
     "name": "stdout",
     "output_type": "stream",
     "text": [
      "torch.Size([40199, 1, 79])\n",
      "torch.Size([40199, 1, 1])\n"
     ]
    }
   ],
   "source": [
    "import torch.utils.data as Data\n",
    "# 将输入和输出封装进Data.TensorDataset()类对象\n",
    "x = torch.tensor(X_train[:,:,:]).float()\n",
    "x = torch.where(torch.isnan(x), torch.full_like(x, 0), x)\n",
    "    \n",
    "y = y_train[:]\n",
    "y = np.array(y)\n",
    "# y = torch.tensor(np.reshape(y,[-1,1]))\n",
    "y = torch.tensor(y)\n",
    "y = y.float()\n",
    "print(x.shape)\n",
    "print(y.shape)\n",
    "\n",
    "torch_dataset = Data.TensorDataset(x,y)"
   ]
  },
  {
   "cell_type": "code",
   "execution_count": 343,
   "id": "5d08a259",
   "metadata": {},
   "outputs": [],
   "source": [
    "BATCH_SIZE = 60\n",
    "train_dataloader = torch.utils.data.DataLoader(torch_dataset, batch_size=BATCH_SIZE, shuffle=False, num_workers=3)"
   ]
  },
  {
   "cell_type": "code",
   "execution_count": 344,
   "id": "cc768e1f",
   "metadata": {},
   "outputs": [],
   "source": [
    "# train_dataloader = torch.utils.data.DataLoader(train_datasets, batch_size=batch_size, shuffle=True, num_workers=2)"
   ]
  },
  {
   "cell_type": "markdown",
   "id": "4e70814b",
   "metadata": {},
   "source": [
    "# Training and Evaluation"
   ]
  },
  {
   "cell_type": "code",
   "execution_count": 345,
   "id": "e02833b1",
   "metadata": {},
   "outputs": [
    {
     "data": {
      "text/plain": [
       "60"
      ]
     },
     "execution_count": 345,
     "metadata": {},
     "output_type": "execute_result"
    }
   ],
   "source": [
    "train_dataloader.batch_size"
   ]
  },
  {
   "cell_type": "code",
   "execution_count": 346,
   "id": "d48d3f79",
   "metadata": {},
   "outputs": [
    {
     "data": {
      "text/plain": [
       "670"
      ]
     },
     "execution_count": 346,
     "metadata": {},
     "output_type": "execute_result"
    }
   ],
   "source": [
    "len(train_dataloader)"
   ]
  },
  {
   "cell_type": "code",
   "execution_count": 347,
   "id": "42d9e2d1",
   "metadata": {
    "scrolled": true
   },
   "outputs": [],
   "source": [
    "# import time\n",
    "\n",
    "# time_start=time.time()\n",
    "\n",
    "# epochs = 1\n",
    "# for epoch in range(epochs):\n",
    "#     model.train()\n",
    "#     for batch, (batch_x, batch_y) in enumerate(train_dataloader):   \n",
    "#         batch_x = batch_x.cuda()   \n",
    "#         output,pre_out = model(batch_x)\n",
    "#         output = torch.reshape(output,[-1,1])\n",
    "\n",
    "#         batch_y = np.array(batch_y)\n",
    "#         batch_y = torch.tensor(np.reshape(batch_y,[-1,1]))\n",
    "#         batch_y = batch_y.float()\n",
    "#         batch_y = batch_y.cuda()\n",
    "\n",
    "#         loss = loss_function(output,batch_y)\n",
    "#         acc = evaluate_accuracy(batch_x,batch_y,model)\n",
    "#         optimizer.zero_grad()\n",
    "#         loss.backward()\n",
    "#         optimizer.step()\n",
    "    \n",
    "#         if epoch % 5 == 0:\n",
    "#             print(\"epoch:{} batch:{} loss:{} acc:{}\".format(epoch,batch,loss.item(),acc))\n",
    "\n",
    "# time_end=time.time()\n",
    "# print('totally cost',time_end-time_start)"
   ]
  },
  {
   "cell_type": "markdown",
   "id": "dd9210db",
   "metadata": {},
   "source": [
    " 78377   278.5211410522461\n",
    " 8936    33.402079820632935\n",
    " "
   ]
  },
  {
   "cell_type": "code",
   "execution_count": 348,
   "id": "89e6c847",
   "metadata": {},
   "outputs": [],
   "source": [
    "# model.eval()\n",
    "# x = torch.tensor( X_train[:,:,:]).float()\n",
    "# x = torch.where(torch.isnan(x), torch.full_like(x, 0), x)\n",
    "    \n",
    "# y = y_train[:]\n",
    "# y = np.array(y)\n",
    "# y = torch.tensor(np.reshape(y,[-1,1]))\n",
    "# y = y.float()\n",
    "    \n",
    "# x = x.cuda()\n",
    "# y = y.cuda()\n",
    "\n",
    "# x_valid = torch.tensor(X_valid[:,:,:]).float()\n",
    "# x_valid = torch.where(torch.isnan(x_valid), torch.full_like(x_valid, 0), x_valid)\n",
    "    \n",
    "# y_val = y_valid[:]\n",
    "# y_val = np.array(y_val)\n",
    "# y_val = torch.tensor(np.reshape(y_val,[-1,1]))\n",
    "# y_val = y_val.float()\n",
    "\n",
    "# x_valid = x_valid.cuda()\n",
    "# y_val = y_val.cuda()\n",
    "\n",
    "# print(\"epoch:{} loss:{}\".format(epoch,loss.item()))\n",
    "# print(\"train acc\", evaluate_accuracy(x,y,model))\n",
    "# print(\"valid acc:\",evaluate_accuracy(x_valid,y_val,model))"
   ]
  },
  {
   "cell_type": "code",
   "execution_count": 349,
   "id": "31d1d404",
   "metadata": {},
   "outputs": [
    {
     "data": {
      "text/plain": [
       "40199"
      ]
     },
     "execution_count": 349,
     "metadata": {},
     "output_type": "execute_result"
    }
   ],
   "source": [
    "len(X_train)"
   ]
  },
  {
   "cell_type": "code",
   "execution_count": 350,
   "id": "5432aea5",
   "metadata": {},
   "outputs": [],
   "source": [
    "torch.cuda.empty_cache()"
   ]
  },
  {
   "cell_type": "code",
   "execution_count": 351,
   "id": "ab107b11",
   "metadata": {},
   "outputs": [
    {
     "name": "stdout",
     "output_type": "stream",
     "text": [
      "40199\n",
      "epoch:0 loss:0.7589067220687866\n",
      "epoch:5 loss:0.6856675148010254\n",
      "epoch:10 loss:0.6278566122055054\n",
      "epoch:15 loss:0.5704343318939209\n",
      "epoch:20 loss:0.5069804787635803\n",
      "epoch:25 loss:0.4422852396965027\n",
      "epoch:30 loss:0.3816474378108978\n",
      "epoch:35 loss:0.32666584849357605\n",
      "epoch:40 loss:0.276676744222641\n",
      "epoch:45 loss:0.23304949700832367\n",
      "epoch:50 loss:0.19709211587905884\n",
      "epoch:55 loss:0.16881941258907318\n",
      "epoch:60 loss:0.14670920372009277\n",
      "epoch:65 loss:0.13087229430675507\n",
      "epoch:70 loss:0.11955171823501587\n",
      "epoch:75 loss:0.11193446069955826\n",
      "epoch:80 loss:0.10561411827802658\n",
      "epoch:85 loss:0.10114528983831406\n",
      "epoch:90 loss:0.09792967885732651\n",
      "epoch:95 loss:0.09514414519071579\n",
      "epoch:100 loss:0.09242724627256393\n",
      "epoch:105 loss:0.09065646678209305\n",
      "epoch:110 loss:0.08957485109567642\n",
      "epoch:115 loss:0.08780660480260849\n",
      "epoch:120 loss:0.08734934031963348\n",
      "epoch:125 loss:0.0869925320148468\n",
      "epoch:130 loss:0.08634120225906372\n",
      "epoch:135 loss:0.08590758591890335\n",
      "epoch:140 loss:0.08552751690149307\n",
      "epoch:145 loss:0.08568118512630463\n",
      "epoch:150 loss:0.08520813286304474\n",
      "epoch:155 loss:0.08507926762104034\n",
      "epoch:160 loss:0.08454873412847519\n",
      "epoch:165 loss:0.08516790717840195\n",
      "epoch:170 loss:0.08499741554260254\n",
      "epoch:175 loss:0.08497830480337143\n",
      "epoch:180 loss:0.08446937054395676\n",
      "epoch:185 loss:0.08494653552770615\n",
      "epoch:190 loss:0.08373280614614487\n",
      "epoch:195 loss:0.08483738452196121\n",
      "totally cost 675.5128796100616\n"
     ]
    }
   ],
   "source": [
    "import time\n",
    "print(len(X_train))\n",
    "time_start=time.time()\n",
    "epochs = 200\n",
    "\n",
    "for epoch in range(epochs):\n",
    "    lstm_model.train()\n",
    "    x = torch.tensor( X_train[:,:,:]).float()\n",
    "    x = torch.where(torch.isnan(x), torch.full_like(x, 0), x)\n",
    "    \n",
    "    y = y_train[:]\n",
    "    y = np.array(y)\n",
    "    y = torch.tensor(np.reshape(y,[-1,1]))\n",
    "    y = y.float()\n",
    "    \n",
    "    x = x.cuda()\n",
    "    y = y.cuda()\n",
    "    \n",
    "    output,pre_out = lstm_model(x)\n",
    "    output = torch.reshape(output,[-1,1])\n",
    "    loss = loss_function(output,y)\n",
    "    optimizer.zero_grad()\n",
    "    loss.backward()\n",
    "    optimizer.step()\n",
    "    \n",
    "    if epoch % 5 == 0:\n",
    "        print(\"epoch:{} loss:{}\".format(epoch,loss.item()))\n",
    "        \n",
    "time_end=time.time()\n",
    "print('totally cost',time_end-time_start)     \n",
    "        "
   ]
  },
  {
   "cell_type": "markdown",
   "id": "072807c2",
   "metadata": {},
   "source": [
    "4019 42.43043494224548 40199  281.12068939208984 120600 820.6956114768982  201001 1340  361803 2563.249900817871"
   ]
  },
  {
   "cell_type": "code",
   "execution_count": 352,
   "id": "13c1b562",
   "metadata": {},
   "outputs": [
    {
     "name": "stdout",
     "output_type": "stream",
     "text": [
      "epoch:199 loss:0.08416517823934555\n",
      "train acc 0.9843528445981243\n",
      "valid acc: 0.9714015638344624\n"
     ]
    }
   ],
   "source": [
    "lstm_model.eval()\n",
    "x = torch.tensor( X_train[:,:,:]).float()\n",
    "x = torch.where(torch.isnan(x), torch.full_like(x, 0), x)\n",
    "    \n",
    "y = y_train[:]\n",
    "y = np.array(y)\n",
    "y = torch.tensor(np.reshape(y,[-1,1]))\n",
    "y = y.float()\n",
    "    \n",
    "x = x.cuda()\n",
    "y = y.cuda()\n",
    "\n",
    "x_valid = torch.tensor(X_valid[:,:,:]).float()\n",
    "x_valid = torch.where(torch.isnan(x_valid), torch.full_like(x_valid, 0), x_valid)\n",
    "    \n",
    "y_val = y_valid[:]\n",
    "y_val = np.array(y_val)\n",
    "y_val = torch.tensor(np.reshape(y_val,[-1,1]))\n",
    "y_val = y_val.float()\n",
    "\n",
    "x_valid = x_valid.cuda()\n",
    "y_val = y_val.cuda()\n",
    "\n",
    "print(\"epoch:{} loss:{}\".format(epoch,loss.item()))\n",
    "print(\"train acc\", evaluate_accuracy(x,y,lstm_model))\n",
    "print(\"valid acc:\",evaluate_accuracy(x_valid,y_val,lstm_model))"
   ]
  },
  {
   "cell_type": "markdown",
   "id": "d480f363",
   "metadata": {},
   "source": [
    "9031    64.93641090393066\n",
    "23512   162.0211820602417\n",
    "39187   271.4542453289032\n",
    "70538   484.0234043598175\n"
   ]
  },
  {
   "cell_type": "code",
   "execution_count": 353,
   "id": "b2d25f64",
   "metadata": {
    "scrolled": false
   },
   "outputs": [
    {
     "data": {
      "image/png": "[encoded data removed]",
      "text/plain": [
       "<Figure size 432x288 with 1 Axes>"
      ]
     },
     "metadata": {
      "needs_background": "light"
     },
     "output_type": "display_data"
    }
   ],
   "source": [
    "import numpy as np\n",
    "from sklearn.linear_model import LinearRegression\n",
    "import matplotlib.pyplot as plt\n",
    "#4019 42.43043494224548 40199  40199  281.12068939208984 120600 820.6956114768982  201001 1340  361803 2563.249900817871\n",
    "x = [[4019],[120600],[201001] ]\n",
    "y = [[42],[820.6956114768982],[1340]]\n",
    "reg = LinearRegression().fit(x,y)\n",
    "x_pre = np.linspace(0,370000,5)\n",
    "x_pre = x_pre.reshape(-1,1)\n",
    "y_pre = reg.predict(x_pre)\n",
    "plt.plot(x, y,'o')\n",
    "plt.plot(x_pre, y_pre)\n",
    "plt.show()"
   ]
  },
  {
   "cell_type": "code",
   "execution_count": 354,
   "id": "a6a57484",
   "metadata": {},
   "outputs": [
    {
     "data": {
      "text/plain": [
       "array([[2404.72537245]])"
      ]
     },
     "execution_count": 354,
     "metadata": {},
     "output_type": "execute_result"
    }
   ],
   "source": [
    "reg.predict([[361803]])"
   ]
  },
  {
   "cell_type": "code",
   "execution_count": 355,
   "id": "1f83745a",
   "metadata": {
    "scrolled": true
   },
   "outputs": [
    {
     "name": "stdout",
     "output_type": "stream",
     "text": [
      "[[0.00659588]] [18.31456436]\n"
     ]
    }
   ],
   "source": [
    "a = reg.coef_\n",
    "b = reg.intercept_\n",
    "print(a,b)"
   ]
  },
  {
   "cell_type": "code",
   "execution_count": 356,
   "id": "3bd98724",
   "metadata": {},
   "outputs": [
    {
     "name": "stdout",
     "output_type": "stream",
     "text": [
      "epoch:199 loss:0.08416517823934555\n",
      "train acc 0.9843528445981243\n",
      "valid acc: 0.9714015638344624\n"
     ]
    }
   ],
   "source": [
    "model.eval()\n",
    "x = torch.tensor( X_train[:,:,:]).float()\n",
    "x = torch.where(torch.isnan(x), torch.full_like(x, 0), x)\n",
    "    \n",
    "y = y_train[:]\n",
    "y = np.array(y)\n",
    "y = torch.tensor(np.reshape(y,[-1,1]))\n",
    "y = y.float()\n",
    "    \n",
    "x = x.cuda()\n",
    "y = y.cuda()\n",
    "\n",
    "x_valid = torch.tensor(X_valid[:,:,:]).float()\n",
    "x_valid = torch.where(torch.isnan(x_valid), torch.full_like(x_valid, 0), x_valid)\n",
    "    \n",
    "y_val = y_valid[:]\n",
    "y_val = np.array(y_val)\n",
    "y_val = torch.tensor(np.reshape(y_val,[-1,1]))\n",
    "y_val = y_val.float()\n",
    "\n",
    "x_valid = x_valid.cuda()\n",
    "y_val = y_val.cuda()\n",
    "\n",
    "train_acc = evaluate_accuracy(x_valid,y_val,model)\n",
    "print(\"epoch:{} loss:{}\".format(epoch,loss.item()))\n",
    "print(\"train acc\", evaluate_accuracy(x,y,model))\n",
    "print(\"valid acc:\",train_acc)"
   ]
  },
  {
   "cell_type": "code",
   "execution_count": 357,
   "id": "fa230ca7",
   "metadata": {},
   "outputs": [
    {
     "name": "stdout",
     "output_type": "stream",
     "text": [
      "tensor([[False],\n",
      "        [False],\n",
      "        [False],\n",
      "        ...,\n",
      "        [False],\n",
      "        [False],\n",
      "        [False]], device='cuda:0')\n"
     ]
    },
    {
     "ename": "TypeError",
     "evalue": "can't convert cuda:0 device type tensor to numpy. Use Tensor.cpu() to copy the tensor to host memory first.",
     "output_type": "error",
     "traceback": [
      "\u001b[1;31m---------------------------------------------------------------------------\u001b[0m",
      "\u001b[1;31mTypeError\u001b[0m                                 Traceback (most recent call last)",
      "\u001b[1;32m<ipython-input-357-55d55d04231a>\u001b[0m in \u001b[0;36m<module>\u001b[1;34m\u001b[0m\n\u001b[0;32m      4\u001b[0m \u001b[0moutput\u001b[0m \u001b[1;33m=\u001b[0m \u001b[0moutput\u001b[0m\u001b[1;33m.\u001b[0m\u001b[0mge\u001b[0m\u001b[1;33m(\u001b[0m\u001b[1;36m0.5\u001b[0m\u001b[1;33m)\u001b[0m\u001b[1;33m\u001b[0m\u001b[1;33m\u001b[0m\u001b[0m\n\u001b[0;32m      5\u001b[0m \u001b[0mprint\u001b[0m\u001b[1;33m(\u001b[0m\u001b[0moutput\u001b[0m\u001b[1;33m)\u001b[0m\u001b[1;33m\u001b[0m\u001b[1;33m\u001b[0m\u001b[0m\n\u001b[1;32m----> 6\u001b[1;33m \u001b[0mcr\u001b[0m \u001b[1;33m=\u001b[0m \u001b[0msm\u001b[0m\u001b[1;33m.\u001b[0m\u001b[0mclassification_report\u001b[0m\u001b[1;33m(\u001b[0m\u001b[0my_valid\u001b[0m\u001b[1;33m,\u001b[0m \u001b[0moutput\u001b[0m\u001b[1;33m)\u001b[0m\u001b[1;33m\u001b[0m\u001b[1;33m\u001b[0m\u001b[0m\n\u001b[0m\u001b[0;32m      7\u001b[0m \u001b[0mcr\u001b[0m\u001b[1;33m\u001b[0m\u001b[1;33m\u001b[0m\u001b[0m\n",
      "\u001b[1;32mD:\\anaconda3\\lib\\site-packages\\sklearn\\metrics\\_classification.py\u001b[0m in \u001b[0;36mclassification_report\u001b[1;34m(y_true, y_pred, labels, target_names, sample_weight, digits, output_dict, zero_division)\u001b[0m\n\u001b[0;32m   2108\u001b[0m     \"\"\"\n\u001b[0;32m   2109\u001b[0m \u001b[1;33m\u001b[0m\u001b[0m\n\u001b[1;32m-> 2110\u001b[1;33m     \u001b[0my_type\u001b[0m\u001b[1;33m,\u001b[0m \u001b[0my_true\u001b[0m\u001b[1;33m,\u001b[0m \u001b[0my_pred\u001b[0m \u001b[1;33m=\u001b[0m \u001b[0m_check_targets\u001b[0m\u001b[1;33m(\u001b[0m\u001b[0my_true\u001b[0m\u001b[1;33m,\u001b[0m \u001b[0my_pred\u001b[0m\u001b[1;33m)\u001b[0m\u001b[1;33m\u001b[0m\u001b[1;33m\u001b[0m\u001b[0m\n\u001b[0m\u001b[0;32m   2111\u001b[0m \u001b[1;33m\u001b[0m\u001b[0m\n\u001b[0;32m   2112\u001b[0m     \u001b[1;32mif\u001b[0m \u001b[0mlabels\u001b[0m \u001b[1;32mis\u001b[0m \u001b[1;32mNone\u001b[0m\u001b[1;33m:\u001b[0m\u001b[1;33m\u001b[0m\u001b[1;33m\u001b[0m\u001b[0m\n",
      "\u001b[1;32mD:\\anaconda3\\lib\\site-packages\\sklearn\\metrics\\_classification.py\u001b[0m in \u001b[0;36m_check_targets\u001b[1;34m(y_true, y_pred)\u001b[0m\n\u001b[0;32m     84\u001b[0m     \u001b[0mcheck_consistent_length\u001b[0m\u001b[1;33m(\u001b[0m\u001b[0my_true\u001b[0m\u001b[1;33m,\u001b[0m \u001b[0my_pred\u001b[0m\u001b[1;33m)\u001b[0m\u001b[1;33m\u001b[0m\u001b[1;33m\u001b[0m\u001b[0m\n\u001b[0;32m     85\u001b[0m     \u001b[0mtype_true\u001b[0m \u001b[1;33m=\u001b[0m \u001b[0mtype_of_target\u001b[0m\u001b[1;33m(\u001b[0m\u001b[0my_true\u001b[0m\u001b[1;33m)\u001b[0m\u001b[1;33m\u001b[0m\u001b[1;33m\u001b[0m\u001b[0m\n\u001b[1;32m---> 86\u001b[1;33m     \u001b[0mtype_pred\u001b[0m \u001b[1;33m=\u001b[0m \u001b[0mtype_of_target\u001b[0m\u001b[1;33m(\u001b[0m\u001b[0my_pred\u001b[0m\u001b[1;33m)\u001b[0m\u001b[1;33m\u001b[0m\u001b[1;33m\u001b[0m\u001b[0m\n\u001b[0m\u001b[0;32m     87\u001b[0m \u001b[1;33m\u001b[0m\u001b[0m\n\u001b[0;32m     88\u001b[0m     \u001b[0my_type\u001b[0m \u001b[1;33m=\u001b[0m \u001b[1;33m{\u001b[0m\u001b[0mtype_true\u001b[0m\u001b[1;33m,\u001b[0m \u001b[0mtype_pred\u001b[0m\u001b[1;33m}\u001b[0m\u001b[1;33m\u001b[0m\u001b[1;33m\u001b[0m\u001b[0m\n",
      "\u001b[1;32mD:\\anaconda3\\lib\\site-packages\\sklearn\\utils\\multiclass.py\u001b[0m in \u001b[0;36mtype_of_target\u001b[1;34m(y)\u001b[0m\n\u001b[0;32m    276\u001b[0m         \u001b[1;32mraise\u001b[0m \u001b[0mValueError\u001b[0m\u001b[1;33m(\u001b[0m\u001b[1;34m\"y cannot be class 'SparseSeries' or 'SparseArray'\"\u001b[0m\u001b[1;33m)\u001b[0m\u001b[1;33m\u001b[0m\u001b[1;33m\u001b[0m\u001b[0m\n\u001b[0;32m    277\u001b[0m \u001b[1;33m\u001b[0m\u001b[0m\n\u001b[1;32m--> 278\u001b[1;33m     \u001b[1;32mif\u001b[0m \u001b[0mis_multilabel\u001b[0m\u001b[1;33m(\u001b[0m\u001b[0my\u001b[0m\u001b[1;33m)\u001b[0m\u001b[1;33m:\u001b[0m\u001b[1;33m\u001b[0m\u001b[1;33m\u001b[0m\u001b[0m\n\u001b[0m\u001b[0;32m    279\u001b[0m         \u001b[1;32mreturn\u001b[0m \u001b[1;34m\"multilabel-indicator\"\u001b[0m\u001b[1;33m\u001b[0m\u001b[1;33m\u001b[0m\u001b[0m\n\u001b[0;32m    280\u001b[0m \u001b[1;33m\u001b[0m\u001b[0m\n",
      "\u001b[1;32mD:\\anaconda3\\lib\\site-packages\\sklearn\\utils\\multiclass.py\u001b[0m in \u001b[0;36mis_multilabel\u001b[1;34m(y)\u001b[0m\n\u001b[0;32m    148\u001b[0m             \u001b[0mwarnings\u001b[0m\u001b[1;33m.\u001b[0m\u001b[0msimplefilter\u001b[0m\u001b[1;33m(\u001b[0m\u001b[1;34m\"error\"\u001b[0m\u001b[1;33m,\u001b[0m \u001b[0mnp\u001b[0m\u001b[1;33m.\u001b[0m\u001b[0mVisibleDeprecationWarning\u001b[0m\u001b[1;33m)\u001b[0m\u001b[1;33m\u001b[0m\u001b[1;33m\u001b[0m\u001b[0m\n\u001b[0;32m    149\u001b[0m             \u001b[1;32mtry\u001b[0m\u001b[1;33m:\u001b[0m\u001b[1;33m\u001b[0m\u001b[1;33m\u001b[0m\u001b[0m\n\u001b[1;32m--> 150\u001b[1;33m                 \u001b[0my\u001b[0m \u001b[1;33m=\u001b[0m \u001b[0mnp\u001b[0m\u001b[1;33m.\u001b[0m\u001b[0masarray\u001b[0m\u001b[1;33m(\u001b[0m\u001b[0my\u001b[0m\u001b[1;33m)\u001b[0m\u001b[1;33m\u001b[0m\u001b[1;33m\u001b[0m\u001b[0m\n\u001b[0m\u001b[0;32m    151\u001b[0m             \u001b[1;32mexcept\u001b[0m \u001b[0mnp\u001b[0m\u001b[1;33m.\u001b[0m\u001b[0mVisibleDeprecationWarning\u001b[0m\u001b[1;33m:\u001b[0m\u001b[1;33m\u001b[0m\u001b[1;33m\u001b[0m\u001b[0m\n\u001b[0;32m    152\u001b[0m                 \u001b[1;31m# dtype=object should be provided explicitly for ragged arrays,\u001b[0m\u001b[1;33m\u001b[0m\u001b[1;33m\u001b[0m\u001b[1;33m\u001b[0m\u001b[0m\n",
      "\u001b[1;32mD:\\anaconda3\\lib\\site-packages\\torch\\_tensor.py\u001b[0m in \u001b[0;36m__array__\u001b[1;34m(self, dtype)\u001b[0m\n\u001b[0;32m    641\u001b[0m             \u001b[1;32mreturn\u001b[0m \u001b[0mhandle_torch_function\u001b[0m\u001b[1;33m(\u001b[0m\u001b[0mTensor\u001b[0m\u001b[1;33m.\u001b[0m\u001b[0m__array__\u001b[0m\u001b[1;33m,\u001b[0m \u001b[1;33m(\u001b[0m\u001b[0mself\u001b[0m\u001b[1;33m,\u001b[0m\u001b[1;33m)\u001b[0m\u001b[1;33m,\u001b[0m \u001b[0mself\u001b[0m\u001b[1;33m,\u001b[0m \u001b[0mdtype\u001b[0m\u001b[1;33m=\u001b[0m\u001b[0mdtype\u001b[0m\u001b[1;33m)\u001b[0m\u001b[1;33m\u001b[0m\u001b[1;33m\u001b[0m\u001b[0m\n\u001b[0;32m    642\u001b[0m         \u001b[1;32mif\u001b[0m \u001b[0mdtype\u001b[0m \u001b[1;32mis\u001b[0m \u001b[1;32mNone\u001b[0m\u001b[1;33m:\u001b[0m\u001b[1;33m\u001b[0m\u001b[1;33m\u001b[0m\u001b[0m\n\u001b[1;32m--> 643\u001b[1;33m             \u001b[1;32mreturn\u001b[0m \u001b[0mself\u001b[0m\u001b[1;33m.\u001b[0m\u001b[0mnumpy\u001b[0m\u001b[1;33m(\u001b[0m\u001b[1;33m)\u001b[0m\u001b[1;33m\u001b[0m\u001b[1;33m\u001b[0m\u001b[0m\n\u001b[0m\u001b[0;32m    644\u001b[0m         \u001b[1;32melse\u001b[0m\u001b[1;33m:\u001b[0m\u001b[1;33m\u001b[0m\u001b[1;33m\u001b[0m\u001b[0m\n\u001b[0;32m    645\u001b[0m             \u001b[1;32mreturn\u001b[0m \u001b[0mself\u001b[0m\u001b[1;33m.\u001b[0m\u001b[0mnumpy\u001b[0m\u001b[1;33m(\u001b[0m\u001b[1;33m)\u001b[0m\u001b[1;33m.\u001b[0m\u001b[0mastype\u001b[0m\u001b[1;33m(\u001b[0m\u001b[0mdtype\u001b[0m\u001b[1;33m,\u001b[0m \u001b[0mcopy\u001b[0m\u001b[1;33m=\u001b[0m\u001b[1;32mFalse\u001b[0m\u001b[1;33m)\u001b[0m\u001b[1;33m\u001b[0m\u001b[1;33m\u001b[0m\u001b[0m\n",
      "\u001b[1;31mTypeError\u001b[0m: can't convert cuda:0 device type tensor to numpy. Use Tensor.cpu() to copy the tensor to host memory first."
     ]
    }
   ],
   "source": [
    "import sklearn.metrics as sm\n",
    "output,pre_out = model(x_valid)\n",
    "output = torch.reshape(output,[-1,1])\n",
    "output = output.ge(0.5)\n",
    "print(output)\n",
    "cr = sm.classification_report(y_valid, output)\n",
    "cr"
   ]
  },
  {
   "cell_type": "markdown",
   "id": "a020cbf3",
   "metadata": {},
   "source": [
    "# update"
   ]
  },
  {
   "cell_type": "code",
   "execution_count": null,
   "id": "7da2a5f9",
   "metadata": {},
   "outputs": [],
   "source": []
  }
 ],
 "metadata": {
  "kernelspec": {
   "display_name": "Python 3",
   "language": "python",
   "name": "python3"
  },
  "language_info": {
   "codemirror_mode": {
    "name": "ipython",
    "version": 3
   },
   "file_extension": ".py",
   "mimetype": "text/x-python",
   "name": "python",
   "nbconvert_exporter": "python",
   "pygments_lexer": "ipython3",
   "version": "3.8.3"
  }
 },
 "nbformat": 4,
 "nbformat_minor": 5
}
