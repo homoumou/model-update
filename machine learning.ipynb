{
 "cells": [
  {
   "cell_type": "code",
   "execution_count": 16,
   "id": "0f21b283",
   "metadata": {},
   "outputs": [],
   "source": [
    "import pandas as pd\n",
    "import numpy as np \n",
    "import sklearn.svm as svm"
   ]
  },
  {
   "cell_type": "code",
   "execution_count": 17,
   "id": "c7712efa",
   "metadata": {},
   "outputs": [
    {
     "name": "stdout",
     "output_type": "stream",
     "text": [
      "['../Dataset\\\\data1.csv', '../Dataset\\\\data10.csv', '../Dataset\\\\data11.csv', '../Dataset\\\\data12.csv', '../Dataset\\\\data13.csv', '../Dataset\\\\data14.csv', '../Dataset\\\\data15.csv', '../Dataset\\\\data2.csv', '../Dataset\\\\data3.csv', '../Dataset\\\\data4.csv', '../Dataset\\\\data5.csv', '../Dataset\\\\data6.csv', '../Dataset\\\\data7.csv', '../Dataset\\\\data8.csv', '../Dataset\\\\data9.csv']\n"
     ]
    }
   ],
   "source": [
    "# Read the data\n",
    "import glob,os\n",
    "path=r'../Dataset/'\n",
    "file=glob.glob(os.path.join(path, \"data*.csv\"))\n",
    "print(file)\n",
    "dl= []\n",
    "for f in file:\n",
    "   dl.append(pd.read_csv(f,header=[0],index_col=None))\n",
    "df=pd.concat(dl)"
   ]
  },
  {
   "cell_type": "code",
   "execution_count": 18,
   "id": "59682086",
   "metadata": {},
   "outputs": [],
   "source": [
    "# nan_rows = df[df.isnull().T.any().T]\n",
    "# nan_rows = df[np.isfinite(df).T.any().T]\n",
    "# nan_rows"
   ]
  },
  {
   "cell_type": "code",
   "execution_count": 19,
   "id": "c2722c5d",
   "metadata": {},
   "outputs": [
    {
     "data": {
      "text/plain": [
       "1    55663\n",
       "0    22714\n",
       "Name: marker, dtype: int64"
      ]
     },
     "execution_count": 19,
     "metadata": {},
     "output_type": "execute_result"
    }
   ],
   "source": [
    "# label Encoding\n",
    "df['marker'] = df['marker'].replace(['Natural'],0)\n",
    "df['marker'] = df['marker'].replace(['Attack'],1)\n",
    "df['marker'].value_counts()"
   ]
  },
  {
   "cell_type": "code",
   "execution_count": 20,
   "id": "bc0d2fe0",
   "metadata": {},
   "outputs": [],
   "source": [
    "# Separate target from predictors\n",
    "y = df.marker\n",
    "x = df.drop(['marker'], axis=1)"
   ]
  },
  {
   "cell_type": "code",
   "execution_count": 21,
   "id": "32108c3e",
   "metadata": {},
   "outputs": [],
   "source": [
    "values = x\n",
    "# np.all(np.isfinite(values))\n",
    "values.replace([np.inf, -np.inf], np.nan, inplace=True)"
   ]
  },
  {
   "cell_type": "code",
   "execution_count": 22,
   "id": "3ecb3dd5",
   "metadata": {},
   "outputs": [
    {
     "data": {
      "text/plain": [
       "False"
      ]
     },
     "execution_count": 22,
     "metadata": {},
     "output_type": "execute_result"
    }
   ],
   "source": [
    "np.all(np.isnan(values))"
   ]
  },
  {
   "cell_type": "code",
   "execution_count": 23,
   "id": "3500f4ec",
   "metadata": {},
   "outputs": [
    {
     "data": {
      "text/plain": [
       "array([[ 0.85453088, -0.36168098, -0.46309618, ..., -0.00714409,\n",
       "        -0.00945092, -0.0087498 ],\n",
       "       [ 0.88713303, -0.05655571, -0.43381824, ..., -0.00714409,\n",
       "        -0.00945092, -0.0087498 ],\n",
       "       [ 0.88758741, -0.05362181, -0.43340804, ..., -0.00714409,\n",
       "        -0.00945092, -0.0087498 ],\n",
       "       ...,\n",
       "       [-0.42853971,  0.037329  , -1.62139511, ..., -0.00714409,\n",
       "        -0.00945092, -0.0087498 ],\n",
       "       [-0.4289941 ,  0.04026289, -1.6218053 , ..., -0.00714409,\n",
       "        -0.00945092, -0.0087498 ],\n",
       "       [-0.43024366,  0.04613069, -1.62288208, ..., -0.00714409,\n",
       "        -0.00945092, -0.0087498 ]])"
      ]
     },
     "execution_count": 23,
     "metadata": {},
     "output_type": "execute_result"
    }
   ],
   "source": [
    "#normalization\n",
    "from sklearn.preprocessing import StandardScaler\n",
    "scaler = StandardScaler()\n",
    "X_normalized=scaler.fit_transform(values)\n",
    "X_normalized"
   ]
  },
  {
   "cell_type": "code",
   "execution_count": 62,
   "id": "5bdedd9a",
   "metadata": {},
   "outputs": [],
   "source": [
    "from sklearn.model_selection import train_test_split\n",
    "# Divide data into training and validation subsets\n",
    "X_train_full, X_valid_full, y_train, y_valid = train_test_split(X_normalized, y, train_size=0.2, test_size=0.1,\n",
    "                                                                random_state=0)"
   ]
  },
  {
   "cell_type": "code",
   "execution_count": 63,
   "id": "898fd581",
   "metadata": {},
   "outputs": [],
   "source": [
    "# nan_rows = df[df.isnull().T.any().T]\n",
    "# nan_rows\n",
    "# X_train_full = X_train_full[~pd.isnan(X_train_full)]"
   ]
  },
  {
   "cell_type": "code",
   "execution_count": 64,
   "id": "f86e8247",
   "metadata": {},
   "outputs": [
    {
     "name": "stdout",
     "output_type": "stream",
     "text": [
      "0      False\n",
      "1      False\n",
      "2      False\n",
      "3      False\n",
      "4      False\n",
      "       ...  \n",
      "123    False\n",
      "124    False\n",
      "125    False\n",
      "126    False\n",
      "127    False\n",
      "Length: 128, dtype: bool\n",
      "0      False\n",
      "1      False\n",
      "2      False\n",
      "3      False\n",
      "4      False\n",
      "       ...  \n",
      "123    False\n",
      "124    False\n",
      "125    False\n",
      "126    False\n",
      "127    False\n",
      "Length: 128, dtype: bool\n",
      "0      False\n",
      "1      False\n",
      "2      False\n",
      "3      False\n",
      "4      False\n",
      "       ...  \n",
      "123    False\n",
      "124    False\n",
      "125    False\n",
      "126    False\n",
      "127    False\n",
      "Length: 128, dtype: bool\n"
     ]
    }
   ],
   "source": [
    "X_train = pd.DataFrame(X_train_full)\n",
    "print(X_train.isnull().any())\n",
    "print(np.isnan(X_train).any())\n",
    "print(np.isinf(X_train).all())\n"
   ]
  },
  {
   "cell_type": "code",
   "execution_count": 65,
   "id": "339155f5",
   "metadata": {},
   "outputs": [],
   "source": [
    "# #缺失值处理，以下两种方式均可\n",
    "# #删除包含缺失值的行\n",
    "# train.dropna(inplace=True)\n",
    "# #缺失值填充\n",
    "# train.fillna('100')\n",
    "\n",
    "# #数据处理\n",
    "# train_inf = np.isinf(train)\n",
    "# train[train_inf] = 0"
   ]
  },
  {
   "cell_type": "code",
   "execution_count": 66,
   "id": "11b5d5f6",
   "metadata": {},
   "outputs": [],
   "source": [
    "from sklearn.impute import SimpleImputer\n",
    "my_imputer = SimpleImputer()\n",
    "imputed_X_train = pd.DataFrame(my_imputer.fit_transform(X_train_full))\n",
    "imputed_X_valid = pd.DataFrame(my_imputer.transform(X_valid_full))"
   ]
  },
  {
   "cell_type": "code",
   "execution_count": 67,
   "id": "535f33c7",
   "metadata": {},
   "outputs": [],
   "source": [
    "import sklearn.metrics as sm"
   ]
  },
  {
   "cell_type": "code",
   "execution_count": 68,
   "id": "08a5eaaa",
   "metadata": {},
   "outputs": [
    {
     "name": "stdout",
     "output_type": "stream",
     "text": [
      "15675\n"
     ]
    }
   ],
   "source": [
    "print(len(imputed_X_train))"
   ]
  },
  {
   "cell_type": "code",
   "execution_count": 69,
   "id": "047c5e59",
   "metadata": {},
   "outputs": [
    {
     "name": "stdout",
     "output_type": "stream",
     "text": [
      "totally cost 18.477152585983276\n",
      "              precision    recall  f1-score   support\n",
      "\n",
      "           0       0.32      0.32      0.32      2250\n",
      "           1       0.72      0.72      0.72      5588\n",
      "\n",
      "    accuracy                           0.60      7838\n",
      "   macro avg       0.52      0.52      0.52      7838\n",
      "weighted avg       0.61      0.60      0.61      7838\n",
      "\n"
     ]
    }
   ],
   "source": [
    "import time\n",
    "time_start=time.time()\n",
    "clf=svm.SVC(kernel = 'sigmoid', C = 10)\n",
    "clf.fit(imputed_X_train,y_train)\n",
    "time_end=time.time()\n",
    "print('totally cost',time_end-time_start)\n",
    "pred_test_y = clf.predict(imputed_X_valid)\n",
    "cr = sm.classification_report(y_valid, pred_test_y)\n",
    "print(cr)"
   ]
  },
  {
   "cell_type": "markdown",
   "id": "b9d40642",
   "metadata": {},
   "source": [
    "70539 1200.5537838935852\n",
    "54863 285.8661916255951\n",
    "39188 139.07190251350403\n",
    "15675 18.477152585983276"
   ]
  },
  {
   "cell_type": "code",
   "execution_count": 70,
   "id": "be76fc14",
   "metadata": {},
   "outputs": [
    {
     "data": {
      "image/png": "[encoded data removed]",
      "text/plain": [
       "<Figure size 432x288 with 1 Axes>"
      ]
     },
     "metadata": {
      "needs_background": "light"
     },
     "output_type": "display_data"
    }
   ],
   "source": [
    "import numpy as np\n",
    "from sklearn.linear_model import LinearRegression\n",
    "import matplotlib.pyplot as plt\n",
    "x = [[15675], [39188], [54863], [70538]]\n",
    "y = [[18], [139], [285], [1200]]\n",
    "reg = LinearRegression().fit(x,y)\n",
    "x_pre = np.linspace(0,70000,5)\n",
    "x_pre = x_pre.reshape(-1,1)\n",
    "y_pre = reg.predict(x_pre)\n",
    "plt.plot(x, y,'o')\n",
    "plt.plot(x_pre, y_pre)\n",
    "plt.show()"
   ]
  },
  {
   "cell_type": "code",
   "execution_count": 71,
   "id": "738952e4",
   "metadata": {},
   "outputs": [
    {
     "name": "stdout",
     "output_type": "stream",
     "text": [
      "[[0.01948195]] [-467.47361964]\n"
     ]
    }
   ],
   "source": [
    "a = reg.coef_\n",
    "b = reg.intercept_\n",
    "print(a,b)"
   ]
  },
  {
   "cell_type": "code",
   "execution_count": 30,
   "id": "fbdb523e",
   "metadata": {},
   "outputs": [],
   "source": [
    "pred_test_y = clf.predict(imputed_X_valid)\n",
    "cr = sm.classification_report(y_valid, pred_test_y)"
   ]
  },
  {
   "cell_type": "code",
   "execution_count": 31,
   "id": "7f91c88f",
   "metadata": {},
   "outputs": [],
   "source": [
    "print(cr)"
   ]
  },
  {
   "cell_type": "code",
   "execution_count": 32,
   "id": "33c2ef30",
   "metadata": {},
   "outputs": [],
   "source": [
    "ac = sm.accuracy_score(y_valid, pred_test_y)\n",
    "ac"
   ]
  },
  {
   "cell_type": "code",
   "execution_count": 35,
   "id": "6075779b",
   "metadata": {},
   "outputs": [
    {
     "name": "stdout",
     "output_type": "stream",
     "text": [
      "totally cost 0.000965118408203125\n",
      "              precision    recall  f1-score   support\n",
      "\n",
      "           0       0.86      0.82      0.84      2250\n",
      "           1       0.93      0.95      0.94      5588\n",
      "\n",
      "    accuracy                           0.91      7838\n",
      "   macro avg       0.90      0.88      0.89      7838\n",
      "weighted avg       0.91      0.91      0.91      7838\n",
      "\n"
     ]
    }
   ],
   "source": [
    "import time\n",
    "time_start=time.time()\n",
    "from sklearn.ensemble import RandomForestClassifier\n",
    "clf = RandomForestClassifier(n_estimators=10)\n",
    "time_end=time.time()\n",
    "print('totally cost',time_end-time_start)\n",
    "clf = clf.fit(imputed_X_train, y_train)\n",
    "pred_test_y = clf.predict(imputed_X_valid)\n",
    "cr = sm.classification_report(y_valid, pred_test_y)\n",
    "\n",
    "print(cr)"
   ]
  },
  {
   "cell_type": "code",
   "execution_count": null,
   "id": "b4935775",
   "metadata": {},
   "outputs": [],
   "source": [
    "ac = sm.accuracy_score(y_valid, pred_test_y)\n",
    "ac"
   ]
  },
  {
   "cell_type": "code",
   "execution_count": null,
   "id": "dc174847",
   "metadata": {},
   "outputs": [],
   "source": [
    "imputed_X_train\n",
    "print(np.any(imputed_X_train.isnull()))"
   ]
  },
  {
   "cell_type": "code",
   "execution_count": null,
   "id": "57bba67d",
   "metadata": {},
   "outputs": [],
   "source": [
    "X_train_full"
   ]
  },
  {
   "cell_type": "code",
   "execution_count": null,
   "id": "6d442d78",
   "metadata": {},
   "outputs": [],
   "source": [
    "import wittgenstein as lw\n",
    "\n",
    "clf = lw.RIPPER()\n",
    "clf.fit(x, y)\n",
    "clf"
   ]
  },
  {
   "cell_type": "code",
   "execution_count": null,
   "id": "d2d35640",
   "metadata": {},
   "outputs": [],
   "source": [
    "clf.out_model()"
   ]
  },
  {
   "cell_type": "code",
   "execution_count": null,
   "id": "ac5530ae",
   "metadata": {
    "scrolled": true
   },
   "outputs": [],
   "source": [
    "clf.score(X_valid_full,y_valid)"
   ]
  },
  {
   "cell_type": "code",
   "execution_count": null,
   "id": "a29d9292",
   "metadata": {},
   "outputs": [],
   "source": [
    "pred_test_y = clf.predict(X_valid_full)\n",
    "\n",
    "cr = sm.classification_report(y_valid, pred_test_y)\n",
    "print(cr)"
   ]
  },
  {
   "cell_type": "code",
   "execution_count": null,
   "id": "5a25f76a",
   "metadata": {},
   "outputs": [],
   "source": [
    "from sklearn.neighbors import KNeighborsClassifier\n",
    "neigh = KNeighborsClassifier(n_neighbors=2)\n",
    "neigh.fit(imputed_X_train,y_train)\n",
    "pred_test_y = neigh.predict(imputed_X_valid)\n",
    "cr = sm.classification_report(y_valid, pred_test_y)\n",
    "print(cr)"
   ]
  },
  {
   "cell_type": "code",
   "execution_count": null,
   "id": "bd2457d4",
   "metadata": {},
   "outputs": [],
   "source": []
  }
 ],
 "metadata": {
  "kernelspec": {
   "display_name": "Python 3",
   "language": "python",
   "name": "python3"
  },
  "language_info": {
   "codemirror_mode": {
    "name": "ipython",
    "version": 3
   },
   "file_extension": ".py",
   "mimetype": "text/x-python",
   "name": "python",
   "nbconvert_exporter": "python",
   "pygments_lexer": "ipython3",
   "version": "3.8.3"
  }
 },
 "nbformat": 4,
 "nbformat_minor": 5
}
